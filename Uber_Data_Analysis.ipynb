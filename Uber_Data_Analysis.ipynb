{
  "nbformat": 4,
  "nbformat_minor": 0,
  "metadata": {
    "colab": {
      "name": "Uber_Data_Analysis.ipynb",
      "provenance": [],
      "collapsed_sections": [],
      "machine_shape": "hm",
      "include_colab_link": true
    },
    "kernelspec": {
      "name": "python3",
      "display_name": "Python 3"
    }
  },
  "cells": [
    {
      "cell_type": "markdown",
      "metadata": {
        "id": "view-in-github",
        "colab_type": "text"
      },
      "source": [
        "<a href=\"https://colab.research.google.com/github/hafsa636/Uber-Data-Analysis-/blob/master/Uber_Data_Analysis.ipynb\" target=\"_parent\"><img src=\"https://colab.research.google.com/assets/colab-badge.svg\" alt=\"Open In Colab\"/></a>"
      ]
    },
    {
      "cell_type": "markdown",
      "metadata": {
        "id": "4cbgwZWWfWpp"
      },
      "source": [
        "# New Section"
      ]
    },
    {
      "cell_type": "markdown",
      "metadata": {
        "id": "RugL6m8tNG87"
      },
      "source": [
        "# Import relevant libraries and define settings for plotting"
      ]
    },
    {
      "cell_type": "code",
      "metadata": {
        "id": "tAb77yZ9fzMG",
        "outputId": "2e18f4d9-7484-4c72-a7d0-4276a598380d",
        "colab": {
          "base_uri": "https://localhost:8080/",
          "height": 173
        }
      },
      "source": [
        "#Import relevant libraries and define settings for plotting.\n",
        "%matplotlib inline\n",
        "import sys\n",
        "print(sys.version)\n",
        "\n",
        "import numpy as np\n",
        "print ('Numpy version:'), np.__version__\n",
        "\n",
        "import pandas as pd\n",
        "print ('Pandas version:'), pd.__version__\n",
        "\n",
        "import matplotlib as mpl\n",
        "import matplotlib.pyplot as plt\n",
        "print ('Matplotlib version:'), mpl.__version__\n",
        "\n",
        "import seaborn as sns\n",
        "print ('Seaborn version:'), sns.__version__\n",
        "\n",
        "import datetime\n",
        "import time\n",
        "\n",
        "sns.set()\n",
        "pal = sns.hls_palette(10, h=.5)\n",
        "sns.set_palette(pal)\n",
        "\n",
        "#Avoid display of scientific notation and show precision of 4 decimals:\n",
        "pd.set_option('display.float_format', lambda x: '%.4f' % x)"
      ],
      "execution_count": null,
      "outputs": [
        {
          "output_type": "stream",
          "text": [
            "3.6.9 (default, Jul 17 2020, 12:50:27) \n",
            "[GCC 8.4.0]\n",
            "Numpy version:\n",
            "Pandas version:\n",
            "Matplotlib version:\n",
            "Seaborn version:\n"
          ],
          "name": "stdout"
        },
        {
          "output_type": "stream",
          "text": [
            "/usr/local/lib/python3.6/dist-packages/statsmodels/tools/_testing.py:19: FutureWarning: pandas.util.testing is deprecated. Use the functions in the public API at pandas.testing instead.\n",
            "  import pandas.util.testing as tm\n"
          ],
          "name": "stderr"
        }
      ]
    },
    {
      "cell_type": "code",
      "metadata": {
        "id": "qL7JYXUtGxa5",
        "outputId": "607cce10-4e23-43c1-9d83-2c96958b40c0",
        "colab": {
          "base_uri": "https://localhost:8080/",
          "height": 204
        }
      },
      "source": [
        " !wget https://s3.amazonaws.com/nyc-tlc/misc/uber_nyc_data.csv"
      ],
      "execution_count": null,
      "outputs": [
        {
          "output_type": "stream",
          "text": [
            "--2020-09-27 10:44:49--  https://s3.amazonaws.com/nyc-tlc/misc/uber_nyc_data.csv\n",
            "Resolving s3.amazonaws.com (s3.amazonaws.com)... 52.216.165.213\n",
            "Connecting to s3.amazonaws.com (s3.amazonaws.com)|52.216.165.213|:443... connected.\n",
            "HTTP request sent, awaiting response... 200 OK\n",
            "Length: 1473327561 (1.4G) [application/octet-stream]\n",
            "Saving to: ‘uber_nyc_data.csv’\n",
            "\n",
            "uber_nyc_data.csv   100%[===================>]   1.37G  83.1MB/s    in 18s     \n",
            "\n",
            "2020-09-27 10:45:08 (77.1 MB/s) - ‘uber_nyc_data.csv’ saved [1473327561/1473327561]\n",
            "\n"
          ],
          "name": "stdout"
        }
      ]
    },
    {
      "cell_type": "code",
      "metadata": {
        "id": "CbK0OBjOGxeW"
      },
      "source": [
        "#Load complete dataset from 9/1/2014 to 9/1/2015 with ~31M entries. No data dictionary is available.\n",
        "#Source: http://www.nyc.gov/html/tlc/html/about/trip_record_data.shtml \n",
        "#direct source: !curl -O https://s3.amazonaws.com/nyc-tlc/misc/uber_nyc_data.csv\n",
        "df_uber = pd.read_csv('uber_nyc_data.csv')"
      ],
      "execution_count": null,
      "outputs": []
    },
    {
      "cell_type": "code",
      "metadata": {
        "id": "-JGbE8lVGxhI",
        "outputId": "c45af98b-13fa-4174-e5ed-7e78cf7a0627",
        "colab": {
          "base_uri": "https://localhost:8080/",
          "height": 238
        }
      },
      "source": [
        "df_uber.info() #near 31 million entries, ~1.4GB"
      ],
      "execution_count": null,
      "outputs": [
        {
          "output_type": "stream",
          "text": [
            "<class 'pandas.core.frame.DataFrame'>\n",
            "RangeIndex: 30925738 entries, 0 to 30925737\n",
            "Data columns (total 6 columns):\n",
            " #   Column           Dtype  \n",
            "---  ------           -----  \n",
            " 0   id               int64  \n",
            " 1   origin_taz       object \n",
            " 2   destination_taz  object \n",
            " 3   pickup_datetime  object \n",
            " 4   trip_distance    float64\n",
            " 5   trip_duration    object \n",
            "dtypes: float64(1), int64(1), object(4)\n",
            "memory usage: 1.4+ GB\n"
          ],
          "name": "stdout"
        }
      ]
    },
    {
      "cell_type": "code",
      "metadata": {
        "id": "rG-aeF1dGxmY",
        "outputId": "931bce8c-f801-461b-9285-1021e84c25e3",
        "colab": {
          "base_uri": "https://localhost:8080/",
          "height": 204
        }
      },
      "source": [
        "df_uber.head()"
      ],
      "execution_count": null,
      "outputs": [
        {
          "output_type": "execute_result",
          "data": {
            "text/html": [
              "<div>\n",
              "<style scoped>\n",
              "    .dataframe tbody tr th:only-of-type {\n",
              "        vertical-align: middle;\n",
              "    }\n",
              "\n",
              "    .dataframe tbody tr th {\n",
              "        vertical-align: top;\n",
              "    }\n",
              "\n",
              "    .dataframe thead th {\n",
              "        text-align: right;\n",
              "    }\n",
              "</style>\n",
              "<table border=\"1\" class=\"dataframe\">\n",
              "  <thead>\n",
              "    <tr style=\"text-align: right;\">\n",
              "      <th></th>\n",
              "      <th>id</th>\n",
              "      <th>origin_taz</th>\n",
              "      <th>destination_taz</th>\n",
              "      <th>pickup_datetime</th>\n",
              "      <th>trip_distance</th>\n",
              "      <th>trip_duration</th>\n",
              "    </tr>\n",
              "  </thead>\n",
              "  <tbody>\n",
              "    <tr>\n",
              "      <th>0</th>\n",
              "      <td>252581</td>\n",
              "      <td>7C</td>\n",
              "      <td>6A</td>\n",
              "      <td>2014-09-01 09:00:00</td>\n",
              "      <td>4.2500</td>\n",
              "      <td>0:15:11</td>\n",
              "    </tr>\n",
              "    <tr>\n",
              "      <th>1</th>\n",
              "      <td>252582</td>\n",
              "      <td>7B</td>\n",
              "      <td>15</td>\n",
              "      <td>2014-09-01 18:00:00</td>\n",
              "      <td>10.1700</td>\n",
              "      <td>0:34:05</td>\n",
              "    </tr>\n",
              "    <tr>\n",
              "      <th>2</th>\n",
              "      <td>252583</td>\n",
              "      <td>11</td>\n",
              "      <td>2A</td>\n",
              "      <td>2014-09-01 17:00:00</td>\n",
              "      <td>4.0200</td>\n",
              "      <td>0:17:06</td>\n",
              "    </tr>\n",
              "    <tr>\n",
              "      <th>3</th>\n",
              "      <td>252584</td>\n",
              "      <td>3B</td>\n",
              "      <td>4A</td>\n",
              "      <td>2014-09-01 13:00:00</td>\n",
              "      <td>1.4600</td>\n",
              "      <td>0:06:32</td>\n",
              "    </tr>\n",
              "    <tr>\n",
              "      <th>4</th>\n",
              "      <td>252585</td>\n",
              "      <td>2A</td>\n",
              "      <td>10</td>\n",
              "      <td>2014-09-01 14:00:00</td>\n",
              "      <td>8.3100</td>\n",
              "      <td>0:26:17</td>\n",
              "    </tr>\n",
              "  </tbody>\n",
              "</table>\n",
              "</div>"
            ],
            "text/plain": [
              "       id origin_taz  ... trip_distance trip_duration\n",
              "0  252581         7C  ...        4.2500       0:15:11\n",
              "1  252582         7B  ...       10.1700       0:34:05\n",
              "2  252583         11  ...        4.0200       0:17:06\n",
              "3  252584         3B  ...        1.4600       0:06:32\n",
              "4  252585         2A  ...        8.3100       0:26:17\n",
              "\n",
              "[5 rows x 6 columns]"
            ]
          },
          "metadata": {
            "tags": []
          },
          "execution_count": 5
        }
      ]
    },
    {
      "cell_type": "code",
      "metadata": {
        "id": "VwWiS6-pGxp3",
        "outputId": "55f9453d-fd65-4f27-e581-88806e782b0e",
        "colab": {
          "base_uri": "https://localhost:8080/",
          "height": 34
        }
      },
      "source": [
        "#The ID is unique\n",
        "len(df_uber.id.unique())"
      ],
      "execution_count": null,
      "outputs": [
        {
          "output_type": "execute_result",
          "data": {
            "text/plain": [
              "30925738"
            ]
          },
          "metadata": {
            "tags": []
          },
          "execution_count": 6
        }
      ]
    },
    {
      "cell_type": "markdown",
      "metadata": {
        "id": "f-KtBfgfOX3c"
      },
      "source": [
        "## Check for missing or possibly erroneous data."
      ]
    },
    {
      "cell_type": "code",
      "metadata": {
        "id": "p_AWO64zGxtL",
        "outputId": "795ca456-d791-434c-e907-d69500e5b6c3",
        "colab": {
          "base_uri": "https://localhost:8080/",
          "height": 34
        }
      },
      "source": [
        "#There are no duplicated rows (this takes a while to run):\n",
        "len(df_uber[df_uber.duplicated() == True])"
      ],
      "execution_count": null,
      "outputs": [
        {
          "output_type": "execute_result",
          "data": {
            "text/plain": [
              "0"
            ]
          },
          "metadata": {
            "tags": []
          },
          "execution_count": 7
        }
      ]
    },
    {
      "cell_type": "code",
      "metadata": {
        "id": "n4kQ9LFAGxwX",
        "outputId": "4ea9daf4-d089-4256-e3a4-2405a275e44d",
        "colab": {
          "base_uri": "https://localhost:8080/",
          "height": 136
        }
      },
      "source": [
        "#Show total null values per column. Use .any() in lieu of .sum() to just show which columns.\n",
        "df_uber.isnull().sum() #Note: ~1.3 million destination entries (4%) are null (missing)"
      ],
      "execution_count": null,
      "outputs": [
        {
          "output_type": "execute_result",
          "data": {
            "text/plain": [
              "id                       0\n",
              "origin_taz               0\n",
              "destination_taz    1273023\n",
              "pickup_datetime          0\n",
              "trip_distance           38\n",
              "trip_duration           38\n",
              "dtype: int64"
            ]
          },
          "metadata": {
            "tags": []
          },
          "execution_count": 8
        }
      ]
    },
    {
      "cell_type": "code",
      "metadata": {
        "id": "wqmZxfjjGxy7",
        "outputId": "58359947-1a3a-400d-b05f-4dbc912dd04e",
        "colab": {
          "base_uri": "https://localhost:8080/",
          "height": 68
        }
      },
      "source": [
        "arr1 = df_uber.origin_taz.unique() #28 unique origin codes\n",
        "arr1"
      ],
      "execution_count": null,
      "outputs": [
        {
          "output_type": "execute_result",
          "data": {
            "text/plain": [
              "array(['7C', '7B', '11', '3B', '2A', '5B', '10', '2B', '9', '6B', '15',\n",
              "       '4C', '5A', '8', '14', '4A', '7A', '1', '16', '3A', '2C', '6A',\n",
              "       '12', '13', '3C', '4B', '5C', '17'], dtype=object)"
            ]
          },
          "metadata": {
            "tags": []
          },
          "execution_count": 9
        }
      ]
    },
    {
      "cell_type": "code",
      "metadata": {
        "id": "iPanEBSiGx2t",
        "outputId": "2e79cf10-5205-416c-9980-73e53be1a86b",
        "colab": {
          "base_uri": "https://localhost:8080/",
          "height": 68
        }
      },
      "source": [
        "arr2 = df_uber.destination_taz.unique() #30 unique destination codes, same as origin except for nan and 18.\n",
        "arr2"
      ],
      "execution_count": null,
      "outputs": [
        {
          "output_type": "execute_result",
          "data": {
            "text/plain": [
              "array(['6A', '15', '2A', '4A', '10', '4C', '7A', '3C', '5B', '14', '8',\n",
              "       nan, '7C', '12', '2C', '1', '6B', '5C', '9', '3A', '2B', '11',\n",
              "       '7B', '5A', '13', '4B', '18', '16', '3B', '17'], dtype=object)"
            ]
          },
          "metadata": {
            "tags": []
          },
          "execution_count": 10
        }
      ]
    },
    {
      "cell_type": "code",
      "metadata": {
        "id": "oeqydE0GGx5Z",
        "outputId": "757c055f-bdff-4cc1-eac4-64f384123567",
        "colab": {
          "base_uri": "https://localhost:8080/",
          "height": 34
        }
      },
      "source": [
        "set(arr2) - set(arr1) #maybe code 18 represents EWR airport?"
      ],
      "execution_count": null,
      "outputs": [
        {
          "output_type": "execute_result",
          "data": {
            "text/plain": [
              "{'18', nan}"
            ]
          },
          "metadata": {
            "tags": []
          },
          "execution_count": 11
        }
      ]
    },
    {
      "cell_type": "code",
      "metadata": {
        "id": "AnnRlDeHGx8L",
        "outputId": "4ede38d4-6244-4203-d646-6e88fdce1dc7",
        "colab": {
          "base_uri": "https://localhost:8080/",
          "height": 204
        }
      },
      "source": [
        "#Check some of the data with missing destination. \n",
        "#One idea to fill missing values would be predict destination based on the other features.\n",
        "df_uber[df_uber.destination_taz.isnull()].head()"
      ],
      "execution_count": null,
      "outputs": [
        {
          "output_type": "execute_result",
          "data": {
            "text/html": [
              "<div>\n",
              "<style scoped>\n",
              "    .dataframe tbody tr th:only-of-type {\n",
              "        vertical-align: middle;\n",
              "    }\n",
              "\n",
              "    .dataframe tbody tr th {\n",
              "        vertical-align: top;\n",
              "    }\n",
              "\n",
              "    .dataframe thead th {\n",
              "        text-align: right;\n",
              "    }\n",
              "</style>\n",
              "<table border=\"1\" class=\"dataframe\">\n",
              "  <thead>\n",
              "    <tr style=\"text-align: right;\">\n",
              "      <th></th>\n",
              "      <th>id</th>\n",
              "      <th>origin_taz</th>\n",
              "      <th>destination_taz</th>\n",
              "      <th>pickup_datetime</th>\n",
              "      <th>trip_distance</th>\n",
              "      <th>trip_duration</th>\n",
              "    </tr>\n",
              "  </thead>\n",
              "  <tbody>\n",
              "    <tr>\n",
              "      <th>15</th>\n",
              "      <td>252596</td>\n",
              "      <td>6B</td>\n",
              "      <td>NaN</td>\n",
              "      <td>2014-09-01 17:00:00</td>\n",
              "      <td>11.6700</td>\n",
              "      <td>0:23:45</td>\n",
              "    </tr>\n",
              "    <tr>\n",
              "      <th>32</th>\n",
              "      <td>252613</td>\n",
              "      <td>9</td>\n",
              "      <td>NaN</td>\n",
              "      <td>2014-09-01 16:00:00</td>\n",
              "      <td>80.6900</td>\n",
              "      <td>1:59:37</td>\n",
              "    </tr>\n",
              "    <tr>\n",
              "      <th>63</th>\n",
              "      <td>252644</td>\n",
              "      <td>9</td>\n",
              "      <td>NaN</td>\n",
              "      <td>2014-09-01 18:00:00</td>\n",
              "      <td>23.0700</td>\n",
              "      <td>1:03:37</td>\n",
              "    </tr>\n",
              "    <tr>\n",
              "      <th>141</th>\n",
              "      <td>252722</td>\n",
              "      <td>9</td>\n",
              "      <td>NaN</td>\n",
              "      <td>2014-09-01 10:00:00</td>\n",
              "      <td>21.7300</td>\n",
              "      <td>0:41:12</td>\n",
              "    </tr>\n",
              "    <tr>\n",
              "      <th>148</th>\n",
              "      <td>252729</td>\n",
              "      <td>4B</td>\n",
              "      <td>NaN</td>\n",
              "      <td>2014-09-01 10:00:00</td>\n",
              "      <td>4.6200</td>\n",
              "      <td>0:14:55</td>\n",
              "    </tr>\n",
              "  </tbody>\n",
              "</table>\n",
              "</div>"
            ],
            "text/plain": [
              "         id origin_taz  ... trip_distance trip_duration\n",
              "15   252596         6B  ...       11.6700       0:23:45\n",
              "32   252613          9  ...       80.6900       1:59:37\n",
              "63   252644          9  ...       23.0700       1:03:37\n",
              "141  252722          9  ...       21.7300       0:41:12\n",
              "148  252729         4B  ...        4.6200       0:14:55\n",
              "\n",
              "[5 rows x 6 columns]"
            ]
          },
          "metadata": {
            "tags": []
          },
          "execution_count": 12
        }
      ]
    },
    {
      "cell_type": "code",
      "metadata": {
        "id": "X2WoTyovGx-q",
        "outputId": "3518bedc-0ebd-44e4-843b-558ea27c0e08",
        "colab": {
          "base_uri": "https://localhost:8080/",
          "height": 204
        }
      },
      "source": [
        "#There are 38 records with values missing for trip distance and duration, none of which are missing the destination.\n",
        "df38 = df_uber[df_uber.trip_duration.isnull() & df_uber.trip_distance.isnull()]\n",
        "df38.head()"
      ],
      "execution_count": null,
      "outputs": [
        {
          "output_type": "execute_result",
          "data": {
            "text/html": [
              "<div>\n",
              "<style scoped>\n",
              "    .dataframe tbody tr th:only-of-type {\n",
              "        vertical-align: middle;\n",
              "    }\n",
              "\n",
              "    .dataframe tbody tr th {\n",
              "        vertical-align: top;\n",
              "    }\n",
              "\n",
              "    .dataframe thead th {\n",
              "        text-align: right;\n",
              "    }\n",
              "</style>\n",
              "<table border=\"1\" class=\"dataframe\">\n",
              "  <thead>\n",
              "    <tr style=\"text-align: right;\">\n",
              "      <th></th>\n",
              "      <th>id</th>\n",
              "      <th>origin_taz</th>\n",
              "      <th>destination_taz</th>\n",
              "      <th>pickup_datetime</th>\n",
              "      <th>trip_distance</th>\n",
              "      <th>trip_duration</th>\n",
              "    </tr>\n",
              "  </thead>\n",
              "  <tbody>\n",
              "    <tr>\n",
              "      <th>15155317</th>\n",
              "      <td>39535</td>\n",
              "      <td>2A</td>\n",
              "      <td>11</td>\n",
              "      <td>2015-04-25 12:00:00</td>\n",
              "      <td>nan</td>\n",
              "      <td>NaN</td>\n",
              "    </tr>\n",
              "    <tr>\n",
              "      <th>15245057</th>\n",
              "      <td>1009076</td>\n",
              "      <td>2A</td>\n",
              "      <td>2A</td>\n",
              "      <td>2015-04-26 01:00:00</td>\n",
              "      <td>nan</td>\n",
              "      <td>NaN</td>\n",
              "    </tr>\n",
              "    <tr>\n",
              "      <th>16519652</th>\n",
              "      <td>15028665</td>\n",
              "      <td>2A</td>\n",
              "      <td>7C</td>\n",
              "      <td>2015-04-29 21:00:00</td>\n",
              "      <td>nan</td>\n",
              "      <td>NaN</td>\n",
              "    </tr>\n",
              "    <tr>\n",
              "      <th>17148253</th>\n",
              "      <td>22250173</td>\n",
              "      <td>2A</td>\n",
              "      <td>2A</td>\n",
              "      <td>2015-04-12 02:00:00</td>\n",
              "      <td>nan</td>\n",
              "      <td>NaN</td>\n",
              "    </tr>\n",
              "    <tr>\n",
              "      <th>17297563</th>\n",
              "      <td>23716998</td>\n",
              "      <td>2C</td>\n",
              "      <td>11</td>\n",
              "      <td>2015-04-25 13:00:00</td>\n",
              "      <td>nan</td>\n",
              "      <td>NaN</td>\n",
              "    </tr>\n",
              "  </tbody>\n",
              "</table>\n",
              "</div>"
            ],
            "text/plain": [
              "                id origin_taz  ... trip_distance trip_duration\n",
              "15155317     39535         2A  ...           nan           NaN\n",
              "15245057   1009076         2A  ...           nan           NaN\n",
              "16519652  15028665         2A  ...           nan           NaN\n",
              "17148253  22250173         2A  ...           nan           NaN\n",
              "17297563  23716998         2C  ...           nan           NaN\n",
              "\n",
              "[5 rows x 6 columns]"
            ]
          },
          "metadata": {
            "tags": []
          },
          "execution_count": 13
        }
      ]
    },
    {
      "cell_type": "code",
      "metadata": {
        "id": "f7rMr6czGyEK",
        "outputId": "0063f53f-7106-4801-8cc1-6a6aac69a312",
        "colab": {
          "base_uri": "https://localhost:8080/",
          "height": 34
        }
      },
      "source": [
        "#All cases for which trip_duration is null match the cases for which trip_distance is also null:\n",
        "len(df_uber[(df_uber.trip_duration.isnull() == False) & (df_uber.trip_distance.isnull())])"
      ],
      "execution_count": null,
      "outputs": [
        {
          "output_type": "execute_result",
          "data": {
            "text/plain": [
              "0"
            ]
          },
          "metadata": {
            "tags": []
          },
          "execution_count": 14
        }
      ]
    },
    {
      "cell_type": "markdown",
      "metadata": {
        "id": "oZk-w8rzPLjC"
      },
      "source": [
        "\n",
        "# Parse the pickup_datetime column to datetime type and create related features."
      ]
    },
    {
      "cell_type": "code",
      "metadata": {
        "id": "Pmha6rFEGyG7",
        "outputId": "770acc53-320c-4417-d074-51117ee32759",
        "colab": {
          "base_uri": "https://localhost:8080/",
          "height": 34
        }
      },
      "source": [
        "#None of the pickup time data offer minutes or seconds precision\n",
        "len(df_uber[df_uber.pickup_datetime.apply(lambda x: x[-5:] == '00:00') == False])"
      ],
      "execution_count": null,
      "outputs": [
        {
          "output_type": "execute_result",
          "data": {
            "text/plain": [
              "0"
            ]
          },
          "metadata": {
            "tags": []
          },
          "execution_count": 15
        }
      ]
    },
    {
      "cell_type": "code",
      "metadata": {
        "id": "RyOi7k-7GyLr"
      },
      "source": [
        "def dateParser(s):\n",
        "    \"\"\"\n",
        "    Function that takes a string in the format yyyy-mm-dd hh:mm:ss, and\n",
        "    returns the same as a datetime object.\n",
        "    \"\"\"\n",
        "    return datetime.datetime(int(s[0:4]), int(s[5:7]), int(s[8:10]), int(s[11:13]))\n",
        "\n",
        "#Other methods were tried, all slower (the slowest being parsing while reading file in Pandas):\n",
        "#return datetime.strptime(s, \"%Y-%m-%d %H:%M:%S.%f\")\n",
        "#return np.datetime64(s) equivalent to: np.array(df_uber.pickup_datetime[0]).astype(np.datetime64)\n",
        "#return pandas.Timestamp(s, \"%Y-%m-%d %H:%M:%S.%f\", tz='utc' )\n",
        "#source: http://stackoverflow.com/questions/11136006/python-pandas-what-is-the-fastest-way-to-create-a-datetime-index"
      ],
      "execution_count": null,
      "outputs": []
    },
    {
      "cell_type": "code",
      "metadata": {
        "id": "CEW9ExRHGyPc",
        "outputId": "4e8a5184-9f3d-47cb-9043-0183ee9bee73",
        "colab": {
          "base_uri": "https://localhost:8080/",
          "height": 34
        }
      },
      "source": [
        "#Apply parser to data\n",
        "t0 = time.time()\n",
        "df_uber['pu_date_hour'] = df_uber.pickup_datetime.apply(dateParser)\n",
        "time.time() - t0"
      ],
      "execution_count": null,
      "outputs": [
        {
          "output_type": "execute_result",
          "data": {
            "text/plain": [
              "42.46958255767822"
            ]
          },
          "metadata": {
            "tags": []
          },
          "execution_count": 17
        }
      ]
    },
    {
      "cell_type": "code",
      "metadata": {
        "id": "pafL7Li0jyXW",
        "outputId": "47811839-2d65-4d69-a816-9ec9a1bad8b1",
        "colab": {
          "base_uri": "https://localhost:8080/",
          "height": 34
        }
      },
      "source": [
        "\n",
        "#Data encompasses exactly 365 days from Sept 1st, 2014 to Sep 1st, 2015.\n",
        "beginning = df_uber.pu_date_hour.min()\n",
        "end = df_uber.pu_date_hour.max()\n",
        "print (beginning, end, end - beginning)"
      ],
      "execution_count": null,
      "outputs": [
        {
          "output_type": "stream",
          "text": [
            "2014-09-01 00:00:00 2015-09-01 00:00:00 365 days 00:00:00\n"
          ],
          "name": "stdout"
        }
      ]
    },
    {
      "cell_type": "code",
      "metadata": {
        "id": "MyGnd1FgJ0Do"
      },
      "source": [
        "#Drop repeated column\n",
        "df_uber = df_uber.drop('pickup_datetime', axis=1)"
      ],
      "execution_count": null,
      "outputs": []
    },
    {
      "cell_type": "markdown",
      "metadata": {
        "id": "K6K074CqPczW"
      },
      "source": [
        "# Get the federal holidays for the period (useful for analyzing data later)"
      ]
    },
    {
      "cell_type": "code",
      "metadata": {
        "id": "zFtW3R8JJ0Gk",
        "outputId": "8a742334-2450-45f8-fc7e-37fd7fd9e78b",
        "colab": {
          "base_uri": "https://localhost:8080/",
          "height": 204
        }
      },
      "source": [
        "#Get all federal holidays in the period\n",
        "from pandas.tseries.holiday import USFederalHolidayCalendar\n",
        "\n",
        "#if return_name is True, then name is series value and date is the series index, otherwise date is series value.\n",
        "holidays = USFederalHolidayCalendar().holidays(beginning, end, return_name = True) \n",
        "holidays"
      ],
      "execution_count": null,
      "outputs": [
        {
          "output_type": "execute_result",
          "data": {
            "text/plain": [
              "2014-09-01                     Labor Day\n",
              "2014-10-13                  Columbus Day\n",
              "2014-11-11                  Veterans Day\n",
              "2014-11-27                  Thanksgiving\n",
              "2014-12-25                     Christmas\n",
              "2015-01-01                 New Years Day\n",
              "2015-01-19    Martin Luther King Jr. Day\n",
              "2015-02-16                Presidents Day\n",
              "2015-05-25                  Memorial Day\n",
              "2015-07-03                      July 4th\n",
              "dtype: object"
            ]
          },
          "metadata": {
            "tags": []
          },
          "execution_count": 20
        }
      ]
    },
    {
      "cell_type": "code",
      "metadata": {
        "id": "Fn5V02vGJ0Jm",
        "outputId": "7e29d9a2-7d2b-4815-f4c5-bf68740a29a9",
        "colab": {
          "base_uri": "https://localhost:8080/",
          "height": 34
        }
      },
      "source": [
        "#Extract the weekday for each holiday\n",
        "holidays.index.map(lambda x: x.strftime('%a'))"
      ],
      "execution_count": null,
      "outputs": [
        {
          "output_type": "execute_result",
          "data": {
            "text/plain": [
              "Index(['Mon', 'Mon', 'Tue', 'Thu', 'Thu', 'Thu', 'Mon', 'Mon', 'Mon', 'Fri'], dtype='object')"
            ]
          },
          "metadata": {
            "tags": []
          },
          "execution_count": 21
        }
      ]
    },
    {
      "cell_type": "code",
      "metadata": {
        "id": "isSIlujKJ0Mj",
        "outputId": "0b6877ff-79bd-40d8-ccd2-13030045f33b",
        "colab": {
          "base_uri": "https://localhost:8080/",
          "height": 204
        }
      },
      "source": [
        "#For completeness, let's add the day before and after the holidays (better: add day after if Thursday)\n",
        "holidays_all = pd.concat([holidays, \"Day After \" + holidays.shift(1, 'D'), \"Day Before \" + holidays.shift(-1, 'D')])\n",
        "holidays_all = holidays_all.sort_index()\n",
        "holidays_all.head(10)"
      ],
      "execution_count": null,
      "outputs": [
        {
          "output_type": "execute_result",
          "data": {
            "text/plain": [
              "2014-08-31       Day Before Labor Day\n",
              "2014-09-01                  Labor Day\n",
              "2014-09-02        Day After Labor Day\n",
              "2014-10-12    Day Before Columbus Day\n",
              "2014-10-13               Columbus Day\n",
              "2014-10-14     Day After Columbus Day\n",
              "2014-11-10    Day Before Veterans Day\n",
              "2014-11-11               Veterans Day\n",
              "2014-11-12     Day After Veterans Day\n",
              "2014-11-26    Day Before Thanksgiving\n",
              "dtype: object"
            ]
          },
          "metadata": {
            "tags": []
          },
          "execution_count": 22
        }
      ]
    },
    {
      "cell_type": "markdown",
      "metadata": {
        "id": "V4IPYpISPzMi"
      },
      "source": [
        "# Create other date and time features."
      ]
    },
    {
      "cell_type": "code",
      "metadata": {
        "id": "NDjja1rxJ0PV",
        "outputId": "48e50ea2-8be6-459f-b46e-bc2702a892e6",
        "colab": {
          "base_uri": "https://localhost:8080/",
          "height": 34
        }
      },
      "source": [
        "#Create a column with the date, without the time. This will be useful later.\n",
        "t0 = time.time()\n",
        "df_uber['pu_date'] = pd.Series(map(lambda x: x.astype('datetime64[D]'), df_uber['pu_date_hour'].values))\n",
        "#df_uber['pu_date'] = df_uber['pu_date_hour'].dt.date #this is way less memory effective and 11 sec slower to execute\n",
        "time.time() - t0"
      ],
      "execution_count": null,
      "outputs": [
        {
          "output_type": "execute_result",
          "data": {
            "text/plain": [
              "48.927480697631836"
            ]
          },
          "metadata": {
            "tags": []
          },
          "execution_count": 23
        }
      ]
    },
    {
      "cell_type": "code",
      "metadata": {
        "id": "23DQZ6Y1J0SC"
      },
      "source": [
        "#Get month and year from pick up timestamp\n",
        "df_uber['year'] = df_uber['pu_date_hour'].dt.year\n",
        "df_uber['month'] = df_uber['pu_date_hour'].dt.month"
      ],
      "execution_count": null,
      "outputs": []
    },
    {
      "cell_type": "code",
      "metadata": {
        "id": "Vo2OduONJ0VV",
        "outputId": "29b2e187-6542-4c4f-bb95-17cbfcdeb09b",
        "colab": {
          "base_uri": "https://localhost:8080/",
          "height": 34
        }
      },
      "source": [
        "\n",
        "#Get trip pick up day of the month\n",
        "t0 = time.time()\n",
        "df_uber['day'] = df_uber['pu_date_hour'].dt.day #.apply(lambda x: x.day) = 105 seconds vs < 2 seconds with dt\n",
        "time.time() - t0"
      ],
      "execution_count": null,
      "outputs": [
        {
          "output_type": "execute_result",
          "data": {
            "text/plain": [
              "2.845065116882324"
            ]
          },
          "metadata": {
            "tags": []
          },
          "execution_count": 25
        }
      ]
    },
    {
      "cell_type": "code",
      "metadata": {
        "id": "Tg43CU3pKb7C",
        "outputId": "a29c442f-aa6c-4b9f-d7df-35b490c99ef4",
        "colab": {
          "base_uri": "https://localhost:8080/",
          "height": 34
        }
      },
      "source": [
        "#Get trip pick up hour from timestamp\n",
        "t0 = time.time()\n",
        "df_uber['hour'] = df_uber['pu_date_hour'].dt.hour #< 2 seconds vs 101 seconds using apply lambda\n",
        "time.time() - t0"
      ],
      "execution_count": null,
      "outputs": [
        {
          "output_type": "execute_result",
          "data": {
            "text/plain": [
              "2.9041919708251953"
            ]
          },
          "metadata": {
            "tags": []
          },
          "execution_count": 26
        }
      ]
    },
    {
      "cell_type": "code",
      "metadata": {
        "id": "wjNZr7JaKb_Q",
        "outputId": "1ba81f70-a402-4aa5-b008-fd53c8ff3964",
        "colab": {
          "base_uri": "https://localhost:8080/",
          "height": 34
        }
      },
      "source": [
        "#Get trip pick up weekday from timestamp\n",
        "t0 = time.time()\n",
        "df_uber['weekday'] = df_uber['pu_date_hour'].dt.dayofweek\n",
        "time.time() - t0"
      ],
      "execution_count": null,
      "outputs": [
        {
          "output_type": "execute_result",
          "data": {
            "text/plain": [
              "3.1831843852996826"
            ]
          },
          "metadata": {
            "tags": []
          },
          "execution_count": 27
        }
      ]
    },
    {
      "cell_type": "code",
      "metadata": {
        "id": "1lrTog3PKcC0",
        "outputId": "c658f12b-22c9-45f8-d164-a8051e0539d7",
        "colab": {
          "base_uri": "https://localhost:8080/",
          "height": 153
        }
      },
      "source": [
        "df_uber.weekday.value_counts() #Monday = 0, Sunday = 6"
      ],
      "execution_count": null,
      "outputs": [
        {
          "output_type": "execute_result",
          "data": {
            "text/plain": [
              "5    5142832\n",
              "4    4805002\n",
              "3    4625511\n",
              "6    4331195\n",
              "2    4301537\n",
              "1    4010434\n",
              "0    3709227\n",
              "Name: weekday, dtype: int64"
            ]
          },
          "metadata": {
            "tags": []
          },
          "execution_count": 28
        }
      ]
    },
    {
      "cell_type": "code",
      "metadata": {
        "id": "rs5raQ0KKcGV",
        "outputId": "2d03196c-ebab-4352-b71e-3ebbd0b77ded",
        "colab": {
          "base_uri": "https://localhost:8080/",
          "height": 309
        }
      },
      "source": [
        "df_uber.head()"
      ],
      "execution_count": null,
      "outputs": [
        {
          "output_type": "execute_result",
          "data": {
            "text/html": [
              "<div>\n",
              "<style scoped>\n",
              "    .dataframe tbody tr th:only-of-type {\n",
              "        vertical-align: middle;\n",
              "    }\n",
              "\n",
              "    .dataframe tbody tr th {\n",
              "        vertical-align: top;\n",
              "    }\n",
              "\n",
              "    .dataframe thead th {\n",
              "        text-align: right;\n",
              "    }\n",
              "</style>\n",
              "<table border=\"1\" class=\"dataframe\">\n",
              "  <thead>\n",
              "    <tr style=\"text-align: right;\">\n",
              "      <th></th>\n",
              "      <th>id</th>\n",
              "      <th>origin_taz</th>\n",
              "      <th>destination_taz</th>\n",
              "      <th>trip_distance</th>\n",
              "      <th>trip_duration</th>\n",
              "      <th>pu_date_hour</th>\n",
              "      <th>pu_date</th>\n",
              "      <th>year</th>\n",
              "      <th>month</th>\n",
              "      <th>day</th>\n",
              "      <th>hour</th>\n",
              "      <th>weekday</th>\n",
              "    </tr>\n",
              "  </thead>\n",
              "  <tbody>\n",
              "    <tr>\n",
              "      <th>0</th>\n",
              "      <td>252581</td>\n",
              "      <td>7C</td>\n",
              "      <td>6A</td>\n",
              "      <td>4.2500</td>\n",
              "      <td>0:15:11</td>\n",
              "      <td>2014-09-01 09:00:00</td>\n",
              "      <td>2014-09-01</td>\n",
              "      <td>2014</td>\n",
              "      <td>9</td>\n",
              "      <td>1</td>\n",
              "      <td>9</td>\n",
              "      <td>0</td>\n",
              "    </tr>\n",
              "    <tr>\n",
              "      <th>1</th>\n",
              "      <td>252582</td>\n",
              "      <td>7B</td>\n",
              "      <td>15</td>\n",
              "      <td>10.1700</td>\n",
              "      <td>0:34:05</td>\n",
              "      <td>2014-09-01 18:00:00</td>\n",
              "      <td>2014-09-01</td>\n",
              "      <td>2014</td>\n",
              "      <td>9</td>\n",
              "      <td>1</td>\n",
              "      <td>18</td>\n",
              "      <td>0</td>\n",
              "    </tr>\n",
              "    <tr>\n",
              "      <th>2</th>\n",
              "      <td>252583</td>\n",
              "      <td>11</td>\n",
              "      <td>2A</td>\n",
              "      <td>4.0200</td>\n",
              "      <td>0:17:06</td>\n",
              "      <td>2014-09-01 17:00:00</td>\n",
              "      <td>2014-09-01</td>\n",
              "      <td>2014</td>\n",
              "      <td>9</td>\n",
              "      <td>1</td>\n",
              "      <td>17</td>\n",
              "      <td>0</td>\n",
              "    </tr>\n",
              "    <tr>\n",
              "      <th>3</th>\n",
              "      <td>252584</td>\n",
              "      <td>3B</td>\n",
              "      <td>4A</td>\n",
              "      <td>1.4600</td>\n",
              "      <td>0:06:32</td>\n",
              "      <td>2014-09-01 13:00:00</td>\n",
              "      <td>2014-09-01</td>\n",
              "      <td>2014</td>\n",
              "      <td>9</td>\n",
              "      <td>1</td>\n",
              "      <td>13</td>\n",
              "      <td>0</td>\n",
              "    </tr>\n",
              "    <tr>\n",
              "      <th>4</th>\n",
              "      <td>252585</td>\n",
              "      <td>2A</td>\n",
              "      <td>10</td>\n",
              "      <td>8.3100</td>\n",
              "      <td>0:26:17</td>\n",
              "      <td>2014-09-01 14:00:00</td>\n",
              "      <td>2014-09-01</td>\n",
              "      <td>2014</td>\n",
              "      <td>9</td>\n",
              "      <td>1</td>\n",
              "      <td>14</td>\n",
              "      <td>0</td>\n",
              "    </tr>\n",
              "  </tbody>\n",
              "</table>\n",
              "</div>"
            ],
            "text/plain": [
              "       id origin_taz destination_taz  trip_distance  ... month day hour  weekday\n",
              "0  252581         7C              6A         4.2500  ...     9   1    9        0\n",
              "1  252582         7B              15        10.1700  ...     9   1   18        0\n",
              "2  252583         11              2A         4.0200  ...     9   1   17        0\n",
              "3  252584         3B              4A         1.4600  ...     9   1   13        0\n",
              "4  252585         2A              10         8.3100  ...     9   1   14        0\n",
              "\n",
              "[5 rows x 12 columns]"
            ]
          },
          "metadata": {
            "tags": []
          },
          "execution_count": 29
        }
      ]
    },
    {
      "cell_type": "code",
      "metadata": {
        "id": "KuIcyNHLKcJn",
        "outputId": "dd964148-a8d1-4d4c-be79-9a1fd7c345d7",
        "colab": {
          "base_uri": "https://localhost:8080/",
          "height": 340
        }
      },
      "source": [
        "df_uber.info()"
      ],
      "execution_count": null,
      "outputs": [
        {
          "output_type": "stream",
          "text": [
            "<class 'pandas.core.frame.DataFrame'>\n",
            "RangeIndex: 30925738 entries, 0 to 30925737\n",
            "Data columns (total 12 columns):\n",
            " #   Column           Dtype         \n",
            "---  ------           -----         \n",
            " 0   id               int64         \n",
            " 1   origin_taz       object        \n",
            " 2   destination_taz  object        \n",
            " 3   trip_distance    float64       \n",
            " 4   trip_duration    object        \n",
            " 5   pu_date_hour     datetime64[ns]\n",
            " 6   pu_date          datetime64[ns]\n",
            " 7   year             int64         \n",
            " 8   month            int64         \n",
            " 9   day              int64         \n",
            " 10  hour             int64         \n",
            " 11  weekday          int64         \n",
            "dtypes: datetime64[ns](2), float64(1), int64(6), object(3)\n",
            "memory usage: 2.8+ GB\n"
          ],
          "name": "stdout"
        }
      ]
    },
    {
      "cell_type": "markdown",
      "metadata": {
        "id": "r6tVtIVhQA7j"
      },
      "source": [
        "# Transform trip duration data."
      ]
    },
    {
      "cell_type": "code",
      "metadata": {
        "id": "5fMAXolDKcNl"
      },
      "source": [
        "uniq_dur = df_uber[df_uber.trip_duration.isnull() == False].trip_duration.unique() #19393"
      ],
      "execution_count": null,
      "outputs": []
    },
    {
      "cell_type": "code",
      "metadata": {
        "id": "A1UK-fXzKcRP",
        "outputId": "93d7c522-c83f-4150-cbbe-9b16b9808bce",
        "colab": {
          "base_uri": "https://localhost:8080/",
          "height": 34
        }
      },
      "source": [
        "#Among unique duration strings, find how many represent >= 10h of duration:\n",
        "long_duration = [] #>= 10 hours or 600 minutes\n",
        "for item in uniq_dur:\n",
        "    if len(item) != 7:\n",
        "        long_duration.append(item)\n",
        "\n",
        "#long_duration\n",
        "print (len(long_duration))"
      ],
      "execution_count": null,
      "outputs": [
        {
          "output_type": "stream",
          "text": [
            "386\n"
          ],
          "name": "stdout"
        }
      ]
    },
    {
      "cell_type": "code",
      "metadata": {
        "id": "hbQ5VdzVK6AN",
        "outputId": "f7bb6247-5764-442e-c112-bd8f1b8c657a",
        "colab": {
          "base_uri": "https://localhost:8080/",
          "height": 136
        }
      },
      "source": [
        "#Check for the most unusual strings for trip duration: some erroneous entries need to be addressed\n",
        "for item in long_duration:\n",
        "    if len(item) > 8:\n",
        "        print (item)"
      ],
      "execution_count": null,
      "outputs": [
        {
          "output_type": "stream",
          "text": [
            "172032:14:50\n",
            "172032:39:03\n",
            "136:25:12\n",
            "172032:17:45\n",
            "172032:19:27\n",
            "119:53:35\n",
            "120:49:05\n"
          ],
          "name": "stdout"
        }
      ]
    },
    {
      "cell_type": "code",
      "metadata": {
        "id": "4vnx-Q_lK6C6"
      },
      "source": [
        "def duration_to_minutes(s):\n",
        "    \"\"\"\n",
        "    Function that takes a string with the hh:mm:ss format and\n",
        "    returns the integer equivalent of the total time in minutes, \n",
        "    or zero for missing values in a Pandas dataframe.\n",
        "    \"\"\"\n",
        "    if pd.isnull(s):\n",
        "        val = 0 #note: this fills with 0 the 38 instances with null (missing) values\n",
        "    else:\n",
        "        hms = s.split(':')\n",
        "        val = int(hms[0])*60 + int(hms[1]) + int(hms[2])/60.0\n",
        "    return val"
      ],
      "execution_count": null,
      "outputs": []
    },
    {
      "cell_type": "code",
      "metadata": {
        "id": "Jo1UIwzSK6F4",
        "outputId": "b9071869-b9b1-4f85-9c56-de63ea90c8e3",
        "colab": {
          "base_uri": "https://localhost:8080/",
          "height": 34
        }
      },
      "source": [
        "#Transform the trip duration string into trip duration in minutes:\n",
        "t0 = time.time()\n",
        "df_uber['duration_min'] = df_uber.trip_duration.apply(duration_to_minutes) \n",
        "time.time() - t0"
      ],
      "execution_count": null,
      "outputs": [
        {
          "output_type": "execute_result",
          "data": {
            "text/plain": [
              "41.549238443374634"
            ]
          },
          "metadata": {
            "tags": []
          },
          "execution_count": 35
        }
      ]
    },
    {
      "cell_type": "code",
      "metadata": {
        "id": "p8xdGfsaK6H7",
        "outputId": "94ff4a23-2adc-4a40-e0af-9d51bbda3147",
        "colab": {
          "base_uri": "https://localhost:8080/",
          "height": 204
        }
      },
      "source": [
        "df_uber.head()"
      ],
      "execution_count": null,
      "outputs": [
        {
          "output_type": "execute_result",
          "data": {
            "text/html": [
              "<div>\n",
              "<style scoped>\n",
              "    .dataframe tbody tr th:only-of-type {\n",
              "        vertical-align: middle;\n",
              "    }\n",
              "\n",
              "    .dataframe tbody tr th {\n",
              "        vertical-align: top;\n",
              "    }\n",
              "\n",
              "    .dataframe thead th {\n",
              "        text-align: right;\n",
              "    }\n",
              "</style>\n",
              "<table border=\"1\" class=\"dataframe\">\n",
              "  <thead>\n",
              "    <tr style=\"text-align: right;\">\n",
              "      <th></th>\n",
              "      <th>id</th>\n",
              "      <th>origin_taz</th>\n",
              "      <th>destination_taz</th>\n",
              "      <th>trip_distance</th>\n",
              "      <th>trip_duration</th>\n",
              "      <th>pu_date_hour</th>\n",
              "      <th>pu_date</th>\n",
              "      <th>year</th>\n",
              "      <th>month</th>\n",
              "      <th>day</th>\n",
              "      <th>hour</th>\n",
              "      <th>weekday</th>\n",
              "      <th>duration_min</th>\n",
              "    </tr>\n",
              "  </thead>\n",
              "  <tbody>\n",
              "    <tr>\n",
              "      <th>0</th>\n",
              "      <td>252581</td>\n",
              "      <td>7C</td>\n",
              "      <td>6A</td>\n",
              "      <td>4.2500</td>\n",
              "      <td>0:15:11</td>\n",
              "      <td>2014-09-01 09:00:00</td>\n",
              "      <td>2014-09-01</td>\n",
              "      <td>2014</td>\n",
              "      <td>9</td>\n",
              "      <td>1</td>\n",
              "      <td>9</td>\n",
              "      <td>0</td>\n",
              "      <td>15.1833</td>\n",
              "    </tr>\n",
              "    <tr>\n",
              "      <th>1</th>\n",
              "      <td>252582</td>\n",
              "      <td>7B</td>\n",
              "      <td>15</td>\n",
              "      <td>10.1700</td>\n",
              "      <td>0:34:05</td>\n",
              "      <td>2014-09-01 18:00:00</td>\n",
              "      <td>2014-09-01</td>\n",
              "      <td>2014</td>\n",
              "      <td>9</td>\n",
              "      <td>1</td>\n",
              "      <td>18</td>\n",
              "      <td>0</td>\n",
              "      <td>34.0833</td>\n",
              "    </tr>\n",
              "    <tr>\n",
              "      <th>2</th>\n",
              "      <td>252583</td>\n",
              "      <td>11</td>\n",
              "      <td>2A</td>\n",
              "      <td>4.0200</td>\n",
              "      <td>0:17:06</td>\n",
              "      <td>2014-09-01 17:00:00</td>\n",
              "      <td>2014-09-01</td>\n",
              "      <td>2014</td>\n",
              "      <td>9</td>\n",
              "      <td>1</td>\n",
              "      <td>17</td>\n",
              "      <td>0</td>\n",
              "      <td>17.1000</td>\n",
              "    </tr>\n",
              "    <tr>\n",
              "      <th>3</th>\n",
              "      <td>252584</td>\n",
              "      <td>3B</td>\n",
              "      <td>4A</td>\n",
              "      <td>1.4600</td>\n",
              "      <td>0:06:32</td>\n",
              "      <td>2014-09-01 13:00:00</td>\n",
              "      <td>2014-09-01</td>\n",
              "      <td>2014</td>\n",
              "      <td>9</td>\n",
              "      <td>1</td>\n",
              "      <td>13</td>\n",
              "      <td>0</td>\n",
              "      <td>6.5333</td>\n",
              "    </tr>\n",
              "    <tr>\n",
              "      <th>4</th>\n",
              "      <td>252585</td>\n",
              "      <td>2A</td>\n",
              "      <td>10</td>\n",
              "      <td>8.3100</td>\n",
              "      <td>0:26:17</td>\n",
              "      <td>2014-09-01 14:00:00</td>\n",
              "      <td>2014-09-01</td>\n",
              "      <td>2014</td>\n",
              "      <td>9</td>\n",
              "      <td>1</td>\n",
              "      <td>14</td>\n",
              "      <td>0</td>\n",
              "      <td>26.2833</td>\n",
              "    </tr>\n",
              "  </tbody>\n",
              "</table>\n",
              "</div>"
            ],
            "text/plain": [
              "       id origin_taz destination_taz  ...  hour weekday duration_min\n",
              "0  252581         7C              6A  ...     9       0      15.1833\n",
              "1  252582         7B              15  ...    18       0      34.0833\n",
              "2  252583         11              2A  ...    17       0      17.1000\n",
              "3  252584         3B              4A  ...    13       0       6.5333\n",
              "4  252585         2A              10  ...    14       0      26.2833\n",
              "\n",
              "[5 rows x 13 columns]"
            ]
          },
          "metadata": {
            "tags": []
          },
          "execution_count": 36
        }
      ]
    },
    {
      "cell_type": "markdown",
      "metadata": {
        "id": "4QFUydvwQP49"
      },
      "source": [
        "# Replace missing values with mean distance and duration for respective origin-destination."
      ]
    },
    {
      "cell_type": "code",
      "metadata": {
        "id": "DQHwg2NlK6K9"
      },
      "source": [
        "#Get the mean distance and duration for each origin-destination pair\n",
        "df_DistDur = df_uber.groupby(['origin_taz', 'destination_taz'])[['trip_distance', 'duration_min']].mean()"
      ],
      "execution_count": null,
      "outputs": []
    },
    {
      "cell_type": "code",
      "metadata": {
        "id": "YGboy78YLgRh",
        "outputId": "516e0cdc-0a3e-4ea2-e570-c4ccbdb62c0f",
        "colab": {
          "base_uri": "https://localhost:8080/",
          "height": 235
        }
      },
      "source": [
        "df_DistDur.head()"
      ],
      "execution_count": null,
      "outputs": [
        {
          "output_type": "execute_result",
          "data": {
            "text/html": [
              "<div>\n",
              "<style scoped>\n",
              "    .dataframe tbody tr th:only-of-type {\n",
              "        vertical-align: middle;\n",
              "    }\n",
              "\n",
              "    .dataframe tbody tr th {\n",
              "        vertical-align: top;\n",
              "    }\n",
              "\n",
              "    .dataframe thead th {\n",
              "        text-align: right;\n",
              "    }\n",
              "</style>\n",
              "<table border=\"1\" class=\"dataframe\">\n",
              "  <thead>\n",
              "    <tr style=\"text-align: right;\">\n",
              "      <th></th>\n",
              "      <th></th>\n",
              "      <th>trip_distance</th>\n",
              "      <th>duration_min</th>\n",
              "    </tr>\n",
              "    <tr>\n",
              "      <th>origin_taz</th>\n",
              "      <th>destination_taz</th>\n",
              "      <th></th>\n",
              "      <th></th>\n",
              "    </tr>\n",
              "  </thead>\n",
              "  <tbody>\n",
              "    <tr>\n",
              "      <th rowspan=\"5\" valign=\"top\">1</th>\n",
              "      <th>1</th>\n",
              "      <td>1.4219</td>\n",
              "      <td>10.5655</td>\n",
              "    </tr>\n",
              "    <tr>\n",
              "      <th>10</th>\n",
              "      <td>3.6508</td>\n",
              "      <td>17.9776</td>\n",
              "    </tr>\n",
              "    <tr>\n",
              "      <th>11</th>\n",
              "      <td>5.0937</td>\n",
              "      <td>22.4899</td>\n",
              "    </tr>\n",
              "    <tr>\n",
              "      <th>12</th>\n",
              "      <td>8.8878</td>\n",
              "      <td>29.1024</td>\n",
              "    </tr>\n",
              "    <tr>\n",
              "      <th>13</th>\n",
              "      <td>11.5831</td>\n",
              "      <td>32.1568</td>\n",
              "    </tr>\n",
              "  </tbody>\n",
              "</table>\n",
              "</div>"
            ],
            "text/plain": [
              "                            trip_distance  duration_min\n",
              "origin_taz destination_taz                             \n",
              "1          1                       1.4219       10.5655\n",
              "           10                      3.6508       17.9776\n",
              "           11                      5.0937       22.4899\n",
              "           12                      8.8878       29.1024\n",
              "           13                     11.5831       32.1568"
            ]
          },
          "metadata": {
            "tags": []
          },
          "execution_count": 38
        }
      ]
    },
    {
      "cell_type": "code",
      "metadata": {
        "id": "ZS2S3vZ8LgZj"
      },
      "source": [
        "#Replace 38 missing values with the average distance and duration for the respective origin-destination pair\n",
        "for i in df38.index:\n",
        "    orig = df_uber.loc[i, 'origin_taz']\n",
        "    dest = df_uber.loc[i, 'destination_taz']\n",
        "    df_uber.loc[i, 'trip_distance'] = df_DistDur.loc[orig, dest].trip_distance\n",
        "    df_uber.loc[i, 'duration_min'] = df_DistDur.loc[orig, dest].duration_min"
      ],
      "execution_count": null,
      "outputs": []
    },
    {
      "cell_type": "markdown",
      "metadata": {
        "id": "M_JNeLXAQjkf"
      },
      "source": [
        "# Calculate average speed for each trip."
      ]
    },
    {
      "cell_type": "code",
      "metadata": {
        "id": "ENH1H3EWLgdL"
      },
      "source": [
        "#Calculate average trip speed (mph) to help in understanding outliers (like trips with duration >10 h):\n",
        "df_uber['trip_mph_avg'] = df_uber.trip_distance/(df_uber.duration_min/60.0)"
      ],
      "execution_count": null,
      "outputs": []
    },
    {
      "cell_type": "code",
      "metadata": {
        "id": "YEpc8YaNLggL",
        "outputId": "a6d387d4-e5a9-49de-f187-154565185606",
        "colab": {
          "base_uri": "https://localhost:8080/",
          "height": 289
        }
      },
      "source": [
        "#Check that trip_distance and duration_min have been replaced, and trip speed has been calculated:\n",
        "df_uber.iloc[df38.index, :].head()"
      ],
      "execution_count": null,
      "outputs": [
        {
          "output_type": "execute_result",
          "data": {
            "text/html": [
              "<div>\n",
              "<style scoped>\n",
              "    .dataframe tbody tr th:only-of-type {\n",
              "        vertical-align: middle;\n",
              "    }\n",
              "\n",
              "    .dataframe tbody tr th {\n",
              "        vertical-align: top;\n",
              "    }\n",
              "\n",
              "    .dataframe thead th {\n",
              "        text-align: right;\n",
              "    }\n",
              "</style>\n",
              "<table border=\"1\" class=\"dataframe\">\n",
              "  <thead>\n",
              "    <tr style=\"text-align: right;\">\n",
              "      <th></th>\n",
              "      <th>id</th>\n",
              "      <th>origin_taz</th>\n",
              "      <th>destination_taz</th>\n",
              "      <th>trip_distance</th>\n",
              "      <th>trip_duration</th>\n",
              "      <th>pu_date_hour</th>\n",
              "      <th>pu_date</th>\n",
              "      <th>year</th>\n",
              "      <th>month</th>\n",
              "      <th>day</th>\n",
              "      <th>hour</th>\n",
              "      <th>weekday</th>\n",
              "      <th>duration_min</th>\n",
              "      <th>trip_mph_avg</th>\n",
              "    </tr>\n",
              "  </thead>\n",
              "  <tbody>\n",
              "    <tr>\n",
              "      <th>15155317</th>\n",
              "      <td>39535</td>\n",
              "      <td>2A</td>\n",
              "      <td>11</td>\n",
              "      <td>3.9368</td>\n",
              "      <td>NaN</td>\n",
              "      <td>2015-04-25 12:00:00</td>\n",
              "      <td>2015-04-25</td>\n",
              "      <td>2015</td>\n",
              "      <td>4</td>\n",
              "      <td>25</td>\n",
              "      <td>12</td>\n",
              "      <td>5</td>\n",
              "      <td>19.7321</td>\n",
              "      <td>11.9708</td>\n",
              "    </tr>\n",
              "    <tr>\n",
              "      <th>15245057</th>\n",
              "      <td>1009076</td>\n",
              "      <td>2A</td>\n",
              "      <td>2A</td>\n",
              "      <td>1.3588</td>\n",
              "      <td>NaN</td>\n",
              "      <td>2015-04-26 01:00:00</td>\n",
              "      <td>2015-04-26</td>\n",
              "      <td>2015</td>\n",
              "      <td>4</td>\n",
              "      <td>26</td>\n",
              "      <td>1</td>\n",
              "      <td>6</td>\n",
              "      <td>10.9195</td>\n",
              "      <td>7.4660</td>\n",
              "    </tr>\n",
              "    <tr>\n",
              "      <th>16519652</th>\n",
              "      <td>15028665</td>\n",
              "      <td>2A</td>\n",
              "      <td>7C</td>\n",
              "      <td>9.0394</td>\n",
              "      <td>NaN</td>\n",
              "      <td>2015-04-29 21:00:00</td>\n",
              "      <td>2015-04-29</td>\n",
              "      <td>2015</td>\n",
              "      <td>4</td>\n",
              "      <td>29</td>\n",
              "      <td>21</td>\n",
              "      <td>2</td>\n",
              "      <td>30.2041</td>\n",
              "      <td>17.9566</td>\n",
              "    </tr>\n",
              "    <tr>\n",
              "      <th>17148253</th>\n",
              "      <td>22250173</td>\n",
              "      <td>2A</td>\n",
              "      <td>2A</td>\n",
              "      <td>1.3588</td>\n",
              "      <td>NaN</td>\n",
              "      <td>2015-04-12 02:00:00</td>\n",
              "      <td>2015-04-12</td>\n",
              "      <td>2015</td>\n",
              "      <td>4</td>\n",
              "      <td>12</td>\n",
              "      <td>2</td>\n",
              "      <td>6</td>\n",
              "      <td>10.9195</td>\n",
              "      <td>7.4660</td>\n",
              "    </tr>\n",
              "    <tr>\n",
              "      <th>17297563</th>\n",
              "      <td>23716998</td>\n",
              "      <td>2C</td>\n",
              "      <td>11</td>\n",
              "      <td>4.8331</td>\n",
              "      <td>NaN</td>\n",
              "      <td>2015-04-25 13:00:00</td>\n",
              "      <td>2015-04-25</td>\n",
              "      <td>2015</td>\n",
              "      <td>4</td>\n",
              "      <td>25</td>\n",
              "      <td>13</td>\n",
              "      <td>5</td>\n",
              "      <td>24.3851</td>\n",
              "      <td>11.8918</td>\n",
              "    </tr>\n",
              "  </tbody>\n",
              "</table>\n",
              "</div>"
            ],
            "text/plain": [
              "                id origin_taz  ... duration_min  trip_mph_avg\n",
              "15155317     39535         2A  ...      19.7321       11.9708\n",
              "15245057   1009076         2A  ...      10.9195        7.4660\n",
              "16519652  15028665         2A  ...      30.2041       17.9566\n",
              "17148253  22250173         2A  ...      10.9195        7.4660\n",
              "17297563  23716998         2C  ...      24.3851       11.8918\n",
              "\n",
              "[5 rows x 14 columns]"
            ]
          },
          "metadata": {
            "tags": []
          },
          "execution_count": 41
        }
      ]
    },
    {
      "cell_type": "code",
      "metadata": {
        "id": "iX_obIwULgjV"
      },
      "source": [
        "#Drop redundant trip_duration columns\n",
        "df_uber = df_uber.drop('trip_duration', axis=1)\n",
        "df_uber = df_uber.drop('pu_date_hour', axis=1)"
      ],
      "execution_count": null,
      "outputs": []
    },
    {
      "cell_type": "markdown",
      "metadata": {
        "id": "he8oyu4EQsne"
      },
      "source": [
        "# Calculate Estimated Revenue per Trip."
      ]
    },
    {
      "cell_type": "code",
      "metadata": {
        "id": "iM3HMPSyLgme"
      },
      "source": [
        "#Source: http://uberestimate.com/prices/New-York-City/ for Uber X\n",
        "base_fare = 2.55\n",
        "per_minute = 0.35\n",
        "per_mile = 1.75\n",
        "min_fare = 8"
      ],
      "execution_count": null,
      "outputs": []
    },
    {
      "cell_type": "code",
      "metadata": {
        "id": "GYWE2Vu7Lgp3"
      },
      "source": [
        "#When not possible to work with Pandas dataframe directly (due to memory usage), go back to array!\n",
        "#test = df_uber[['duration_min', 'trip_distance']].values"
      ],
      "execution_count": null,
      "outputs": []
    },
    {
      "cell_type": "code",
      "metadata": {
        "id": "g-IxPvb9LgtG"
      },
      "source": [
        "#def est_revenue(arr):\n",
        "  # rev = base_fare + arr[0] * per_minute + arr[1] * per_mile\n",
        "  # return rev if rev > min_fare else min_fare"
      ],
      "execution_count": null,
      "outputs": []
    },
    {
      "cell_type": "code",
      "metadata": {
        "id": "YBlOaoEnLgwG"
      },
      "source": [
        "#df_uber['est_revenue'] = pd.Series(map(lambda x: est_revenue(x), test))"
      ],
      "execution_count": null,
      "outputs": []
    },
    {
      "cell_type": "code",
      "metadata": {
        "id": "kS1Y7IPdK6Nl"
      },
      "source": [
        "#Using eval() is even more efficient for large datasets than resorting to Numpy! \n",
        "#Local variables must be followed by @. Only for arithmetic, cannot use if statement, for example.\n",
        "df_uber['est_revenue'] = df_uber.eval('@base_fare + duration_min * @per_minute + trip_distance * @per_mile')\n",
        "df_uber.loc[df_uber.est_revenue < 8, 'est_revenue'] = min_fare"
      ],
      "execution_count": null,
      "outputs": []
    },
    {
      "cell_type": "code",
      "metadata": {
        "id": "oD8cJ0gmMGRU",
        "outputId": "40b79341-028f-4bab-b1c2-a68330aa1b35",
        "colab": {
          "base_uri": "https://localhost:8080/",
          "height": 204
        }
      },
      "source": [
        "df_uber.head()"
      ],
      "execution_count": null,
      "outputs": [
        {
          "output_type": "execute_result",
          "data": {
            "text/html": [
              "<div>\n",
              "<style scoped>\n",
              "    .dataframe tbody tr th:only-of-type {\n",
              "        vertical-align: middle;\n",
              "    }\n",
              "\n",
              "    .dataframe tbody tr th {\n",
              "        vertical-align: top;\n",
              "    }\n",
              "\n",
              "    .dataframe thead th {\n",
              "        text-align: right;\n",
              "    }\n",
              "</style>\n",
              "<table border=\"1\" class=\"dataframe\">\n",
              "  <thead>\n",
              "    <tr style=\"text-align: right;\">\n",
              "      <th></th>\n",
              "      <th>id</th>\n",
              "      <th>origin_taz</th>\n",
              "      <th>destination_taz</th>\n",
              "      <th>trip_distance</th>\n",
              "      <th>pu_date</th>\n",
              "      <th>year</th>\n",
              "      <th>month</th>\n",
              "      <th>day</th>\n",
              "      <th>hour</th>\n",
              "      <th>weekday</th>\n",
              "      <th>duration_min</th>\n",
              "      <th>trip_mph_avg</th>\n",
              "      <th>est_revenue</th>\n",
              "    </tr>\n",
              "  </thead>\n",
              "  <tbody>\n",
              "    <tr>\n",
              "      <th>0</th>\n",
              "      <td>252581</td>\n",
              "      <td>7C</td>\n",
              "      <td>6A</td>\n",
              "      <td>4.2500</td>\n",
              "      <td>2014-09-01</td>\n",
              "      <td>2014</td>\n",
              "      <td>9</td>\n",
              "      <td>1</td>\n",
              "      <td>9</td>\n",
              "      <td>0</td>\n",
              "      <td>15.1833</td>\n",
              "      <td>16.7947</td>\n",
              "      <td>15.3017</td>\n",
              "    </tr>\n",
              "    <tr>\n",
              "      <th>1</th>\n",
              "      <td>252582</td>\n",
              "      <td>7B</td>\n",
              "      <td>15</td>\n",
              "      <td>10.1700</td>\n",
              "      <td>2014-09-01</td>\n",
              "      <td>2014</td>\n",
              "      <td>9</td>\n",
              "      <td>1</td>\n",
              "      <td>18</td>\n",
              "      <td>0</td>\n",
              "      <td>34.0833</td>\n",
              "      <td>17.9032</td>\n",
              "      <td>32.2767</td>\n",
              "    </tr>\n",
              "    <tr>\n",
              "      <th>2</th>\n",
              "      <td>252583</td>\n",
              "      <td>11</td>\n",
              "      <td>2A</td>\n",
              "      <td>4.0200</td>\n",
              "      <td>2014-09-01</td>\n",
              "      <td>2014</td>\n",
              "      <td>9</td>\n",
              "      <td>1</td>\n",
              "      <td>17</td>\n",
              "      <td>0</td>\n",
              "      <td>17.1000</td>\n",
              "      <td>14.1053</td>\n",
              "      <td>15.5700</td>\n",
              "    </tr>\n",
              "    <tr>\n",
              "      <th>3</th>\n",
              "      <td>252584</td>\n",
              "      <td>3B</td>\n",
              "      <td>4A</td>\n",
              "      <td>1.4600</td>\n",
              "      <td>2014-09-01</td>\n",
              "      <td>2014</td>\n",
              "      <td>9</td>\n",
              "      <td>1</td>\n",
              "      <td>13</td>\n",
              "      <td>0</td>\n",
              "      <td>6.5333</td>\n",
              "      <td>13.4082</td>\n",
              "      <td>8.0000</td>\n",
              "    </tr>\n",
              "    <tr>\n",
              "      <th>4</th>\n",
              "      <td>252585</td>\n",
              "      <td>2A</td>\n",
              "      <td>10</td>\n",
              "      <td>8.3100</td>\n",
              "      <td>2014-09-01</td>\n",
              "      <td>2014</td>\n",
              "      <td>9</td>\n",
              "      <td>1</td>\n",
              "      <td>14</td>\n",
              "      <td>0</td>\n",
              "      <td>26.2833</td>\n",
              "      <td>18.9702</td>\n",
              "      <td>26.2917</td>\n",
              "    </tr>\n",
              "  </tbody>\n",
              "</table>\n",
              "</div>"
            ],
            "text/plain": [
              "       id origin_taz destination_taz  ...  duration_min trip_mph_avg  est_revenue\n",
              "0  252581         7C              6A  ...       15.1833      16.7947      15.3017\n",
              "1  252582         7B              15  ...       34.0833      17.9032      32.2767\n",
              "2  252583         11              2A  ...       17.1000      14.1053      15.5700\n",
              "3  252584         3B              4A  ...        6.5333      13.4082       8.0000\n",
              "4  252585         2A              10  ...       26.2833      18.9702      26.2917\n",
              "\n",
              "[5 rows x 13 columns]"
            ]
          },
          "metadata": {
            "tags": []
          },
          "execution_count": 48
        }
      ]
    },
    {
      "cell_type": "markdown",
      "metadata": {
        "id": "v86_FVxFQ5dl"
      },
      "source": [
        "# Queries for Checking Data Consistency.\n",
        "\n",
        "# A closer look of the anomalous cases of trip duration."
      ]
    },
    {
      "cell_type": "code",
      "metadata": {
        "id": "k8K47w_cMGUE",
        "outputId": "29664fa1-fdaf-4f8c-a433-bc6c7b0ca98e",
        "colab": {
          "base_uri": "https://localhost:8080/",
          "height": 51
        }
      },
      "source": [
        "#Check for very long duration entries, and effect on revenue numbers:\n",
        "\n",
        "#>=100h:\n",
        "print (len(df_uber[(df_uber.duration_min >= 6000)])) #7\n",
        "\n",
        "#Greater than 100h: 7 entries (erroneous): system error? fraud? Total revenue is relevant: $14,459,978 (2.4% of total)\n",
        "#172032:14:50 #probable system error: distance < 10 miles\n",
        "#172032:39:03 #probable system error: distance < 10 miles\n",
        "#136:25:12 #short distance\n",
        "#172032:17:45 #probable system error: distance < 10 miles\n",
        "#172032:19:27 #probable system error: distance < 10 miles\n",
        "#119:53:35 #long distance, incorrect destination?\n",
        "#120:49:05 #long distance, this entry has missing destination\n",
        "\n",
        "#>16h and <100h : 116 entries\n",
        "df_uber[(df_uber.duration_min > 960) & (df_uber.duration_min < 6000)].est_revenue.sum() #$78,070 total revenue\n",
        "\n",
        "#The effect on revenue is relevant only for the trips higher than 100h of duration, which are most likely a result of \n",
        "#some system error (as seen above), or perhaps fraud, therefore these 7 entries will be excluded from the dataset for\n",
        "#analysis. However, assuming that driving more than 16h (960 minutes) non-stop per day represents unreliable data, \n",
        "#these additional 116 cases will also be excluded from analysis. These 123 data points warrant more in-depth internal\n",
        "#investigation to bring light to what may have caused them."
      ],
      "execution_count": null,
      "outputs": [
        {
          "output_type": "stream",
          "text": [
            "7\n"
          ],
          "name": "stdout"
        },
        {
          "output_type": "execute_result",
          "data": {
            "text/plain": [
              "78069.74916666666"
            ]
          },
          "metadata": {
            "tags": []
          },
          "execution_count": 49
        }
      ]
    },
    {
      "cell_type": "code",
      "metadata": {
        "id": "xSw7-ta-MGW3",
        "outputId": "0fc2643d-3b58-4e65-a4bc-b16ca86d11c6",
        "colab": {
          "base_uri": "https://localhost:8080/",
          "height": 221
        }
      },
      "source": [
        "#Were the trips with distance and duration equal to zero actually cancelled (didn't happen)? \n",
        "\n",
        "print (len(df_uber[(df_uber.duration_min == 0) & (df_uber.trip_distance == 0)])) #24866\n",
        "#There is at least one case almost daily. The 24866 cases represent a revenue of $198,928, based on $8 minimum fare.\n",
        "\n",
        "#Note that origin and destination are the same, except for 910 trips: did these trips in fact occur?\n",
        "df_uber[(df_uber.duration_min == 0) & (df_uber.trip_distance == 0) & (df_uber.origin_taz != df_uber.destination_taz)].\\\n",
        "head()#910\n",
        "\n",
        "#There is generally a fee associated with trip cancellation, so unless these trips represent a system error or fraud,\n",
        "#there was no loss of the minimum fare revenue."
      ],
      "execution_count": null,
      "outputs": [
        {
          "output_type": "stream",
          "text": [
            "24866\n"
          ],
          "name": "stdout"
        },
        {
          "output_type": "execute_result",
          "data": {
            "text/html": [
              "<div>\n",
              "<style scoped>\n",
              "    .dataframe tbody tr th:only-of-type {\n",
              "        vertical-align: middle;\n",
              "    }\n",
              "\n",
              "    .dataframe tbody tr th {\n",
              "        vertical-align: top;\n",
              "    }\n",
              "\n",
              "    .dataframe thead th {\n",
              "        text-align: right;\n",
              "    }\n",
              "</style>\n",
              "<table border=\"1\" class=\"dataframe\">\n",
              "  <thead>\n",
              "    <tr style=\"text-align: right;\">\n",
              "      <th></th>\n",
              "      <th>id</th>\n",
              "      <th>origin_taz</th>\n",
              "      <th>destination_taz</th>\n",
              "      <th>trip_distance</th>\n",
              "      <th>pu_date</th>\n",
              "      <th>year</th>\n",
              "      <th>month</th>\n",
              "      <th>day</th>\n",
              "      <th>hour</th>\n",
              "      <th>weekday</th>\n",
              "      <th>duration_min</th>\n",
              "      <th>trip_mph_avg</th>\n",
              "      <th>est_revenue</th>\n",
              "    </tr>\n",
              "  </thead>\n",
              "  <tbody>\n",
              "    <tr>\n",
              "      <th>21726</th>\n",
              "      <td>274307</td>\n",
              "      <td>4B</td>\n",
              "      <td>8</td>\n",
              "      <td>0.0000</td>\n",
              "      <td>2014-09-29</td>\n",
              "      <td>2014</td>\n",
              "      <td>9</td>\n",
              "      <td>29</td>\n",
              "      <td>17</td>\n",
              "      <td>0</td>\n",
              "      <td>0.0000</td>\n",
              "      <td>nan</td>\n",
              "      <td>8.0000</td>\n",
              "    </tr>\n",
              "    <tr>\n",
              "      <th>21847</th>\n",
              "      <td>274428</td>\n",
              "      <td>4C</td>\n",
              "      <td>2A</td>\n",
              "      <td>0.0000</td>\n",
              "      <td>2014-09-29</td>\n",
              "      <td>2014</td>\n",
              "      <td>9</td>\n",
              "      <td>29</td>\n",
              "      <td>17</td>\n",
              "      <td>0</td>\n",
              "      <td>0.0000</td>\n",
              "      <td>nan</td>\n",
              "      <td>8.0000</td>\n",
              "    </tr>\n",
              "    <tr>\n",
              "      <th>21909</th>\n",
              "      <td>274490</td>\n",
              "      <td>5C</td>\n",
              "      <td>6A</td>\n",
              "      <td>0.0000</td>\n",
              "      <td>2014-09-29</td>\n",
              "      <td>2014</td>\n",
              "      <td>9</td>\n",
              "      <td>29</td>\n",
              "      <td>19</td>\n",
              "      <td>0</td>\n",
              "      <td>0.0000</td>\n",
              "      <td>nan</td>\n",
              "      <td>8.0000</td>\n",
              "    </tr>\n",
              "    <tr>\n",
              "      <th>22179</th>\n",
              "      <td>274760</td>\n",
              "      <td>11</td>\n",
              "      <td>4A</td>\n",
              "      <td>0.0000</td>\n",
              "      <td>2014-09-29</td>\n",
              "      <td>2014</td>\n",
              "      <td>9</td>\n",
              "      <td>29</td>\n",
              "      <td>17</td>\n",
              "      <td>0</td>\n",
              "      <td>0.0000</td>\n",
              "      <td>nan</td>\n",
              "      <td>8.0000</td>\n",
              "    </tr>\n",
              "    <tr>\n",
              "      <th>22359</th>\n",
              "      <td>274940</td>\n",
              "      <td>3C</td>\n",
              "      <td>1</td>\n",
              "      <td>0.0000</td>\n",
              "      <td>2014-09-30</td>\n",
              "      <td>2014</td>\n",
              "      <td>9</td>\n",
              "      <td>30</td>\n",
              "      <td>14</td>\n",
              "      <td>1</td>\n",
              "      <td>0.0000</td>\n",
              "      <td>nan</td>\n",
              "      <td>8.0000</td>\n",
              "    </tr>\n",
              "  </tbody>\n",
              "</table>\n",
              "</div>"
            ],
            "text/plain": [
              "           id origin_taz  ... trip_mph_avg  est_revenue\n",
              "21726  274307         4B  ...          nan       8.0000\n",
              "21847  274428         4C  ...          nan       8.0000\n",
              "21909  274490         5C  ...          nan       8.0000\n",
              "22179  274760         11  ...          nan       8.0000\n",
              "22359  274940         3C  ...          nan       8.0000\n",
              "\n",
              "[5 rows x 13 columns]"
            ]
          },
          "metadata": {
            "tags": []
          },
          "execution_count": 50
        }
      ]
    },
    {
      "cell_type": "code",
      "metadata": {
        "id": "EWYkR81_MGbI",
        "outputId": "1d9e0e55-ead4-4ab0-8a23-b034a56a36f0",
        "colab": {
          "base_uri": "https://localhost:8080/",
          "height": 376
        }
      },
      "source": [
        "#Check cases with distance equal to zero but duration greater than zero:\n",
        "\n",
        "print (len(df_uber[(df_uber.duration_min > 0) & (df_uber.trip_distance == 0)])) #85515\n",
        "\n",
        "#The median duration for trips with zero distance is 10 seconds (mean= 2.4 minutes), so most of these 85,515 cases \n",
        "#possibly represent trips that were cancelled right after they were registered.\n",
        "\n",
        "#3873 trips of the 85,515 cases show pick up and drop off in different taxi zones \n",
        "#(median duration: 10 seconds, mean: 4.5 minutes).\n",
        "\n",
        "#Let's check the small dataset (277) out of the 3873 cases with duration > 5 minutes, but distance equal to zero:\n",
        "#Maybe these cases represent some error with registering the distance traveled?\n",
        "df_uber[(df_uber.duration_min >= 5) & (df_uber.trip_distance == 0) &(df_uber.origin_taz != df_uber.destination_taz)]\\\n",
        ".head(10)"
      ],
      "execution_count": null,
      "outputs": [
        {
          "output_type": "stream",
          "text": [
            "85515\n"
          ],
          "name": "stdout"
        },
        {
          "output_type": "execute_result",
          "data": {
            "text/html": [
              "<div>\n",
              "<style scoped>\n",
              "    .dataframe tbody tr th:only-of-type {\n",
              "        vertical-align: middle;\n",
              "    }\n",
              "\n",
              "    .dataframe tbody tr th {\n",
              "        vertical-align: top;\n",
              "    }\n",
              "\n",
              "    .dataframe thead th {\n",
              "        text-align: right;\n",
              "    }\n",
              "</style>\n",
              "<table border=\"1\" class=\"dataframe\">\n",
              "  <thead>\n",
              "    <tr style=\"text-align: right;\">\n",
              "      <th></th>\n",
              "      <th>id</th>\n",
              "      <th>origin_taz</th>\n",
              "      <th>destination_taz</th>\n",
              "      <th>trip_distance</th>\n",
              "      <th>pu_date</th>\n",
              "      <th>year</th>\n",
              "      <th>month</th>\n",
              "      <th>day</th>\n",
              "      <th>hour</th>\n",
              "      <th>weekday</th>\n",
              "      <th>duration_min</th>\n",
              "      <th>trip_mph_avg</th>\n",
              "      <th>est_revenue</th>\n",
              "    </tr>\n",
              "  </thead>\n",
              "  <tbody>\n",
              "    <tr>\n",
              "      <th>882890</th>\n",
              "      <td>18153735</td>\n",
              "      <td>1</td>\n",
              "      <td>2A</td>\n",
              "      <td>0.0000</td>\n",
              "      <td>2014-09-28</td>\n",
              "      <td>2014</td>\n",
              "      <td>9</td>\n",
              "      <td>28</td>\n",
              "      <td>1</td>\n",
              "      <td>6</td>\n",
              "      <td>7.1167</td>\n",
              "      <td>0.0000</td>\n",
              "      <td>8.0000</td>\n",
              "    </tr>\n",
              "    <tr>\n",
              "      <th>3223424</th>\n",
              "      <td>29754237</td>\n",
              "      <td>4C</td>\n",
              "      <td>6A</td>\n",
              "      <td>0.0000</td>\n",
              "      <td>2014-10-05</td>\n",
              "      <td>2014</td>\n",
              "      <td>10</td>\n",
              "      <td>5</td>\n",
              "      <td>20</td>\n",
              "      <td>6</td>\n",
              "      <td>7.5167</td>\n",
              "      <td>0.0000</td>\n",
              "      <td>8.0000</td>\n",
              "    </tr>\n",
              "    <tr>\n",
              "      <th>18154210</th>\n",
              "      <td>2023861</td>\n",
              "      <td>1</td>\n",
              "      <td>4C</td>\n",
              "      <td>0.0000</td>\n",
              "      <td>2015-05-28</td>\n",
              "      <td>2015</td>\n",
              "      <td>5</td>\n",
              "      <td>28</td>\n",
              "      <td>12</td>\n",
              "      <td>3</td>\n",
              "      <td>27.2000</td>\n",
              "      <td>0.0000</td>\n",
              "      <td>12.0700</td>\n",
              "    </tr>\n",
              "    <tr>\n",
              "      <th>18829282</th>\n",
              "      <td>8785823</td>\n",
              "      <td>4B</td>\n",
              "      <td>8</td>\n",
              "      <td>0.0000</td>\n",
              "      <td>2015-05-26</td>\n",
              "      <td>2015</td>\n",
              "      <td>5</td>\n",
              "      <td>26</td>\n",
              "      <td>16</td>\n",
              "      <td>1</td>\n",
              "      <td>38.7833</td>\n",
              "      <td>0.0000</td>\n",
              "      <td>16.1242</td>\n",
              "    </tr>\n",
              "    <tr>\n",
              "      <th>19414939</th>\n",
              "      <td>14586763</td>\n",
              "      <td>4C</td>\n",
              "      <td>5C</td>\n",
              "      <td>0.0000</td>\n",
              "      <td>2015-05-28</td>\n",
              "      <td>2015</td>\n",
              "      <td>5</td>\n",
              "      <td>28</td>\n",
              "      <td>18</td>\n",
              "      <td>3</td>\n",
              "      <td>11.0167</td>\n",
              "      <td>0.0000</td>\n",
              "      <td>8.0000</td>\n",
              "    </tr>\n",
              "    <tr>\n",
              "      <th>20674992</th>\n",
              "      <td>27149481</td>\n",
              "      <td>4C</td>\n",
              "      <td>1</td>\n",
              "      <td>0.0000</td>\n",
              "      <td>2015-05-28</td>\n",
              "      <td>2015</td>\n",
              "      <td>5</td>\n",
              "      <td>28</td>\n",
              "      <td>11</td>\n",
              "      <td>3</td>\n",
              "      <td>32.8500</td>\n",
              "      <td>0.0000</td>\n",
              "      <td>14.0475</td>\n",
              "    </tr>\n",
              "    <tr>\n",
              "      <th>21376632</th>\n",
              "      <td>3045165</td>\n",
              "      <td>1</td>\n",
              "      <td>6B</td>\n",
              "      <td>0.0000</td>\n",
              "      <td>2015-06-28</td>\n",
              "      <td>2015</td>\n",
              "      <td>6</td>\n",
              "      <td>28</td>\n",
              "      <td>23</td>\n",
              "      <td>6</td>\n",
              "      <td>32.8167</td>\n",
              "      <td>0.0000</td>\n",
              "      <td>14.0358</td>\n",
              "    </tr>\n",
              "    <tr>\n",
              "      <th>21472913</th>\n",
              "      <td>4006319</td>\n",
              "      <td>15</td>\n",
              "      <td>4A</td>\n",
              "      <td>0.0000</td>\n",
              "      <td>2015-06-26</td>\n",
              "      <td>2015</td>\n",
              "      <td>6</td>\n",
              "      <td>26</td>\n",
              "      <td>10</td>\n",
              "      <td>4</td>\n",
              "      <td>55.7333</td>\n",
              "      <td>0.0000</td>\n",
              "      <td>22.0567</td>\n",
              "    </tr>\n",
              "    <tr>\n",
              "      <th>21517547</th>\n",
              "      <td>4482860</td>\n",
              "      <td>1</td>\n",
              "      <td>5C</td>\n",
              "      <td>0.0000</td>\n",
              "      <td>2015-06-23</td>\n",
              "      <td>2015</td>\n",
              "      <td>6</td>\n",
              "      <td>23</td>\n",
              "      <td>13</td>\n",
              "      <td>1</td>\n",
              "      <td>22.3500</td>\n",
              "      <td>0.0000</td>\n",
              "      <td>10.3725</td>\n",
              "    </tr>\n",
              "    <tr>\n",
              "      <th>21727436</th>\n",
              "      <td>6421520</td>\n",
              "      <td>6B</td>\n",
              "      <td>NaN</td>\n",
              "      <td>0.0000</td>\n",
              "      <td>2015-06-26</td>\n",
              "      <td>2015</td>\n",
              "      <td>6</td>\n",
              "      <td>26</td>\n",
              "      <td>9</td>\n",
              "      <td>4</td>\n",
              "      <td>78.2333</td>\n",
              "      <td>0.0000</td>\n",
              "      <td>29.9317</td>\n",
              "    </tr>\n",
              "  </tbody>\n",
              "</table>\n",
              "</div>"
            ],
            "text/plain": [
              "                id origin_taz  ... trip_mph_avg  est_revenue\n",
              "882890    18153735          1  ...       0.0000       8.0000\n",
              "3223424   29754237         4C  ...       0.0000       8.0000\n",
              "18154210   2023861          1  ...       0.0000      12.0700\n",
              "18829282   8785823         4B  ...       0.0000      16.1242\n",
              "19414939  14586763         4C  ...       0.0000       8.0000\n",
              "20674992  27149481         4C  ...       0.0000      14.0475\n",
              "21376632   3045165          1  ...       0.0000      14.0358\n",
              "21472913   4006319         15  ...       0.0000      22.0567\n",
              "21517547   4482860          1  ...       0.0000      10.3725\n",
              "21727436   6421520         6B  ...       0.0000      29.9317\n",
              "\n",
              "[10 rows x 13 columns]"
            ]
          },
          "metadata": {
            "tags": []
          },
          "execution_count": 51
        }
      ]
    },
    {
      "cell_type": "markdown",
      "metadata": {
        "id": "49h9UR4QRpDs"
      },
      "source": [
        "# A closer look of the anomalous cases for the calculated average trip speed."
      ]
    },
    {
      "cell_type": "code",
      "metadata": {
        "id": "-IIebGCpMGeR",
        "outputId": "ee618a5c-e4a0-4138-8cc6-fa19623cdde5",
        "colab": {
          "base_uri": "https://localhost:8080/",
          "height": 376
        }
      },
      "source": [
        "#Check the trips with average speed slower than walking (3mph).\n",
        "\n",
        "print (len(df_uber[df_uber.trip_mph_avg <= 3])) #262,666 cases\n",
        "\n",
        "#Considering that some really bad traffic is possible, let's check the proportion of cases that fall under \n",
        "#2 miles or less traveled distance:\n",
        "df_uber[(df_uber.trip_mph_avg <= 3) & (df_uber.trip_distance <= 2)].head(10) #246,225, or ~94% of all trips with < 3mph\n",
        "\n",
        "#0.8% of cases from the entire dataset have calculated speed < 3mph : really bad traffic cases, interrupted trips, \n",
        "#or fraud? We will assume they're mostly really bad traffic cases or interrupted trips for this analysis."
      ],
      "execution_count": null,
      "outputs": [
        {
          "output_type": "stream",
          "text": [
            "262666\n"
          ],
          "name": "stdout"
        },
        {
          "output_type": "execute_result",
          "data": {
            "text/html": [
              "<div>\n",
              "<style scoped>\n",
              "    .dataframe tbody tr th:only-of-type {\n",
              "        vertical-align: middle;\n",
              "    }\n",
              "\n",
              "    .dataframe tbody tr th {\n",
              "        vertical-align: top;\n",
              "    }\n",
              "\n",
              "    .dataframe thead th {\n",
              "        text-align: right;\n",
              "    }\n",
              "</style>\n",
              "<table border=\"1\" class=\"dataframe\">\n",
              "  <thead>\n",
              "    <tr style=\"text-align: right;\">\n",
              "      <th></th>\n",
              "      <th>id</th>\n",
              "      <th>origin_taz</th>\n",
              "      <th>destination_taz</th>\n",
              "      <th>trip_distance</th>\n",
              "      <th>pu_date</th>\n",
              "      <th>year</th>\n",
              "      <th>month</th>\n",
              "      <th>day</th>\n",
              "      <th>hour</th>\n",
              "      <th>weekday</th>\n",
              "      <th>duration_min</th>\n",
              "      <th>trip_mph_avg</th>\n",
              "      <th>est_revenue</th>\n",
              "    </tr>\n",
              "  </thead>\n",
              "  <tbody>\n",
              "    <tr>\n",
              "      <th>82</th>\n",
              "      <td>252663</td>\n",
              "      <td>14</td>\n",
              "      <td>14</td>\n",
              "      <td>0.0200</td>\n",
              "      <td>2014-09-01</td>\n",
              "      <td>2014</td>\n",
              "      <td>9</td>\n",
              "      <td>1</td>\n",
              "      <td>11</td>\n",
              "      <td>0</td>\n",
              "      <td>1.3333</td>\n",
              "      <td>0.9000</td>\n",
              "      <td>8.0000</td>\n",
              "    </tr>\n",
              "    <tr>\n",
              "      <th>120</th>\n",
              "      <td>252701</td>\n",
              "      <td>2A</td>\n",
              "      <td>2A</td>\n",
              "      <td>1.5100</td>\n",
              "      <td>2014-09-01</td>\n",
              "      <td>2014</td>\n",
              "      <td>9</td>\n",
              "      <td>1</td>\n",
              "      <td>20</td>\n",
              "      <td>0</td>\n",
              "      <td>33.8833</td>\n",
              "      <td>2.6739</td>\n",
              "      <td>17.0517</td>\n",
              "    </tr>\n",
              "    <tr>\n",
              "      <th>271</th>\n",
              "      <td>252852</td>\n",
              "      <td>8</td>\n",
              "      <td>8</td>\n",
              "      <td>0.0000</td>\n",
              "      <td>2014-09-01</td>\n",
              "      <td>2014</td>\n",
              "      <td>9</td>\n",
              "      <td>1</td>\n",
              "      <td>16</td>\n",
              "      <td>0</td>\n",
              "      <td>0.5000</td>\n",
              "      <td>0.0000</td>\n",
              "      <td>8.0000</td>\n",
              "    </tr>\n",
              "    <tr>\n",
              "      <th>542</th>\n",
              "      <td>253123</td>\n",
              "      <td>4C</td>\n",
              "      <td>4C</td>\n",
              "      <td>0.0500</td>\n",
              "      <td>2014-09-02</td>\n",
              "      <td>2014</td>\n",
              "      <td>9</td>\n",
              "      <td>2</td>\n",
              "      <td>17</td>\n",
              "      <td>1</td>\n",
              "      <td>1.1000</td>\n",
              "      <td>2.7273</td>\n",
              "      <td>8.0000</td>\n",
              "    </tr>\n",
              "    <tr>\n",
              "      <th>554</th>\n",
              "      <td>253135</td>\n",
              "      <td>2A</td>\n",
              "      <td>2A</td>\n",
              "      <td>0.0000</td>\n",
              "      <td>2014-09-02</td>\n",
              "      <td>2014</td>\n",
              "      <td>9</td>\n",
              "      <td>2</td>\n",
              "      <td>9</td>\n",
              "      <td>1</td>\n",
              "      <td>2.6833</td>\n",
              "      <td>0.0000</td>\n",
              "      <td>8.0000</td>\n",
              "    </tr>\n",
              "    <tr>\n",
              "      <th>605</th>\n",
              "      <td>253186</td>\n",
              "      <td>2A</td>\n",
              "      <td>2A</td>\n",
              "      <td>0.0500</td>\n",
              "      <td>2014-09-02</td>\n",
              "      <td>2014</td>\n",
              "      <td>9</td>\n",
              "      <td>2</td>\n",
              "      <td>20</td>\n",
              "      <td>1</td>\n",
              "      <td>1.4500</td>\n",
              "      <td>2.0690</td>\n",
              "      <td>8.0000</td>\n",
              "    </tr>\n",
              "    <tr>\n",
              "      <th>839</th>\n",
              "      <td>253420</td>\n",
              "      <td>2A</td>\n",
              "      <td>2A</td>\n",
              "      <td>0.4700</td>\n",
              "      <td>2014-09-02</td>\n",
              "      <td>2014</td>\n",
              "      <td>9</td>\n",
              "      <td>2</td>\n",
              "      <td>13</td>\n",
              "      <td>1</td>\n",
              "      <td>10.5833</td>\n",
              "      <td>2.6646</td>\n",
              "      <td>8.0000</td>\n",
              "    </tr>\n",
              "    <tr>\n",
              "      <th>896</th>\n",
              "      <td>253477</td>\n",
              "      <td>5C</td>\n",
              "      <td>6B</td>\n",
              "      <td>0.9900</td>\n",
              "      <td>2014-09-02</td>\n",
              "      <td>2014</td>\n",
              "      <td>9</td>\n",
              "      <td>2</td>\n",
              "      <td>17</td>\n",
              "      <td>1</td>\n",
              "      <td>22.1833</td>\n",
              "      <td>2.6777</td>\n",
              "      <td>12.0467</td>\n",
              "    </tr>\n",
              "    <tr>\n",
              "      <th>945</th>\n",
              "      <td>253526</td>\n",
              "      <td>14</td>\n",
              "      <td>14</td>\n",
              "      <td>0.0400</td>\n",
              "      <td>2014-09-02</td>\n",
              "      <td>2014</td>\n",
              "      <td>9</td>\n",
              "      <td>2</td>\n",
              "      <td>2</td>\n",
              "      <td>1</td>\n",
              "      <td>1.4000</td>\n",
              "      <td>1.7143</td>\n",
              "      <td>8.0000</td>\n",
              "    </tr>\n",
              "    <tr>\n",
              "      <th>1260</th>\n",
              "      <td>253841</td>\n",
              "      <td>4A</td>\n",
              "      <td>4A</td>\n",
              "      <td>0.0600</td>\n",
              "      <td>2014-09-02</td>\n",
              "      <td>2014</td>\n",
              "      <td>9</td>\n",
              "      <td>2</td>\n",
              "      <td>20</td>\n",
              "      <td>1</td>\n",
              "      <td>1.3500</td>\n",
              "      <td>2.6667</td>\n",
              "      <td>8.0000</td>\n",
              "    </tr>\n",
              "  </tbody>\n",
              "</table>\n",
              "</div>"
            ],
            "text/plain": [
              "          id origin_taz  ... trip_mph_avg  est_revenue\n",
              "82    252663         14  ...       0.9000       8.0000\n",
              "120   252701         2A  ...       2.6739      17.0517\n",
              "271   252852          8  ...       0.0000       8.0000\n",
              "542   253123         4C  ...       2.7273       8.0000\n",
              "554   253135         2A  ...       0.0000       8.0000\n",
              "605   253186         2A  ...       2.0690       8.0000\n",
              "839   253420         2A  ...       2.6646       8.0000\n",
              "896   253477         5C  ...       2.6777      12.0467\n",
              "945   253526         14  ...       1.7143       8.0000\n",
              "1260  253841         4A  ...       2.6667       8.0000\n",
              "\n",
              "[10 rows x 13 columns]"
            ]
          },
          "metadata": {
            "tags": []
          },
          "execution_count": 52
        }
      ]
    },
    {
      "cell_type": "code",
      "metadata": {
        "id": "QyAB9piVMGjE",
        "outputId": "9e5197d3-eacf-4cec-d6c6-feb1270ec404",
        "colab": {
          "base_uri": "https://localhost:8080/",
          "height": 359
        }
      },
      "source": [
        "\n",
        "#Among the trips with very slow speed (< 3 mph), the most suspicious cases are perhaps those that show very long\n",
        "#duration. Let's say that 1.5h would have been enough, in most situations, to get outside of some traffic gridlock, \n",
        "#then part of these cases should be investigated more in depth, especially because they represent a significant \n",
        "#share of the revenue ($850K).\n",
        "\n",
        "df_uber[(df_uber.trip_mph_avg <= 3) & (df_uber.duration_min > 90) & (df_uber.duration_min <= 960)].head(10)#8393 cases\n",
        "\n",
        "#Due to the lack of specific domain knowledge about the system that has generated this data, and unavailability of \n",
        "#more detailed trip information, these cases will be disregarded as suspicious in this analysis. It's possible, \n",
        "#for example, that some of the cases represent a driver waiting for a passenger during a trip, even though this is \n",
        "#not a typical behaviour in ride sharing."
      ],
      "execution_count": null,
      "outputs": [
        {
          "output_type": "execute_result",
          "data": {
            "text/html": [
              "<div>\n",
              "<style scoped>\n",
              "    .dataframe tbody tr th:only-of-type {\n",
              "        vertical-align: middle;\n",
              "    }\n",
              "\n",
              "    .dataframe tbody tr th {\n",
              "        vertical-align: top;\n",
              "    }\n",
              "\n",
              "    .dataframe thead th {\n",
              "        text-align: right;\n",
              "    }\n",
              "</style>\n",
              "<table border=\"1\" class=\"dataframe\">\n",
              "  <thead>\n",
              "    <tr style=\"text-align: right;\">\n",
              "      <th></th>\n",
              "      <th>id</th>\n",
              "      <th>origin_taz</th>\n",
              "      <th>destination_taz</th>\n",
              "      <th>trip_distance</th>\n",
              "      <th>pu_date</th>\n",
              "      <th>year</th>\n",
              "      <th>month</th>\n",
              "      <th>day</th>\n",
              "      <th>hour</th>\n",
              "      <th>weekday</th>\n",
              "      <th>duration_min</th>\n",
              "      <th>trip_mph_avg</th>\n",
              "      <th>est_revenue</th>\n",
              "    </tr>\n",
              "  </thead>\n",
              "  <tbody>\n",
              "    <tr>\n",
              "      <th>539</th>\n",
              "      <td>253120</td>\n",
              "      <td>5B</td>\n",
              "      <td>10</td>\n",
              "      <td>8.3400</td>\n",
              "      <td>2014-09-02</td>\n",
              "      <td>2014</td>\n",
              "      <td>9</td>\n",
              "      <td>2</td>\n",
              "      <td>11</td>\n",
              "      <td>1</td>\n",
              "      <td>173.3667</td>\n",
              "      <td>2.8864</td>\n",
              "      <td>77.8233</td>\n",
              "    </tr>\n",
              "    <tr>\n",
              "      <th>7798</th>\n",
              "      <td>260379</td>\n",
              "      <td>6A</td>\n",
              "      <td>6A</td>\n",
              "      <td>6.0100</td>\n",
              "      <td>2014-09-11</td>\n",
              "      <td>2014</td>\n",
              "      <td>9</td>\n",
              "      <td>11</td>\n",
              "      <td>12</td>\n",
              "      <td>3</td>\n",
              "      <td>128.1500</td>\n",
              "      <td>2.8139</td>\n",
              "      <td>57.9200</td>\n",
              "    </tr>\n",
              "    <tr>\n",
              "      <th>14734</th>\n",
              "      <td>267315</td>\n",
              "      <td>6B</td>\n",
              "      <td>5C</td>\n",
              "      <td>9.0800</td>\n",
              "      <td>2014-09-19</td>\n",
              "      <td>2014</td>\n",
              "      <td>9</td>\n",
              "      <td>19</td>\n",
              "      <td>13</td>\n",
              "      <td>4</td>\n",
              "      <td>196.2500</td>\n",
              "      <td>2.7761</td>\n",
              "      <td>87.1275</td>\n",
              "    </tr>\n",
              "    <tr>\n",
              "      <th>14996</th>\n",
              "      <td>267577</td>\n",
              "      <td>4C</td>\n",
              "      <td>6A</td>\n",
              "      <td>5.4800</td>\n",
              "      <td>2014-09-20</td>\n",
              "      <td>2014</td>\n",
              "      <td>9</td>\n",
              "      <td>20</td>\n",
              "      <td>15</td>\n",
              "      <td>5</td>\n",
              "      <td>110.7000</td>\n",
              "      <td>2.9702</td>\n",
              "      <td>50.8850</td>\n",
              "    </tr>\n",
              "    <tr>\n",
              "      <th>17131</th>\n",
              "      <td>269712</td>\n",
              "      <td>2A</td>\n",
              "      <td>NaN</td>\n",
              "      <td>4.8800</td>\n",
              "      <td>2014-09-21</td>\n",
              "      <td>2014</td>\n",
              "      <td>9</td>\n",
              "      <td>21</td>\n",
              "      <td>20</td>\n",
              "      <td>6</td>\n",
              "      <td>100.4667</td>\n",
              "      <td>2.9144</td>\n",
              "      <td>46.2533</td>\n",
              "    </tr>\n",
              "    <tr>\n",
              "      <th>21955</th>\n",
              "      <td>274536</td>\n",
              "      <td>6B</td>\n",
              "      <td>6B</td>\n",
              "      <td>2.9700</td>\n",
              "      <td>2014-09-29</td>\n",
              "      <td>2014</td>\n",
              "      <td>9</td>\n",
              "      <td>29</td>\n",
              "      <td>12</td>\n",
              "      <td>0</td>\n",
              "      <td>91.0833</td>\n",
              "      <td>1.9565</td>\n",
              "      <td>39.6267</td>\n",
              "    </tr>\n",
              "    <tr>\n",
              "      <th>22567</th>\n",
              "      <td>275148</td>\n",
              "      <td>4C</td>\n",
              "      <td>4C</td>\n",
              "      <td>1.3700</td>\n",
              "      <td>2014-09-30</td>\n",
              "      <td>2014</td>\n",
              "      <td>9</td>\n",
              "      <td>30</td>\n",
              "      <td>14</td>\n",
              "      <td>1</td>\n",
              "      <td>106.4833</td>\n",
              "      <td>0.7720</td>\n",
              "      <td>42.2167</td>\n",
              "    </tr>\n",
              "    <tr>\n",
              "      <th>24080</th>\n",
              "      <td>736706</td>\n",
              "      <td>6B</td>\n",
              "      <td>3A</td>\n",
              "      <td>6.0500</td>\n",
              "      <td>2014-09-02</td>\n",
              "      <td>2014</td>\n",
              "      <td>9</td>\n",
              "      <td>2</td>\n",
              "      <td>16</td>\n",
              "      <td>1</td>\n",
              "      <td>243.2167</td>\n",
              "      <td>1.4925</td>\n",
              "      <td>98.2633</td>\n",
              "    </tr>\n",
              "    <tr>\n",
              "      <th>27977</th>\n",
              "      <td>740603</td>\n",
              "      <td>4C</td>\n",
              "      <td>2B</td>\n",
              "      <td>4.9900</td>\n",
              "      <td>2014-09-07</td>\n",
              "      <td>2014</td>\n",
              "      <td>9</td>\n",
              "      <td>7</td>\n",
              "      <td>18</td>\n",
              "      <td>6</td>\n",
              "      <td>129.9500</td>\n",
              "      <td>2.3040</td>\n",
              "      <td>56.7650</td>\n",
              "    </tr>\n",
              "    <tr>\n",
              "      <th>29077</th>\n",
              "      <td>741703</td>\n",
              "      <td>4A</td>\n",
              "      <td>5A</td>\n",
              "      <td>7.9400</td>\n",
              "      <td>2014-09-08</td>\n",
              "      <td>2014</td>\n",
              "      <td>9</td>\n",
              "      <td>8</td>\n",
              "      <td>15</td>\n",
              "      <td>0</td>\n",
              "      <td>208.4500</td>\n",
              "      <td>2.2854</td>\n",
              "      <td>89.4025</td>\n",
              "    </tr>\n",
              "  </tbody>\n",
              "</table>\n",
              "</div>"
            ],
            "text/plain": [
              "           id origin_taz  ... trip_mph_avg  est_revenue\n",
              "539    253120         5B  ...       2.8864      77.8233\n",
              "7798   260379         6A  ...       2.8139      57.9200\n",
              "14734  267315         6B  ...       2.7761      87.1275\n",
              "14996  267577         4C  ...       2.9702      50.8850\n",
              "17131  269712         2A  ...       2.9144      46.2533\n",
              "21955  274536         6B  ...       1.9565      39.6267\n",
              "22567  275148         4C  ...       0.7720      42.2167\n",
              "24080  736706         6B  ...       1.4925      98.2633\n",
              "27977  740603         4C  ...       2.3040      56.7650\n",
              "29077  741703         4A  ...       2.2854      89.4025\n",
              "\n",
              "[10 rows x 13 columns]"
            ]
          },
          "metadata": {
            "tags": []
          },
          "execution_count": 53
        }
      ]
    },
    {
      "cell_type": "markdown",
      "metadata": {
        "id": "1pO7cOfpSApT"
      },
      "source": [
        "# Filter Dataset, Define Functions, and Load Methods to be Used to Create Visualizations."
      ]
    },
    {
      "cell_type": "code",
      "metadata": {
        "id": "yF9WpRkaMoW1",
        "outputId": "daad06fd-aa03-48c2-ac0c-05f8d3ae311c",
        "colab": {
          "base_uri": "https://localhost:8080/",
          "height": 34
        }
      },
      "source": [
        "#A few data points represent the zeroth hour of Sep, 2015, extending the time period beyond exactly 365 days:\n",
        "len(df_uber[df_uber.pu_date == datetime.datetime(2015, 9, 1)]) #1852 data points to be censored for convenience."
      ],
      "execution_count": null,
      "outputs": [
        {
          "output_type": "execute_result",
          "data": {
            "text/plain": [
              "1852"
            ]
          },
          "metadata": {
            "tags": []
          },
          "execution_count": 135
        }
      ]
    },
    {
      "cell_type": "code",
      "metadata": {
        "id": "6BtB6ombMocY"
      },
      "source": [
        "#Create dataframe to be used for visualization with exactly 365 days of data, and max trip duration of 16h:\n",
        "df_viz = df_uber[(df_uber.pu_date != datetime.datetime(2015, 9, 1)) & (df_uber.duration_min <= 960)].copy() #1975 cases"
      ],
      "execution_count": null,
      "outputs": []
    },
    {
      "cell_type": "code",
      "metadata": {
        "id": "PYILKnNyMois",
        "outputId": "716f651f-01f4-4168-a7f6-1c1f99ece136",
        "colab": {
          "base_uri": "https://localhost:8080/",
          "height": 297
        }
      },
      "source": [
        "#Descriptive statistics for numerical features:\n",
        "df_viz[['duration_min', 'trip_distance', 'trip_mph_avg', 'est_revenue']].describe()"
      ],
      "execution_count": null,
      "outputs": [
        {
          "output_type": "execute_result",
          "data": {
            "text/html": [
              "<div>\n",
              "<style scoped>\n",
              "    .dataframe tbody tr th:only-of-type {\n",
              "        vertical-align: middle;\n",
              "    }\n",
              "\n",
              "    .dataframe tbody tr th {\n",
              "        vertical-align: top;\n",
              "    }\n",
              "\n",
              "    .dataframe thead th {\n",
              "        text-align: right;\n",
              "    }\n",
              "</style>\n",
              "<table border=\"1\" class=\"dataframe\">\n",
              "  <thead>\n",
              "    <tr style=\"text-align: right;\">\n",
              "      <th></th>\n",
              "      <th>duration_min</th>\n",
              "      <th>trip_distance</th>\n",
              "      <th>trip_mph_avg</th>\n",
              "      <th>est_revenue</th>\n",
              "    </tr>\n",
              "  </thead>\n",
              "  <tbody>\n",
              "    <tr>\n",
              "      <th>count</th>\n",
              "      <td>30925615.0000</td>\n",
              "      <td>30925615.0000</td>\n",
              "      <td>30900749.0000</td>\n",
              "      <td>30925615.0000</td>\n",
              "    </tr>\n",
              "    <tr>\n",
              "      <th>mean</th>\n",
              "      <td>20.9921</td>\n",
              "      <td>5.1997</td>\n",
              "      <td>13.5073</td>\n",
              "      <td>19.2419</td>\n",
              "    </tr>\n",
              "    <tr>\n",
              "      <th>std</th>\n",
              "      <td>16.0844</td>\n",
              "      <td>6.1308</td>\n",
              "      <td>11.7568</td>\n",
              "      <td>15.0808</td>\n",
              "    </tr>\n",
              "    <tr>\n",
              "      <th>min</th>\n",
              "      <td>0.0000</td>\n",
              "      <td>0.0000</td>\n",
              "      <td>0.0000</td>\n",
              "      <td>8.0000</td>\n",
              "    </tr>\n",
              "    <tr>\n",
              "      <th>25%</th>\n",
              "      <td>10.8500</td>\n",
              "      <td>1.6900</td>\n",
              "      <td>8.4100</td>\n",
              "      <td>9.5733</td>\n",
              "    </tr>\n",
              "    <tr>\n",
              "      <th>50%</th>\n",
              "      <td>17.2333</td>\n",
              "      <td>3.0900</td>\n",
              "      <td>11.4489</td>\n",
              "      <td>14.3508</td>\n",
              "    </tr>\n",
              "    <tr>\n",
              "      <th>75%</th>\n",
              "      <td>26.6833</td>\n",
              "      <td>6.2300</td>\n",
              "      <td>16.2669</td>\n",
              "      <td>23.0308</td>\n",
              "    </tr>\n",
              "    <tr>\n",
              "      <th>max</th>\n",
              "      <td>959.3000</td>\n",
              "      <td>568.5700</td>\n",
              "      <td>22548.0000</td>\n",
              "      <td>1225.8583</td>\n",
              "    </tr>\n",
              "  </tbody>\n",
              "</table>\n",
              "</div>"
            ],
            "text/plain": [
              "       duration_min  trip_distance  trip_mph_avg   est_revenue\n",
              "count 30925615.0000  30925615.0000 30900749.0000 30925615.0000\n",
              "mean        20.9921         5.1997       13.5073       19.2419\n",
              "std         16.0844         6.1308       11.7568       15.0808\n",
              "min          0.0000         0.0000        0.0000        8.0000\n",
              "25%         10.8500         1.6900        8.4100        9.5733\n",
              "50%         17.2333         3.0900       11.4489       14.3508\n",
              "75%         26.6833         6.2300       16.2669       23.0308\n",
              "max        959.3000       568.5700    22548.0000     1225.8583"
            ]
          },
          "metadata": {
            "tags": []
          },
          "execution_count": 56
        }
      ]
    },
    {
      "cell_type": "code",
      "metadata": {
        "id": "4Z41uFPFMomH",
        "outputId": "df65d744-d5ce-4f13-a812-979740e4ae7f",
        "colab": {
          "base_uri": "https://localhost:8080/",
          "height": 34
        }
      },
      "source": [
        "len(df_viz[(df_viz.month==8)&(df_viz.year==2015)])"
      ],
      "execution_count": null,
      "outputs": [
        {
          "output_type": "execute_result",
          "data": {
            "text/plain": [
              "3368404"
            ]
          },
          "metadata": {
            "tags": []
          },
          "execution_count": 57
        }
      ]
    },
    {
      "cell_type": "code",
      "metadata": {
        "id": "7wR8fdbAMop3"
      },
      "source": [
        "import matplotlib.mlab as mlab"
      ],
      "execution_count": null,
      "outputs": []
    },
    {
      "cell_type": "code",
      "metadata": {
        "id": "T7Zj3PkjMGlp",
        "outputId": "932292ee-a083-46dc-8626-eac2bfee373f",
        "colab": {
          "base_uri": "https://localhost:8080/",
          "height": 153
        }
      },
      "source": [
        "!pip install plotly as py"
      ],
      "execution_count": null,
      "outputs": [
        {
          "output_type": "stream",
          "text": [
            "Requirement already satisfied: plotly in /usr/local/lib/python3.6/dist-packages (4.4.1)\n",
            "Collecting as\n",
            "  Downloading https://files.pythonhosted.org/packages/b4/08/226c133ec497d25a63edb38527c02db093c7d89e6d4cdc91078834486a5d/as-0.1-py3-none-any.whl\n",
            "Requirement already satisfied: py in /usr/local/lib/python3.6/dist-packages (1.9.0)\n",
            "Requirement already satisfied: retrying>=1.3.3 in /usr/local/lib/python3.6/dist-packages (from plotly) (1.3.3)\n",
            "Requirement already satisfied: six in /usr/local/lib/python3.6/dist-packages (from plotly) (1.15.0)\n",
            "Installing collected packages: as\n",
            "Successfully installed as-0.1\n"
          ],
          "name": "stdout"
        }
      ]
    },
    {
      "cell_type": "code",
      "metadata": {
        "id": "1uvcwtoxMGoY",
        "outputId": "7ce8e9c5-a26f-4698-881d-8fc3ccd96b48",
        "colab": {
          "base_uri": "https://localhost:8080/",
          "height": 258
        }
      },
      "source": [
        "!pip install chart_studio"
      ],
      "execution_count": null,
      "outputs": [
        {
          "output_type": "stream",
          "text": [
            "Collecting chart_studio\n",
            "\u001b[?25l  Downloading https://files.pythonhosted.org/packages/ca/ce/330794a6b6ca4b9182c38fc69dd2a9cbff60fd49421cb8648ee5fee352dc/chart_studio-1.1.0-py3-none-any.whl (64kB)\n",
            "\r\u001b[K     |█████                           | 10kB 17.7MB/s eta 0:00:01\r\u001b[K     |██████████▏                     | 20kB 2.2MB/s eta 0:00:01\r\u001b[K     |███████████████▎                | 30kB 2.7MB/s eta 0:00:01\r\u001b[K     |████████████████████▍           | 40kB 3.1MB/s eta 0:00:01\r\u001b[K     |█████████████████████████▍      | 51kB 2.4MB/s eta 0:00:01\r\u001b[K     |██████████████████████████████▌ | 61kB 2.8MB/s eta 0:00:01\r\u001b[K     |████████████████████████████████| 71kB 2.3MB/s \n",
            "\u001b[?25hRequirement already satisfied: retrying>=1.3.3 in /usr/local/lib/python3.6/dist-packages (from chart_studio) (1.3.3)\n",
            "Requirement already satisfied: plotly in /usr/local/lib/python3.6/dist-packages (from chart_studio) (4.4.1)\n",
            "Requirement already satisfied: requests in /usr/local/lib/python3.6/dist-packages (from chart_studio) (2.23.0)\n",
            "Requirement already satisfied: six in /usr/local/lib/python3.6/dist-packages (from chart_studio) (1.15.0)\n",
            "Requirement already satisfied: urllib3!=1.25.0,!=1.25.1,<1.26,>=1.21.1 in /usr/local/lib/python3.6/dist-packages (from requests->chart_studio) (1.24.3)\n",
            "Requirement already satisfied: idna<3,>=2.5 in /usr/local/lib/python3.6/dist-packages (from requests->chart_studio) (2.10)\n",
            "Requirement already satisfied: chardet<4,>=3.0.2 in /usr/local/lib/python3.6/dist-packages (from requests->chart_studio) (3.0.4)\n",
            "Requirement already satisfied: certifi>=2017.4.17 in /usr/local/lib/python3.6/dist-packages (from requests->chart_studio) (2020.6.20)\n",
            "Installing collected packages: chart-studio\n",
            "Successfully installed chart-studio-1.1.0\n"
          ],
          "name": "stdout"
        }
      ]
    },
    {
      "cell_type": "code",
      "metadata": {
        "id": "HTmiwp_lMGrw"
      },
      "source": [
        "import chart_studio.plotly as py"
      ],
      "execution_count": null,
      "outputs": []
    },
    {
      "cell_type": "code",
      "metadata": {
        "id": "cAdwVL0CTHaf"
      },
      "source": [
        "from matplotlib.ticker import FuncFormatter #Call formatter function to format tick values\n",
        "from matplotlib.offsetbox import (OffsetImage, AnnotationBbox) #Create image box\n",
        "from matplotlib._png import read_png #Load png file\n",
        "from matplotlib.patches import Ellipse #Draw ellips"
      ],
      "execution_count": null,
      "outputs": []
    },
    {
      "cell_type": "code",
      "metadata": {
        "id": "MLedoumpTHde"
      },
      "source": [
        "\n",
        "#Create functions to format tick numbers\n",
        "def thousands_comma(x, pos):\n",
        "    \"\"\"\n",
        "    Args are the value and tick position. \n",
        "    Returns number with thousands comma and no decimals.\n",
        "    \"\"\"\n",
        "    return '{:,.0f}'.format(x) #this is the new syntax for formatting"
      ],
      "execution_count": null,
      "outputs": []
    },
    {
      "cell_type": "code",
      "metadata": {
        "id": "5AFfgdLQTHg4"
      },
      "source": [
        "def thousands_format(x, pos):\n",
        "    \"\"\"\n",
        "    Args are the value and tick position. \n",
        "    Returns number of thousands with one decimal, and K in lieu of 3 zeros.\n",
        "    \"\"\"\n",
        "    return '{:.0f}{}'.format(x * 1e-3, 'K') #old syntax: '%1.0fK' % (x * 1e-3)"
      ],
      "execution_count": null,
      "outputs": []
    },
    {
      "cell_type": "code",
      "metadata": {
        "id": "AKRv80NrTHjR"
      },
      "source": [
        "\n",
        "def millions_format(x, pos):\n",
        "    \"\"\"\n",
        "    Args are the value and tick position. \n",
        "    Returns number of millions with one decimal, and M in lieu of 6 zeros.\n",
        "    \"\"\"\n",
        "    return '{:.1f}{}'.format(x * 1e-6, 'M')"
      ],
      "execution_count": null,
      "outputs": []
    },
    {
      "cell_type": "code",
      "metadata": {
        "id": "SLxttUfJTHl5"
      },
      "source": [
        "def millions_currency(x, pos):\n",
        "    \"\"\"\n",
        "    Args are the value and tick position. \n",
        "    Returns number of millions with a $ sign, M in lieu of 6 zeros, and no decimals.\n",
        "    \"\"\"\n",
        "    return '{}{:.0f}{}'.format('$', x * 1e-6, 'M')"
      ],
      "execution_count": null,
      "outputs": []
    },
    {
      "cell_type": "code",
      "metadata": {
        "id": "7bLH9LOETHo4"
      },
      "source": [
        "#Define robust function to automatically add annotated labels on bar plots.\n",
        "#Inspiration from http://composition.al/blog/2015/11/29/a-better-way-to-add-labels-to-bar-charts-with-matplotlib/\n",
        "\n",
        "def annotate_labels(ax, labels_list, **kwargs):\n",
        "    \"\"\"\n",
        "    Function to automatically add labels on bar charts.\n",
        "    It takes a plot axis, an ordered list of labels, and text kwargs.\n",
        "    \"\"\"\n",
        "    \n",
        "    # Get y-axis height to calculate label position from.\n",
        "    (y_bottom, y_top) = ax.get_ylim()\n",
        "    y_height = y_top - y_bottom\n",
        "    \n",
        "    rects = ax.patches\n",
        "\n",
        "    for rect, label in zip(rects, labels_list):\n",
        "        height = rect.get_height()\n",
        "        p_height = (height / y_height) # Fraction of axis height taken up by this rectangle\n",
        "        label_position = height + (y_height * 0.01)\n",
        "        \n",
        "        # If we can fit the label above the column, do that;\n",
        "        # otherwise, put it inside the column (or else, change ylim)\n",
        "        #if p_height > 0.95:\n",
        "        #    label_position = height - (y_height * 0.05)\n",
        "        #else:\n",
        "        #    label_position = height + (y_height * 0.01)\n",
        "\n",
        "        ax.text(rect.get_x() + rect.get_width()/2., label_position, label, kwargs)\n",
        "    return None"
      ],
      "execution_count": null,
      "outputs": []
    },
    {
      "cell_type": "markdown",
      "metadata": {
        "id": "pyUHC_sJStJY"
      },
      "source": [
        "# Visualizing the demand: number of Uber trips per day."
      ]
    },
    {
      "cell_type": "code",
      "metadata": {
        "id": "-PFJnHI-THt6",
        "outputId": "d08d5c9a-2948-498a-cd4a-1a92e150c225",
        "colab": {
          "base_uri": "https://localhost:8080/",
          "height": 136
        }
      },
      "source": [
        "#Create a plotting dataframe with counts (number of trips) grouped by day:\n",
        "byDate = df_viz.groupby('pu_date')['id'].count() #365 complete entries\n",
        "byDate.head()"
      ],
      "execution_count": null,
      "outputs": [
        {
          "output_type": "execute_result",
          "data": {
            "text/plain": [
              "pu_date\n",
              "2014-09-01    31592\n",
              "2014-09-02    41496\n",
              "2014-09-03    46339\n",
              "2014-09-04    53402\n",
              "2014-09-05    59718\n",
              "Name: id, dtype: int64"
            ]
          },
          "metadata": {
            "tags": []
          },
          "execution_count": 68
        }
      ]
    },
    {
      "cell_type": "code",
      "metadata": {
        "id": "KKD4zah9THxO",
        "outputId": "5038b1ce-c87e-4c92-fb78-1658b1dd27d0",
        "colab": {
          "base_uri": "https://localhost:8080/",
          "height": 204
        }
      },
      "source": [
        "byDate['2014-10-28': '2014-11-05'] #an uptick in rides on 11/1, the day before the NYC marathon!"
      ],
      "execution_count": null,
      "outputs": [
        {
          "output_type": "execute_result",
          "data": {
            "text/plain": [
              "pu_date\n",
              "2014-10-28     52084\n",
              "2014-10-29     61082\n",
              "2014-10-30     66369\n",
              "2014-10-31     71787\n",
              "2014-11-01    104450\n",
              "2014-11-02     57289\n",
              "2014-11-03     50491\n",
              "2014-11-04     52395\n",
              "2014-11-05     61518\n",
              "Name: id, dtype: int64"
            ]
          },
          "metadata": {
            "tags": []
          },
          "execution_count": 69
        }
      ]
    },
    {
      "cell_type": "code",
      "metadata": {
        "id": "p4aMnBf5Tnk4",
        "outputId": "15274b37-a109-4b7c-c7ed-9fc8ccbc8ed0",
        "colab": {
          "base_uri": "https://localhost:8080/",
          "height": 34
        }
      },
      "source": [
        "byDate['2015-06-01': '2015-08-31'].mean()"
      ],
      "execution_count": null,
      "outputs": [
        {
          "output_type": "execute_result",
          "data": {
            "text/plain": [
              "107630.82608695653"
            ]
          },
          "metadata": {
            "tags": []
          },
          "execution_count": 70
        }
      ]
    },
    {
      "cell_type": "code",
      "metadata": {
        "id": "fLRjkn8xgj5s",
        "outputId": "e7cba05e-5df9-4cf7-cead-b7ef1eec3ad4",
        "colab": {
          "base_uri": "https://localhost:8080/",
          "height": 543
        }
      },
      "source": [
        "\n",
        "fig = plt.figure()\n",
        "\n",
        "ax = byDate.plot(figsize = (16, 8), fontsize = 12, ylim = (10000, 170000), color = 'navy')\n",
        "\n",
        "formatter = FuncFormatter(thousands_format)\n",
        "ax.yaxis.set_major_formatter(formatter)\n",
        "\n",
        "\n",
        "plt.title('Total Trips per Day with Annotation of Some Major Events and Holidays', fontsize= 20, color='navy')\n",
        "plt.tick_params(labelsize=14)\n",
        "plt.xlabel('')\n",
        "\n",
        "\n",
        "\n",
        "\n"
      ],
      "execution_count": null,
      "outputs": [
        {
          "output_type": "execute_result",
          "data": {
            "text/plain": [
              "Text(0.5, 0, '')"
            ]
          },
          "metadata": {
            "tags": []
          },
          "execution_count": 71
        },
        {
          "output_type": "display_data",
          "data": {
            "image/png": "[encoded data removed]",
            "text/plain": [
              "<Figure size 1152x576 with 1 Axes>"
            ]
          },
          "metadata": {
            "tags": [],
            "needs_background": "light"
          }
        }
      ]
    },
    {
      "cell_type": "markdown",
      "metadata": {
        "id": "zqS5CW65S5xk"
      },
      "source": [
        "# The effect of time on demand for Uber rides: distribution per hour, weekday, and month."
      ]
    },
    {
      "cell_type": "code",
      "metadata": {
        "id": "npRs0Ue9gj8l"
      },
      "source": [
        "weekday_labels = ['Monday', 'Tuesday', 'Wednesday', 'Thursday', 'Friday', 'Saturday', 'Sunday']\n",
        "month_labels = ['Sep', 'Oct', 'Nov', 'Dec', 'Jan', 'Feb', 'Mar', 'Apr', 'May', 'Jun', 'Jul', 'Aug']"
      ],
      "execution_count": null,
      "outputs": []
    },
    {
      "cell_type": "code",
      "metadata": {
        "id": "HGqUTcc-gj_H",
        "outputId": "c6ba92aa-9bbf-4577-a91b-727d6c9cb339",
        "colab": {
          "base_uri": "https://localhost:8080/",
          "height": 943
        }
      },
      "source": [
        "# Create plots comparing demand per different time categories:\n",
        "fig = plt.figure(figsize = (15,16))\n",
        "formatter = FuncFormatter(millions_format)\n",
        "\n",
        "plt.subplot(3,1,1) #this plot could have a polar format, although I'm not sure it'd be a better viz.\n",
        "ax1 = sns.countplot(df_viz.hour, order = range(24))\n",
        "ax1.yaxis.set_major_formatter(formatter)\n",
        "plt.tick_params(labelsize=13)\n",
        "plt.title('Total Number of Trips Between 9/1/2014 and 8/31/2015', fontsize=17, color='navy')\n",
        "plt.xlabel('Hour', fontsize=13)\n",
        "\n",
        "plt.subplot(3,1,2)\n",
        "ax2 = sns.countplot(df_viz.weekday, order = range(7))\n",
        "ax2.set_xticklabels(weekday_labels)\n",
        "ax2.yaxis.set_major_formatter(formatter)\n",
        "plt.tick_params(labelsize=13)\n",
        "plt.xlabel('')\n",
        "\n",
        "plt.subplot(3,1,3) #same as the line plot but with less granularity, perhaps easier to visualize the MOM growth\n",
        "ax3 = sns.countplot(df_viz.month)\n",
        "ax3.set_xticklabels(month_labels)\n",
        "ax3.yaxis.set_major_formatter(formatter)\n",
        "#plt.text(0, 3100000, 'Consistent growth in the number of trips from month to month!', color='navy', size=15)\n",
        "plt.tick_params(labelsize=13)\n",
        "plt.xlabel('')\n",
        "\n",
        "#fig.subplots_adjust(hspace=.5)\n",
        "plt.show()"
      ],
      "execution_count": null,
      "outputs": [
        {
          "output_type": "display_data",
          "data": {
            "image/png": "[encoded data removed]",
            "text/plain": [
              "<Figure size 1080x1152 with 3 Axes>"
            ]
          },
          "metadata": {
            "tags": [],
            "needs_background": "light"
          }
        }
      ]
    },
    {
      "cell_type": "markdown",
      "metadata": {
        "id": "kD7_XRFvTEY3"
      },
      "source": [
        "# Estimated Monthly Base Revenue: how much was the NYC market worth in the period?"
      ]
    },
    {
      "cell_type": "code",
      "metadata": {
        "id": "wRqDWnF_gjxK"
      },
      "source": [
        "#Create dataframe with grouped revenue data:\n",
        "byDateRev = df_viz.groupby('month')['est_revenue'].sum()"
      ],
      "execution_count": null,
      "outputs": []
    },
    {
      "cell_type": "code",
      "metadata": {
        "id": "1vUOrRksj013",
        "outputId": "9393f773-1a9f-4788-aecd-cc789273662c",
        "colab": {
          "base_uri": "https://localhost:8080/",
          "height": 34
        }
      },
      "source": [
        "#Estimate Uber's gross margin for the entire 1 year period based on 25% share of the base revenue.\n",
        "sumRev = byDateRev.sum()\n",
        "print ('${:,.0f}M'.format(sumRev * 1e-6), \"Base Revenue   Uber's Base Gross Margin:\", '${:,.0f}'.format(sumRev * .25))"
      ],
      "execution_count": null,
      "outputs": [
        {
          "output_type": "stream",
          "text": [
            "$595M Base Revenue   Uber's Base Gross Margin: $148,766,619\n"
          ],
          "name": "stdout"
        }
      ]
    },
    {
      "cell_type": "code",
      "metadata": {
        "id": "JFpRt0xkj07T",
        "outputId": "128ded53-34f0-4569-9813-8a5cd37343bc",
        "colab": {
          "base_uri": "https://localhost:8080/",
          "height": 34
        }
      },
      "source": [
        "#Estimated base gross margin based on information that average UberX fare in Sep 2014 was $27 (but it has dropped):\n",
        "len(df_viz) * 27 * .25"
      ],
      "execution_count": null,
      "outputs": [
        {
          "output_type": "execute_result",
          "data": {
            "text/plain": [
              "208747901.25"
            ]
          },
          "metadata": {
            "tags": []
          },
          "execution_count": 76
        }
      ]
    },
    {
      "cell_type": "code",
      "metadata": {
        "id": "S1z41B-Uj1CT",
        "outputId": "c67d9968-d37b-41ef-813a-bd070c5198a3",
        "colab": {
          "base_uri": "https://localhost:8080/",
          "height": 136
        }
      },
      "source": [
        "byDateRev.head()"
      ],
      "execution_count": null,
      "outputs": [
        {
          "output_type": "execute_result",
          "data": {
            "text/plain": [
              "month\n",
              "1   41457151.3925\n",
              "2   47252851.6517\n",
              "3   52154385.1658\n",
              "4   54095066.2220\n",
              "5   61539912.0576\n",
              "Name: est_revenue, dtype: float64"
            ]
          },
          "metadata": {
            "tags": []
          },
          "execution_count": 77
        }
      ]
    },
    {
      "cell_type": "code",
      "metadata": {
        "id": "BHNqZgCgj1Ga",
        "outputId": "83958c54-3b2d-4aa7-f321-d138c89b6330",
        "colab": {
          "base_uri": "https://localhost:8080/",
          "height": 454
        }
      },
      "source": [
        "#Create chart showing total base revenue per month.\n",
        "months_seq = [9,10,11,12,1,2,3,4,5,6,7,8]\n",
        "formatter = FuncFormatter(millions_currency)\n",
        "\n",
        "plt.figure(figsize = (14, 7))\n",
        "ax = sns.barplot(byDateRev.index, byDateRev.values, order = months_seq)\n",
        "ax.set_xticklabels(month_labels)\n",
        "ax.yaxis.set_major_formatter(formatter)\n",
        "\n",
        "font = {'color': 'navy', 'size': 15} #text parameters\n",
        "plt.text(0, 55000000, 'Total Base Revenue for the Period: ${:,.0f} Million'.format(sumRev * 1e-6), \n",
        "         fontdict = font) #params: x, y, text, fontdict\n",
        "plt.xlabel('')\n",
        "plt.ylabel('Revenue (Millions)', fontsize = 15)\n",
        "plt.tick_params(labelsize=13)\n",
        "plt.title('Estimated Monthly Base Revenue from Sep-2014 to Aug-2015', fontsize = 17, color='navy')\n",
        "\n",
        "plt.show()"
      ],
      "execution_count": null,
      "outputs": [
        {
          "output_type": "display_data",
          "data": {
            "image/png": "[encoded data removed]",
            "text/plain": [
              "<Figure size 1008x504 with 1 Axes>"
            ]
          },
          "metadata": {
            "tags": [],
            "needs_background": "light"
          }
        }
      ]
    },
    {
      "cell_type": "code",
      "metadata": {
        "id": "3g1EEG-Nj1N5",
        "outputId": "f6c0a4d8-20e6-4d09-fc82-50d0439cc202",
        "colab": {
          "base_uri": "https://localhost:8080/",
          "height": 34
        }
      },
      "source": [
        "\n",
        "#Mean fare from revenue estimate for the period: $19.24 (assumes all trips are Uber X)\n",
        "df_viz.est_revenue.mean()"
      ],
      "execution_count": null,
      "outputs": [
        {
          "output_type": "execute_result",
          "data": {
            "text/plain": [
              "19.241863987633778"
            ]
          },
          "metadata": {
            "tags": []
          },
          "execution_count": 79
        }
      ]
    },
    {
      "cell_type": "code",
      "metadata": {
        "id": "Kx7bCezWlybx",
        "outputId": "6a65f7a7-1072-4331-a111-03280b323c96",
        "colab": {
          "base_uri": "https://localhost:8080/",
          "height": 255
        }
      },
      "source": [
        "#Rough estimate of revenue share from Uber Pool from 12/1/2014 to 8/31/2015 (total of 25,634,526 trips):\n",
        "#rev = df_viz[(df_viz.pu_date >= datetime.date(2014, 12, 1)) & (df_viz.pu_date <= datetime.date(2015, 8, 31))].est_revenue.mean() #$19.17 mean revenue\n",
        "rev=2\n",
        "print(df_viz.pu_date)\n",
        "print(datetime.date(2014,12,1))\n",
        "u_pool = rev * 0.75 * 1500000\n",
        "u_pool #$21,565,512 estimated revenue"
      ],
      "execution_count": null,
      "outputs": [
        {
          "output_type": "stream",
          "text": [
            "0          2014-09-01\n",
            "1          2014-09-01\n",
            "2          2014-09-01\n",
            "3          2014-09-01\n",
            "4          2014-09-01\n",
            "              ...    \n",
            "30925733   2015-09-01\n",
            "30925734   2015-09-01\n",
            "30925735   2015-09-01\n",
            "30925736   2015-09-01\n",
            "30925737   2015-09-01\n",
            "Name: pu_date, Length: 30925615, dtype: datetime64[ns]\n",
            "2014-12-01\n"
          ],
          "name": "stdout"
        },
        {
          "output_type": "execute_result",
          "data": {
            "text/plain": [
              "2250000.0"
            ]
          },
          "metadata": {
            "tags": []
          },
          "execution_count": 80
        }
      ]
    },
    {
      "cell_type": "code",
      "metadata": {
        "id": "ecQVJfcUlylz",
        "outputId": "f1ac3ff4-ed05-4305-87c3-98553c1c751f",
        "colab": {
          "base_uri": "https://localhost:8080/",
          "height": 238
        }
      },
      "source": [
        "print(df_viz.pu_date <= datetime.datetime(2014,12,1))\n",
        "u_pool = rev * 0.75 * 1500000\n",
        "u_pool #$21,565,512 estimated revenue"
      ],
      "execution_count": null,
      "outputs": [
        {
          "output_type": "stream",
          "text": [
            "0            True\n",
            "1            True\n",
            "2            True\n",
            "3            True\n",
            "4            True\n",
            "            ...  \n",
            "30925733    False\n",
            "30925734    False\n",
            "30925735    False\n",
            "30925736    False\n",
            "30925737    False\n",
            "Name: pu_date, Length: 30925615, dtype: bool\n"
          ],
          "name": "stdout"
        },
        {
          "output_type": "execute_result",
          "data": {
            "text/plain": [
              "2250000.0"
            ]
          },
          "metadata": {
            "tags": []
          },
          "execution_count": 81
        }
      ]
    },
    {
      "cell_type": "code",
      "metadata": {
        "id": "aCyXb29olyuN",
        "outputId": "1aeb6107-9f23-4b5d-dd68-4a2cdd6a12f3",
        "colab": {
          "base_uri": "https://localhost:8080/",
          "height": 255
        }
      },
      "source": [
        "print(df_viz[(df_viz.pu_date >= datetime.datetime(2014, 12, 1)) & (df_viz.pu_date <= datetime.datetime(2015, 8, 31))])"
      ],
      "execution_count": null,
      "outputs": [
        {
          "output_type": "stream",
          "text": [
            "                id origin_taz  ... trip_mph_avg  est_revenue\n",
            "5289279     335241         4C  ...      12.9925       8.0000\n",
            "5289280     335242         14  ...      12.8128      12.3442\n",
            "5289281     335244         2B  ...       8.4990      12.2158\n",
            "5289282     335245         6A  ...      36.9630      32.8017\n",
            "5289283     335246         4B  ...       5.5086       8.0000\n",
            "...            ...        ...  ...          ...          ...\n",
            "30923881  30693465         16  ...      17.1182       8.0000\n",
            "30923882  30693467         4C  ...       9.2738       8.0000\n",
            "30923883  30693468         2A  ...      10.1464      13.2833\n",
            "30923884  30693469          9  ...      39.2934      81.3175\n",
            "30923885  30693471         5A  ...      16.2576      33.9100\n",
            "\n",
            "[25634526 rows x 13 columns]\n"
          ],
          "name": "stdout"
        }
      ]
    },
    {
      "cell_type": "code",
      "metadata": {
        "id": "t9XLtW7Z1cYB"
      },
      "source": [
        "rev = df_viz[(df_viz.pu_date >= datetime.datetime(2014, 12, 1)) & (df_viz.pu_date <= datetime.datetime(2015, 8, 31))].est_revenue.mean() "
      ],
      "execution_count": null,
      "outputs": []
    },
    {
      "cell_type": "code",
      "metadata": {
        "id": "SIfhthU23eaP",
        "outputId": "06320b82-93fd-45ba-feb7-c5f69267f6a2",
        "colab": {
          "base_uri": "https://localhost:8080/",
          "height": 34
        }
      },
      "source": [
        "u_pool = rev * 0.75 * 1500000\n",
        "u_pool #$21,565,512 estimated revenue"
      ],
      "execution_count": null,
      "outputs": [
        {
          "output_type": "execute_result",
          "data": {
            "text/plain": [
              "21565512.055648196"
            ]
          },
          "metadata": {
            "tags": []
          },
          "execution_count": 84
        }
      ]
    },
    {
      "cell_type": "code",
      "metadata": {
        "id": "XEBB0Hhq30uq",
        "outputId": "6e67c6d4-b2f7-4593-b93c-c90603433add",
        "colab": {
          "base_uri": "https://localhost:8080/",
          "height": 34
        }
      },
      "source": [
        "#Rough estimate of revenue share from Uber Pool from 12/1/2014 to 8/31/2015 (total of 25,634,526 trips):\n",
        "rev = df_viz[(df_viz.pu_date >= datetime.datetime(2014, 12, 1)) & (df_viz.pu_date <= datetime.datetime(2015, 8, 31))].est_revenue.mean() #$19.17 mean revenue\n",
        "u_pool = rev * 0.75 * 1500000\n",
        "u_pool #$21,565,512 estimated revenue"
      ],
      "execution_count": null,
      "outputs": [
        {
          "output_type": "execute_result",
          "data": {
            "text/plain": [
              "21565512.055648196"
            ]
          },
          "metadata": {
            "tags": []
          },
          "execution_count": 85
        }
      ]
    },
    {
      "cell_type": "code",
      "metadata": {
        "id": "DGCEZqoS4icS",
        "outputId": "216c2b60-cdb4-43ae-f9d1-05924cf6ab6c",
        "colab": {
          "base_uri": "https://localhost:8080/",
          "height": 34
        }
      },
      "source": [
        "u_pool/df_viz[(df_viz.pu_date >= datetime.datetime(2014, 12, 1)) & (df_viz.pu_date <= datetime.datetime(2015, 8, 31))].est_revenue.sum() #Uber Pool represented only about 4% of the total revenue for the period between Dec/14 and Aug/15."
      ],
      "execution_count": null,
      "outputs": [
        {
          "output_type": "execute_result",
          "data": {
            "text/plain": [
              "0.04388612451814645"
            ]
          },
          "metadata": {
            "tags": []
          },
          "execution_count": 86
        }
      ]
    },
    {
      "cell_type": "markdown",
      "metadata": {
        "id": "qZ7XqUpnTfUP"
      },
      "source": [
        "# Month over Month Base Revenue Growth: how fast has Uber grown in the period?"
      ]
    },
    {
      "cell_type": "code",
      "metadata": {
        "id": "Xm_R2gf44ij8",
        "outputId": "b1d9a778-642b-4b38-d6af-0a0d5477ee63",
        "colab": {
          "base_uri": "https://localhost:8080/",
          "height": 221
        }
      },
      "source": [
        "\n",
        "#Create dictionary with calculated month over month revenue percentage growth:\n",
        "dict_growth = {}\n",
        "for i in range(len(months_seq)):\n",
        "    mo = months_seq[i]\n",
        "    rev = byDateRev[mo]\n",
        "    if mo == 9:\n",
        "        growth_pct = 0\n",
        "    elif mo == 1:\n",
        "        growth_pct = ((rev/byDateRev[12]) - 1) * 100\n",
        "    else:\n",
        "        growth_pct = ((rev/byDateRev[mo - 1]) - 1) * 100\n",
        "    print (month_labels[i], 'Revenue =', '${:,.0f}'.format(rev), 'Growth % = ', '{:.1f}'.format(growth_pct))\n",
        "    dict_growth[month_labels[i]] = growth_pct"
      ],
      "execution_count": null,
      "outputs": [
        {
          "output_type": "stream",
          "text": [
            "Sep Revenue = $29,967,741 Growth % =  0.0\n",
            "Oct Revenue = $35,531,001 Growth % =  18.6\n",
            "Nov Revenue = $38,170,687 Growth % =  7.4\n",
            "Dec Revenue = $41,661,569 Growth % =  9.1\n",
            "Jan Revenue = $41,457,151 Growth % =  -0.5\n",
            "Feb Revenue = $47,252,852 Growth % =  14.0\n",
            "Mar Revenue = $52,154,385 Growth % =  10.4\n",
            "Apr Revenue = $54,095,066 Growth % =  3.7\n",
            "May Revenue = $61,539,912 Growth % =  13.8\n",
            "Jun Revenue = $63,667,666 Growth % =  3.5\n",
            "Jul Revenue = $63,607,348 Growth % =  -0.1\n",
            "Aug Revenue = $65,961,099 Growth % =  3.7\n"
          ],
          "name": "stdout"
        }
      ]
    },
    {
      "cell_type": "code",
      "metadata": {
        "id": "lk0IIDOI6Mtu",
        "outputId": "d9afb9b9-56f0-4bcf-c79e-95b412b96711",
        "colab": {
          "base_uri": "https://localhost:8080/",
          "height": 456
        }
      },
      "source": [
        "#Annotate Total Cummulative Growth for the Period\n",
        "\n",
        "df_plt1 = pd.DataFrame(pd.Series(dict_growth), index = month_labels, columns = ['growth_pct'])\n",
        "\n",
        "labels_list = df_plt1.growth_pct.values.round(1)\n",
        "kwargs = {'fontsize': 12, 'ha':'center', 'va': 'bottom', 'weight': 'bold', 'color': 'navy'}\n",
        "\n",
        "ax = df_plt1.plot(kind = 'bar', figsize = (15,7), fontsize = 14, rot = 0, legend=False)#df_plt2[1:] to exclude Sep\n",
        "\n",
        "ax.get_yaxis().set_ticks([])\n",
        "annotate_labels(ax, labels_list, **kwargs)\n",
        "\n",
        "plt.axhline(0, color='yellow')\n",
        "plt.title('Month Over Month Percentage Growth of Base Revenue From September 2014', \n",
        "          fontsize = 17, color='navy')\n",
        "plt.ylabel('Growth %', fontsize = 15, weight='bold', color='navy')\n",
        "plt.ylim(-2, 22)\n",
        "plt.tick_params(labelsize=15)\n",
        "\n",
        "plt.show()"
      ],
      "execution_count": null,
      "outputs": [
        {
          "output_type": "display_data",
          "data": {
            "image/png": "[encoded data removed]",
            "text/plain": [
              "<Figure size 1080x504 with 1 Axes>"
            ]
          },
          "metadata": {
            "tags": [],
            "needs_background": "light"
          }
        }
      ]
    },
    {
      "cell_type": "code",
      "metadata": {
        "id": "ZljQWj4S6M2Q",
        "outputId": "131abfd9-7ff7-4312-bd86-c90824f6c8cb",
        "colab": {
          "base_uri": "https://localhost:8080/",
          "height": 418
        }
      },
      "source": [
        "\n",
        "#Plot Cummulative Base Revenue Growth Over the Period\n",
        "print ('Cummulative % Growth Over Period:'), df_plt1.growth_pct.sum()\n",
        "\n",
        "df_plt1.cumsum().plot(color = 'navy', marker = 'D', legend = False, figsize=(16, 6))\n",
        "plt.title('Cummulative Revenue Growth Percentage from September 2014', fontsize=17, weight='bold', color='navy')\n",
        "plt.tick_params(labelsize=14)\n",
        "plt.show()"
      ],
      "execution_count": null,
      "outputs": [
        {
          "output_type": "stream",
          "text": [
            "Cummulative % Growth Over Period:\n"
          ],
          "name": "stdout"
        },
        {
          "output_type": "display_data",
          "data": {
            "image/png": "[encoded data removed]",
            "text/plain": [
              "<Figure size 1152x432 with 1 Axes>"
            ]
          },
          "metadata": {
            "tags": [],
            "needs_background": "light"
          }
        }
      ]
    },
    {
      "cell_type": "markdown",
      "metadata": {
        "id": "DSuozWQEToqN"
      },
      "source": [
        "# Which day of the week has the worst (slowest) traffic overall?"
      ]
    },
    {
      "cell_type": "code",
      "metadata": {
        "id": "57zVqlfn6M6L"
      },
      "source": [
        "#Create dataframe with grouped data.\n",
        "df_plt2 = df_viz.groupby('weekday')['trip_mph_avg'].median() #used median since distribution is skewed."
      ],
      "execution_count": null,
      "outputs": []
    },
    {
      "cell_type": "code",
      "metadata": {
        "id": "Y8Vm6l2w6M8l",
        "outputId": "fd64a412-5fb3-4b27-ada2-e0a63fcb96ec",
        "colab": {
          "base_uri": "https://localhost:8080/",
          "height": 401
        }
      },
      "source": [
        "#Create plot. Does Saturday have better traffic flow than Monday?\n",
        "\n",
        "fig = plt.figure()\n",
        "labels_list = df_plt2.values.round(1)\n",
        "kwargs = {'fontsize': 12, 'ha':'center', 'va': 'bottom', 'weight': 'bold', 'color': 'navy'}\n",
        "\n",
        "ax = df_plt2.plot(kind='bar', rot = 0, figsize = (12, 6), fontsize = 12, edgecolor='yellow', linewidth=1)\n",
        "ax.set_xticklabels(weekday_labels, weight='bold')\n",
        "\n",
        "ax.get_yaxis().set_ticks([])\n",
        "annotate_labels(ax, labels_list, **kwargs)\n",
        "\n",
        "plt.xlabel('')\n",
        "plt.ylabel('Median Trip Speed (mph)', fontsize = 14)\n",
        "plt.tick_params(labelsize=14)\n",
        "plt.title('Which day of the week has the worst traffic?', fontsize = 18, color='navy')\n",
        "plt.show()\n",
        "#plot_url = py.plot_mpl(fig)"
      ],
      "execution_count": null,
      "outputs": [
        {
          "output_type": "display_data",
          "data": {
            "image/png": "[encoded data removed]",
            "text/plain": [
              "<Figure size 864x432 with 1 Axes>"
            ]
          },
          "metadata": {
            "tags": [],
            "needs_background": "light"
          }
        }
      ]
    },
    {
      "cell_type": "markdown",
      "metadata": {
        "id": "jgqFCch2Tw0G"
      },
      "source": [
        "# What is the median distance traveled per trip? Are there any insights we can learn from it?"
      ]
    },
    {
      "cell_type": "code",
      "metadata": {
        "id": "6UREuN436NCU",
        "outputId": "6a9cb493-8c27-4fa3-8d9e-a2b0d2595ec4",
        "colab": {
          "base_uri": "https://localhost:8080/",
          "height": 415
        }
      },
      "source": [
        "#Why is the median distance traveled around 5 AM much longer than at the other times?\n",
        "#Could it be picking up riders that would otherwise use public transportation to the outer boroughs? \n",
        "#While the subway runs 24/7 in NYC, bus services don't. It's clear though that most customer are within Manhattan.\n",
        "plt.figure(figsize = (16,6))\n",
        "\n",
        "plt.subplot(1,2,1)\n",
        "df_viz[(df_viz.weekday >= 5)].groupby('hour')['trip_distance'].median().plot(kind='bar', rot = 0, fontsize=14)\n",
        "plt.ylim(0, 9)\n",
        "plt.tick_params(labelsize=12)\n",
        "plt.ylabel('Median Trip Distance (miles)', fontsize=14, weight='bold', color='navy')\n",
        "plt.xlabel('Hour', fontsize=14, weight='bold', color='navy')\n",
        "plt.title('Weekend', fontsize=14, weight='bold', color='navy')\n",
        "\n",
        "plt.subplot(1,2,2)\n",
        "df_viz[df_viz.weekday < 5].groupby('hour')['trip_distance'].median().plot(kind='bar', rot = 0)\n",
        "plt.tick_params(labelsize=12)\n",
        "plt.xlabel('Hour', fontsize=14, weight='bold', color='navy')\n",
        "plt.title('Weekdays', fontsize=14, weight='bold', color='navy')\n",
        "\n",
        "plt.show()"
      ],
      "execution_count": null,
      "outputs": [
        {
          "output_type": "display_data",
          "data": {
            "image/png": "[encoded data removed]",
            "text/plain": [
              "<Figure size 1152x432 with 2 Axes>"
            ]
          },
          "metadata": {
            "tags": [],
            "needs_background": "light"
          }
        }
      ]
    },
    {
      "cell_type": "code",
      "metadata": {
        "id": "dYLzbC_I6NE-",
        "outputId": "2ffffbb2-e64f-4af6-ed84-79f6bf35166a",
        "colab": {
          "base_uri": "https://localhost:8080/",
          "height": 738
        }
      },
      "source": [
        "#Create plot similar to the above but with the count of trips per hour, comparing weekday vs weekend and \n",
        "#distances >=5 versus < 5 miles. Indeed, the plots show that there is a higher demand for trips that go beyond \n",
        "#miles (outside Manhattan) from 5 to 7 AM on weekdays, and from 6 to 8 AM on weekends (Saturday and Sunday).\n",
        "\n",
        "fig = plt.figure(figsize = (16,12))\n",
        "formatter = FuncFormatter(thousands_format)\n",
        "\n",
        "\n",
        "plt.subplot(2,2,1)\n",
        "ax1 = df_viz[(df_viz.weekday < 5) & (df_viz.trip_distance >= 5)].\\\n",
        "groupby('hour')['trip_distance'].count().plot(kind='bar', rot = 0)\n",
        "ax1.yaxis.set_major_formatter(formatter)\n",
        "ellipse = Ellipse(xy=(5, 150000), width=4, height=200000, edgecolor='red', fc='None', lw=1.5)\n",
        "ax1.add_patch(ellipse)\n",
        "plt.xlabel('Hour', fontsize=14, weight='bold', color='navy')\n",
        "plt.ylabel('Demand (number of trips)', fontsize=14, weight='bold', color='navy')\n",
        "plt.ylim(0, 1400000)\n",
        "plt.title('Weekday, 5 miles or more', fontsize=14, weight='bold', color='navy')\n",
        "\n",
        "plt.subplot(2,2,2)\n",
        "ax2 = df_viz[(df_viz.weekday < 5) & (df_viz.trip_distance < 5)].\\\n",
        "groupby('hour')['trip_distance'].count().plot(kind='bar', rot = 0)\n",
        "ax2.yaxis.set_major_formatter(formatter)\n",
        "ellipse = Ellipse(xy=(5, 150000), width=4, height=200000, edgecolor='red', fc='None', lw=1.5)\n",
        "ax2.add_patch(ellipse)\n",
        "plt.xlabel('Hour', fontsize=14, weight='bold', color='navy')\n",
        "plt.title('Weekday, less than 5 miles', fontsize=14, weight='bold', color='navy')\n",
        "\n",
        "plt.subplot(2,2,3)\n",
        "ax3 = df_viz[(df_viz.weekday >= 5) & (df_viz.trip_distance >= 5)].\\\n",
        "groupby('hour')['trip_distance'].count().plot(kind='bar', rot = 0)\n",
        "ax3.yaxis.set_major_formatter(formatter)\n",
        "ellipse = Ellipse(xy=(6.5, 50000), width=4, height=80000, edgecolor='red', fc='None', lw=1.5)\n",
        "ax3.add_patch(ellipse)\n",
        "plt.xlabel('Hour', fontsize=14, weight='bold', color='navy')\n",
        "plt.ylabel('Demand (number of trips)', fontsize=14, weight='bold', color='navy')\n",
        "plt.ylim(0, 500000)\n",
        "plt.title('Weekend, 5 miles or more', fontsize=14, weight='bold', color='navy')\n",
        "\n",
        "plt.subplot(2,2,4)\n",
        "ax4 = df_viz[(df_viz.weekday >= 5) & (df_viz.trip_distance < 5)].\\\n",
        "groupby('hour')['trip_distance'].count().plot(kind='bar', rot = 0)\n",
        "ax4.yaxis.set_major_formatter(formatter)\n",
        "ellipse = Ellipse(xy=(6.5, 50000), width=4, height=80000, edgecolor='red', fc='None', lw=1.5)\n",
        "ax4.add_patch(ellipse)\n",
        "plt.xlabel('Hour', fontsize=14, weight='bold', color='navy')\n",
        "plt.title('Weekend, less than 5 miles', fontsize=14, weight='bold', color='navy')\n",
        "\n",
        "\n",
        "fig.subplots_adjust(hspace=0.4)\n",
        "plt.show()\n",
        "#plot_url = py.plot_mpl(fig)"
      ],
      "execution_count": null,
      "outputs": [
        {
          "output_type": "display_data",
          "data": {
            "image/png": "[encoded data removed]",
            "text/plain": [
              "<Figure size 1152x864 with 4 Axes>"
            ]
          },
          "metadata": {
            "tags": [],
            "needs_background": "light"
          }
        }
      ]
    },
    {
      "cell_type": "markdown",
      "metadata": {
        "id": "UsxC9c0KT5FW"
      },
      "source": [
        "# What are the most popular pickup and drop-off taxi zones?"
      ]
    },
    {
      "cell_type": "code",
      "metadata": {
        "id": "c-Ecxn966M_Z"
      },
      "source": [
        "#CREATE INSTEAD SIDE-STACKED PLOT WITH TOP 10 PICKUP AND DROP-OFF LOCATIONS? OR TRY TOYPLOT WITH VALUE FOR EACH BAR."
      ],
      "execution_count": null,
      "outputs": []
    },
    {
      "cell_type": "code",
      "metadata": {
        "id": "kGYORL_l7jot",
        "outputId": "1977f1c2-844e-4d1a-c5db-1742f1613685",
        "colab": {
          "base_uri": "https://localhost:8080/",
          "height": 51
        }
      },
      "source": [
        "#Percentage of trips represented by the top five origins/destinations:\n",
        "print (df_viz.origin_taz.value_counts().head(5).sum()/float(len(df_viz))) #13,583,249\n",
        "print (df_viz.destination_taz.value_counts().head(5).sum()/float(len(df_viz[df_viz.destination_taz.isnull() == False])))"
      ],
      "execution_count": null,
      "outputs": [
        {
          "output_type": "stream",
          "text": [
            "0.4392216937318789\n",
            "0.41585189564289543\n"
          ],
          "name": "stdout"
        }
      ]
    },
    {
      "cell_type": "code",
      "metadata": {
        "id": "TxhQpLVE7jsI",
        "outputId": "7c3c01d2-b643-46d5-cd99-0fa92ab742ab",
        "colab": {
          "base_uri": "https://localhost:8080/",
          "height": 34
        }
      },
      "source": [
        "\n",
        "#Total pickups or drop-offs within any combination of the top 5 locations: 6231353 (20% of the total trips)\n",
        "len(df_viz[(df_viz.origin_taz.isin(['2A', '15', '4C', '1', '6B']) == True) & \\\n",
        "           (df_viz.destination_taz.isin(['2A', '15', '4C', '1', '6B']) == True)])"
      ],
      "execution_count": null,
      "outputs": [
        {
          "output_type": "execute_result",
          "data": {
            "text/plain": [
              "6231752"
            ]
          },
          "metadata": {
            "tags": []
          },
          "execution_count": 96
        }
      ]
    },
    {
      "cell_type": "code",
      "metadata": {
        "id": "CAyhpfh67jy3",
        "outputId": "e2f8664b-4ae5-4385-afdb-88f57ef2ce20",
        "colab": {
          "base_uri": "https://localhost:8080/",
          "height": 34
        }
      },
      "source": [
        "#29% of all trips start or finish at 2A:\n",
        "len(df_viz[(df_viz.origin_taz == '2A') | (df_viz.destination_taz == '2A')])/(1.0*len(df_viz)) #8979830"
      ],
      "execution_count": null,
      "outputs": [
        {
          "output_type": "execute_result",
          "data": {
            "text/plain": [
              "0.29038433027120075"
            ]
          },
          "metadata": {
            "tags": []
          },
          "execution_count": 97
        }
      ]
    },
    {
      "cell_type": "markdown",
      "metadata": {
        "id": "qIMO8WzFUAtK"
      },
      "source": [
        "# Visualizing the most popular pick up and drop off location pairs."
      ]
    },
    {
      "cell_type": "code",
      "metadata": {
        "id": "zFoV4yMI7j3t"
      },
      "source": [
        "#Define data to plot:\n",
        "df_plt3 = df_viz.pivot_table('id', aggfunc='count', index='origin_taz', columns='destination_taz')"
      ],
      "execution_count": null,
      "outputs": []
    },
    {
      "cell_type": "code",
      "metadata": {
        "id": "rxDF3kro8VEC",
        "outputId": "e5c263cd-3766-49cb-c257-f031383c39a1",
        "colab": {
          "base_uri": "https://localhost:8080/",
          "height": 34
        }
      },
      "source": [
        "df_plt3.shape"
      ],
      "execution_count": null,
      "outputs": [
        {
          "output_type": "execute_result",
          "data": {
            "text/plain": [
              "(28, 29)"
            ]
          },
          "metadata": {
            "tags": []
          },
          "execution_count": 99
        }
      ]
    },
    {
      "cell_type": "code",
      "metadata": {
        "id": "UTJP6-MJ8Vj3",
        "outputId": "695f42f1-124f-4165-9dee-32b82ec395f9",
        "colab": {
          "base_uri": "https://localhost:8080/",
          "height": 596
        }
      },
      "source": [
        "#Visualize the origin versus destination matrix via a heatmap:\n",
        "\n",
        "fig = plt.figure(figsize=(9,9))\n",
        "\n",
        "cmap = sns.cubehelix_palette(8, start=2, rot=0, dark=0, light=.9, as_cmap=True) #'YlOrRd' #ggplot:'viridis'\n",
        "\n",
        "sns.heatmap(df_plt3, cmap=cmap, linewidths=0.1, cbar=False)\n",
        "\n",
        "plt.title('Total Trips by Pickup and Drof-Off Taxi Zones', fontsize=18, color='navy')\n",
        "plt.xlabel('Destination', fontsize=15, fontname='Tahoma', color='navy')\n",
        "plt.ylabel('Origin', fontsize=15, fontname='Tahoma', color='navy')\n",
        "plt.tick_params(labelsize=11)\n",
        "plt.show()"
      ],
      "execution_count": null,
      "outputs": [
        {
          "output_type": "stream",
          "text": [
            "findfont: Font family ['Tahoma'] not found. Falling back to DejaVu Sans.\n"
          ],
          "name": "stderr"
        },
        {
          "output_type": "display_data",
          "data": {
            "image/png": "[encoded data removed]",
            "text/plain": [
              "<Figure size 648x648 with 1 Axes>"
            ]
          },
          "metadata": {
            "tags": [],
            "needs_background": "light"
          }
        }
      ]
    },
    {
      "cell_type": "code",
      "metadata": {
        "id": "lpeS1zSv8VmD",
        "outputId": "79fc0a8f-5564-437d-d9e2-69ea05636cb1",
        "colab": {
          "base_uri": "https://localhost:8080/",
          "height": 34
        }
      },
      "source": [
        "len(df_viz[(df_viz.origin_taz.isin(['2A', '15', '4C', '1', '6B']) == True) & \\\n",
        "           (df_viz.destination_taz.isin(['2A', '15', '4C', '1', '6B']) == True)])"
      ],
      "execution_count": null,
      "outputs": [
        {
          "output_type": "execute_result",
          "data": {
            "text/plain": [
              "6231752"
            ]
          },
          "metadata": {
            "tags": []
          },
          "execution_count": 101
        }
      ]
    },
    {
      "cell_type": "markdown",
      "metadata": {
        "id": "ftE0FvSbULNf"
      },
      "source": [
        "\n",
        "# What is the mean time and distance to destination from the most popular pick up location?"
      ]
    },
    {
      "cell_type": "code",
      "metadata": {
        "id": "EXcg6ogR8Vpd"
      },
      "source": [
        "#Plot the mean travel time from the most popular origin, to all possible destinations.\n",
        "df_plt4 = df_viz[df_viz.origin_taz == '2A'].groupby('destination_taz')['trip_distance'].mean().sort_values()\n",
        "df_plt5 = df_viz[df_viz.origin_taz == '2A'].groupby('destination_taz')['duration_min'].mean().sort_values()"
      ],
      "execution_count": null,
      "outputs": []
    },
    {
      "cell_type": "code",
      "metadata": {
        "id": "_KOFD67t8Vfl",
        "outputId": "25ef9d26-daf6-4190-bf0f-e42bdc330e67",
        "colab": {
          "base_uri": "https://localhost:8080/",
          "height": 744
        }
      },
      "source": [
        "#Assuming 18 is EWR, and given the average driving distance from 2A, this pick up location is probably located in \n",
        "#Midtown, not in Lower Manhattan (Penn Station lat/long: 40.750568, -73.993519)\n",
        "#Straight line distance: 11 miles, Driving distance: 15 miles Difference: 36%\n",
        "#The mean time and distance to zone 18 adds further evidence that it's the EWR airport (from Midtown).\n",
        "#Based on the distance from 2A, if the origin is Midtown, then 15 is in Upper Manhattan.\n",
        "\n",
        "fig = plt.figure(figsize = (16,12))\n",
        "kwargs = {'fontsize': 12, 'ha':'center', 'va': 'bottom', 'color': 'navy'}\n",
        "\n",
        "\n",
        "plt.subplot(2,1,1)\n",
        "ax1 = sns.barplot(x=df_plt4.index, y=df_plt4.values)\n",
        "\n",
        "#ax1.set_yticks(range(0, 21, 2))\n",
        "ax1.get_yaxis().set_ticks([])\n",
        "labels_list = df_plt4.values.round(1)\n",
        "annotate_labels(ax1, labels_list, **kwargs)\n",
        "plt.title('Mean Distance to Destination from the Most Popular Pickup Zone: 2A', fontsize=17, color='navy')\n",
        "plt.ylabel('Mean Distance (Miles)', fontsize = 14)\n",
        "plt.xlabel('Drop-off Taxi Zone', fontsize=14)\n",
        "plt.tick_params(labelsize=12)\n",
        "\n",
        "\n",
        "plt.subplot(2,1,2)\n",
        "ax2 = sns.barplot(x=df_plt5.index, y=df_plt5.values)\n",
        "\n",
        "#ax2.set_yticks(range(0, 51, 5))\n",
        "ax2.get_yaxis().set_ticks([])\n",
        "labels_list = df_plt5.apply(lambda x: '{:.0f}'.format(round(x))).values\n",
        "annotate_labels(ax2, labels_list, **kwargs)\n",
        "plt.title('Mean Time to Destination from the Most Popular Pickup Zone: 2A', fontsize=17, color='navy')\n",
        "plt.ylabel('Mean Time (Minutes)', fontsize = 14)\n",
        "plt.ylim(0,55)\n",
        "plt.xlabel('Drop-off Taxi Zone', fontsize=14)\n",
        "plt.tick_params(labelsize=12)\n",
        "\n",
        "\n",
        "fig.subplots_adjust(hspace=.5)\n",
        "plt.show()\n",
        "#plot_url = py.plot_mpl(fig)"
      ],
      "execution_count": null,
      "outputs": [
        {
          "output_type": "display_data",
          "data": {
            "image/png": "[encoded data removed]",
            "text/plain": [
              "<Figure size 1152x864 with 2 Axes>"
            ]
          },
          "metadata": {
            "tags": [],
            "needs_background": "light"
          }
        }
      ]
    },
    {
      "cell_type": "markdown",
      "metadata": {
        "id": "_y292_svUUF8"
      },
      "source": [
        "\n",
        "# Visualization of Variable Distributions and Bivariate Relationships.\n",
        "# Distribution of trip distance"
      ]
    },
    {
      "cell_type": "code",
      "metadata": {
        "id": "42i7GfbJ9bCE",
        "outputId": "42428179-c075-4022-ced6-716758a980fc",
        "colab": {
          "base_uri": "https://localhost:8080/",
          "height": 34
        }
      },
      "source": [
        "df_viz.trip_distance.max(), df_uber.trip_distance.max()"
      ],
      "execution_count": null,
      "outputs": [
        {
          "output_type": "execute_result",
          "data": {
            "text/plain": [
              "(568.57, 2593.08)"
            ]
          },
          "metadata": {
            "tags": []
          },
          "execution_count": 104
        }
      ]
    },
    {
      "cell_type": "code",
      "metadata": {
        "id": "9NKk8B9P9bPk",
        "outputId": "24fe526b-6dc2-448c-f450-57466e045f4f",
        "colab": {
          "base_uri": "https://localhost:8080/",
          "height": 68
        }
      },
      "source": [
        "freq, bins_dist = np.histogram(df_viz.trip_distance, bins=10, range=(0, 25))\n",
        "freq, bins_dist"
      ],
      "execution_count": null,
      "outputs": [
        {
          "output_type": "execute_result",
          "data": {
            "text/plain": [
              "(array([12709827,  8364570,  3567013,  2035400,  1296935,   672724,\n",
              "          706029,   747773,   299952,   132574]),\n",
              " array([ 0. ,  2.5,  5. ,  7.5, 10. , 12.5, 15. , 17.5, 20. , 22.5, 25. ]))"
            ]
          },
          "metadata": {
            "tags": []
          },
          "execution_count": 105
        }
      ]
    },
    {
      "cell_type": "code",
      "metadata": {
        "id": "M0SIJQXZ9bTs",
        "outputId": "afe4a127-dcea-49d1-d6b4-16f0c8eb9778",
        "colab": {
          "base_uri": "https://localhost:8080/",
          "height": 187
        }
      },
      "source": [
        "#69% of all trips had distance < 5 miles\n",
        "for val in freq:\n",
        "    print (float(val)/sum(freq))"
      ],
      "execution_count": null,
      "outputs": [
        {
          "output_type": "stream",
          "text": [
            "0.4162680215638286\n",
            "0.27395361125939427\n",
            "0.11682562196971343\n",
            "0.06666274301695976\n",
            "0.042476783243932746\n",
            "0.022032832432613364\n",
            "0.02312362670213279\n",
            "0.024490812289486612\n",
            "0.009823928020744381\n",
            "0.004342019501194077\n"
          ],
          "name": "stdout"
        }
      ]
    },
    {
      "cell_type": "code",
      "metadata": {
        "id": "FfBaK-O69bW1",
        "outputId": "6480512f-f256-4c6c-f35f-a5096bbbf362",
        "colab": {
          "base_uri": "https://localhost:8080/",
          "height": 34
        }
      },
      "source": [
        "df_viz.trip_distance.median(), df_viz.trip_distance.mean()"
      ],
      "execution_count": null,
      "outputs": [
        {
          "output_type": "execute_result",
          "data": {
            "text/plain": [
              "(3.09, 5.199671270672491)"
            ]
          },
          "metadata": {
            "tags": []
          },
          "execution_count": 107
        }
      ]
    },
    {
      "cell_type": "code",
      "metadata": {
        "id": "LCoYCcPX9bag",
        "outputId": "59e87b3f-fcc9-4470-d06d-8e376d19e09b",
        "colab": {
          "base_uri": "https://localhost:8080/",
          "height": 51
        }
      },
      "source": [
        "print (len(df_viz[df_viz.trip_distance <= 5])/(1.0 *len(df_viz))) #68% of trips are 5 miles or less\n",
        "print (len(df_viz[df_viz.trip_distance <= 2])/(1.0 *len(df_viz))) #32% of trips are 2 miles or less"
      ],
      "execution_count": null,
      "outputs": [
        {
          "output_type": "stream",
          "text": [
            "0.6821346964320677\n",
            "0.3192324550376767\n"
          ],
          "name": "stdout"
        }
      ]
    },
    {
      "cell_type": "code",
      "metadata": {
        "id": "jVkOa6Qc9beG",
        "outputId": "758e2d5b-c252-435c-e32e-6015360a3e84",
        "colab": {
          "base_uri": "https://localhost:8080/",
          "height": 359
        }
      },
      "source": [
        "#Vey long distance trips (>= 300 miles):\n",
        "df_viz[df_viz.trip_distance >= 300].head(10) #45 total"
      ],
      "execution_count": null,
      "outputs": [
        {
          "output_type": "execute_result",
          "data": {
            "text/html": [
              "<div>\n",
              "<style scoped>\n",
              "    .dataframe tbody tr th:only-of-type {\n",
              "        vertical-align: middle;\n",
              "    }\n",
              "\n",
              "    .dataframe tbody tr th {\n",
              "        vertical-align: top;\n",
              "    }\n",
              "\n",
              "    .dataframe thead th {\n",
              "        text-align: right;\n",
              "    }\n",
              "</style>\n",
              "<table border=\"1\" class=\"dataframe\">\n",
              "  <thead>\n",
              "    <tr style=\"text-align: right;\">\n",
              "      <th></th>\n",
              "      <th>id</th>\n",
              "      <th>origin_taz</th>\n",
              "      <th>destination_taz</th>\n",
              "      <th>trip_distance</th>\n",
              "      <th>pu_date</th>\n",
              "      <th>year</th>\n",
              "      <th>month</th>\n",
              "      <th>day</th>\n",
              "      <th>hour</th>\n",
              "      <th>weekday</th>\n",
              "      <th>duration_min</th>\n",
              "      <th>trip_mph_avg</th>\n",
              "      <th>est_revenue</th>\n",
              "    </tr>\n",
              "  </thead>\n",
              "  <tbody>\n",
              "    <tr>\n",
              "      <th>943214</th>\n",
              "      <td>19594602</td>\n",
              "      <td>10</td>\n",
              "      <td>15</td>\n",
              "      <td>371.5500</td>\n",
              "      <td>2014-09-16</td>\n",
              "      <td>2014</td>\n",
              "      <td>9</td>\n",
              "      <td>16</td>\n",
              "      <td>10</td>\n",
              "      <td>1</td>\n",
              "      <td>474.2833</td>\n",
              "      <td>47.0035</td>\n",
              "      <td>818.7617</td>\n",
              "    </tr>\n",
              "    <tr>\n",
              "      <th>3620586</th>\n",
              "      <td>5138875</td>\n",
              "      <td>14</td>\n",
              "      <td>NaN</td>\n",
              "      <td>357.2700</td>\n",
              "      <td>2014-11-04</td>\n",
              "      <td>2014</td>\n",
              "      <td>11</td>\n",
              "      <td>4</td>\n",
              "      <td>23</td>\n",
              "      <td>1</td>\n",
              "      <td>309.5167</td>\n",
              "      <td>69.2570</td>\n",
              "      <td>736.1033</td>\n",
              "    </tr>\n",
              "    <tr>\n",
              "      <th>10581718</th>\n",
              "      <td>10072444</td>\n",
              "      <td>16</td>\n",
              "      <td>NaN</td>\n",
              "      <td>330.9000</td>\n",
              "      <td>2015-02-04</td>\n",
              "      <td>2015</td>\n",
              "      <td>2</td>\n",
              "      <td>4</td>\n",
              "      <td>18</td>\n",
              "      <td>2</td>\n",
              "      <td>648.5000</td>\n",
              "      <td>30.6153</td>\n",
              "      <td>808.6000</td>\n",
              "    </tr>\n",
              "    <tr>\n",
              "      <th>11224977</th>\n",
              "      <td>17353914</td>\n",
              "      <td>15</td>\n",
              "      <td>15</td>\n",
              "      <td>378.0100</td>\n",
              "      <td>2015-02-25</td>\n",
              "      <td>2015</td>\n",
              "      <td>2</td>\n",
              "      <td>25</td>\n",
              "      <td>15</td>\n",
              "      <td>2</td>\n",
              "      <td>600.7667</td>\n",
              "      <td>37.7528</td>\n",
              "      <td>874.3358</td>\n",
              "    </tr>\n",
              "    <tr>\n",
              "      <th>11684172</th>\n",
              "      <td>23119455</td>\n",
              "      <td>14</td>\n",
              "      <td>14</td>\n",
              "      <td>350.1500</td>\n",
              "      <td>2015-02-03</td>\n",
              "      <td>2015</td>\n",
              "      <td>2</td>\n",
              "      <td>3</td>\n",
              "      <td>18</td>\n",
              "      <td>1</td>\n",
              "      <td>559.3500</td>\n",
              "      <td>37.5597</td>\n",
              "      <td>811.0850</td>\n",
              "    </tr>\n",
              "    <tr>\n",
              "      <th>13829799</th>\n",
              "      <td>16426984</td>\n",
              "      <td>15</td>\n",
              "      <td>NaN</td>\n",
              "      <td>568.5700</td>\n",
              "      <td>2015-03-27</td>\n",
              "      <td>2015</td>\n",
              "      <td>3</td>\n",
              "      <td>27</td>\n",
              "      <td>19</td>\n",
              "      <td>4</td>\n",
              "      <td>652.3167</td>\n",
              "      <td>52.2970</td>\n",
              "      <td>1225.8583</td>\n",
              "    </tr>\n",
              "    <tr>\n",
              "      <th>16530542</th>\n",
              "      <td>15478567</td>\n",
              "      <td>7A</td>\n",
              "      <td>17</td>\n",
              "      <td>315.5700</td>\n",
              "      <td>2015-04-09</td>\n",
              "      <td>2015</td>\n",
              "      <td>4</td>\n",
              "      <td>9</td>\n",
              "      <td>1</td>\n",
              "      <td>3</td>\n",
              "      <td>248.0667</td>\n",
              "      <td>76.3271</td>\n",
              "      <td>641.6208</td>\n",
              "    </tr>\n",
              "    <tr>\n",
              "      <th>18643154</th>\n",
              "      <td>6860856</td>\n",
              "      <td>5C</td>\n",
              "      <td>16</td>\n",
              "      <td>308.4200</td>\n",
              "      <td>2015-05-31</td>\n",
              "      <td>2015</td>\n",
              "      <td>5</td>\n",
              "      <td>31</td>\n",
              "      <td>5</td>\n",
              "      <td>6</td>\n",
              "      <td>304.1833</td>\n",
              "      <td>60.8357</td>\n",
              "      <td>648.7492</td>\n",
              "    </tr>\n",
              "    <tr>\n",
              "      <th>18854980</th>\n",
              "      <td>9245564</td>\n",
              "      <td>15</td>\n",
              "      <td>15</td>\n",
              "      <td>302.7900</td>\n",
              "      <td>2015-05-10</td>\n",
              "      <td>2015</td>\n",
              "      <td>5</td>\n",
              "      <td>10</td>\n",
              "      <td>22</td>\n",
              "      <td>6</td>\n",
              "      <td>441.6667</td>\n",
              "      <td>41.1337</td>\n",
              "      <td>687.0158</td>\n",
              "    </tr>\n",
              "    <tr>\n",
              "      <th>18949729</th>\n",
              "      <td>10208984</td>\n",
              "      <td>4A</td>\n",
              "      <td>7C</td>\n",
              "      <td>335.3000</td>\n",
              "      <td>2015-05-09</td>\n",
              "      <td>2015</td>\n",
              "      <td>5</td>\n",
              "      <td>9</td>\n",
              "      <td>16</td>\n",
              "      <td>5</td>\n",
              "      <td>813.6667</td>\n",
              "      <td>24.7251</td>\n",
              "      <td>874.1083</td>\n",
              "    </tr>\n",
              "  </tbody>\n",
              "</table>\n",
              "</div>"
            ],
            "text/plain": [
              "                id origin_taz  ... trip_mph_avg  est_revenue\n",
              "943214    19594602         10  ...      47.0035     818.7617\n",
              "3620586    5138875         14  ...      69.2570     736.1033\n",
              "10581718  10072444         16  ...      30.6153     808.6000\n",
              "11224977  17353914         15  ...      37.7528     874.3358\n",
              "11684172  23119455         14  ...      37.5597     811.0850\n",
              "13829799  16426984         15  ...      52.2970    1225.8583\n",
              "16530542  15478567         7A  ...      76.3271     641.6208\n",
              "18643154   6860856         5C  ...      60.8357     648.7492\n",
              "18854980   9245564         15  ...      41.1337     687.0158\n",
              "18949729  10208984         4A  ...      24.7251     874.1083\n",
              "\n",
              "[10 rows x 13 columns]"
            ]
          },
          "metadata": {
            "tags": []
          },
          "execution_count": 109
        }
      ]
    },
    {
      "cell_type": "markdown",
      "metadata": {
        "id": "xWcKvSl6Uemr"
      },
      "source": [
        "\n",
        "# Distribution of trip duration (in minutes)"
      ]
    },
    {
      "cell_type": "code",
      "metadata": {
        "id": "rIXqK3bl-oG1",
        "outputId": "b39e391f-f145-4b23-89e3-a0158e4fa71d",
        "colab": {
          "base_uri": "https://localhost:8080/",
          "height": 170
        }
      },
      "source": [
        "#Median trip duration is ~ 17 minutes\n",
        "df_viz.duration_min.describe()"
      ],
      "execution_count": null,
      "outputs": [
        {
          "output_type": "execute_result",
          "data": {
            "text/plain": [
              "count   30925615.0000\n",
              "mean          20.9921\n",
              "std           16.0844\n",
              "min            0.0000\n",
              "25%           10.8500\n",
              "50%           17.2333\n",
              "75%           26.6833\n",
              "max          959.3000\n",
              "Name: duration_min, dtype: float64"
            ]
          },
          "metadata": {
            "tags": []
          },
          "execution_count": 110
        }
      ]
    },
    {
      "cell_type": "code",
      "metadata": {
        "id": "c4vvZmix-oKL",
        "outputId": "4a9158a9-ece2-494a-f41e-3ecbe10d7964",
        "colab": {
          "base_uri": "https://localhost:8080/",
          "height": 68
        }
      },
      "source": [
        "freq, bins_dur = np.histogram(df_viz.duration_min, bins=10, range=(0, 50))\n",
        "freq, bins_dur"
      ],
      "execution_count": null,
      "outputs": [
        {
          "output_type": "execute_result",
          "data": {
            "text/plain": [
              "(array([1235201, 5391527, 6312324, 5266965, 3929223, 2777187, 1878407,\n",
              "        1256167,  852543,  589921]),\n",
              " array([ 0.,  5., 10., 15., 20., 25., 30., 35., 40., 45., 50.]))"
            ]
          },
          "metadata": {
            "tags": []
          },
          "execution_count": 111
        }
      ]
    },
    {
      "cell_type": "markdown",
      "metadata": {
        "id": "n_BJPLP6UnEO"
      },
      "source": [
        "\n",
        "# Plot of the histograms for trip distance and duration"
      ]
    },
    {
      "cell_type": "code",
      "metadata": {
        "id": "oP8xrsLb-oOW",
        "outputId": "47b4dc87-2c3c-48f8-af38-63b88412c21a",
        "colab": {
          "base_uri": "https://localhost:8080/",
          "height": 471
        }
      },
      "source": [
        "#Here we plot the distribution of trip duration next to the histogram of trip distance for comparison.\n",
        "fig = plt.figure(figsize=(16, 7))\n",
        "\n",
        "formatter = FuncFormatter(millions_format)\n",
        "\n",
        "plt.subplot(1,2,1)\n",
        "ax1 = df_viz.trip_distance.dropna().hist(bins=bins_dist)\n",
        "ax1.yaxis.set_major_formatter(formatter)\n",
        "\n",
        "plt.xlabel('Distance (miles)', fontsize=14, weight='bold')\n",
        "plt.ylabel('Counts', fontsize=14, weight='bold')\n",
        "plt.tick_params(labelsize=14)\n",
        "plt.title('Distribution of Trip Distance', color='navy', fontsize=16)\n",
        "\n",
        "\n",
        "plt.subplot(1,2,2)\n",
        "ax2 = df_viz.duration_min.hist(bins=bins_dur)\n",
        "ax2.yaxis.set_major_formatter(formatter)\n",
        "ax2.set_xticks(bins_dur) #bins are in 5 minutes intervals.\n",
        "\n",
        "plt.xlabel('Duration (minutes)', fontsize=14, weight='bold')\n",
        "plt.ylabel('')\n",
        "plt.tick_params(labelsize=14)\n",
        "plt.title('Distribution of Trip Duration', color='navy', fontsize=16)\n",
        "\n",
        "plt.show()"
      ],
      "execution_count": null,
      "outputs": [
        {
          "output_type": "display_data",
          "data": {
            "image/png": "[encoded data removed]",
            "text/plain": [
              "<Figure size 1152x504 with 2 Axes>"
            ]
          },
          "metadata": {
            "tags": [],
            "needs_background": "light"
          }
        }
      ]
    },
    {
      "cell_type": "markdown",
      "metadata": {
        "id": "7l1i_3NxUubW"
      },
      "source": [
        "# Trip Distance versus Trip Duration"
      ]
    },
    {
      "cell_type": "code",
      "metadata": {
        "id": "3yjbwPWi-oRH",
        "outputId": "f132b4dd-b5c4-4609-bd39-fa3619f3146e",
        "colab": {
          "base_uri": "https://localhost:8080/",
          "height": 190
        }
      },
      "source": [
        "#Create data to plot with average distance and duration grouped by origin-destination location pairs:\n",
        "df_plt6 = df_viz.groupby(['origin_taz', 'destination_taz'])['trip_distance', 'duration_min'].mean()\n",
        "df_plt6.values"
      ],
      "execution_count": null,
      "outputs": [
        {
          "output_type": "stream",
          "text": [
            "/usr/local/lib/python3.6/dist-packages/ipykernel_launcher.py:2: FutureWarning: Indexing with multiple keys (implicitly converted to a tuple of keys) will be deprecated, use a list instead.\n",
            "  \n"
          ],
          "name": "stderr"
        },
        {
          "output_type": "execute_result",
          "data": {
            "text/plain": [
              "array([[ 1.41806623, 10.56077861],\n",
              "       [ 3.65079126, 17.97757849],\n",
              "       [ 5.0936793 , 22.48992547],\n",
              "       ...,\n",
              "       [19.84841839, 44.50434658],\n",
              "       [12.19842835, 29.74001046],\n",
              "       [ 2.52056516,  9.87329898]])"
            ]
          },
          "metadata": {
            "tags": []
          },
          "execution_count": 113
        }
      ]
    },
    {
      "cell_type": "code",
      "metadata": {
        "id": "CCvChlcf9bg9",
        "outputId": "451832c6-6412-43c6-9cc8-dfaf07ec629f",
        "colab": {
          "base_uri": "https://localhost:8080/",
          "height": 34
        }
      },
      "source": [
        "df_plt6.shape #distance, duration (x, y): Fit function to replace 7 incorrect duration entries with estimate."
      ],
      "execution_count": null,
      "outputs": [
        {
          "output_type": "execute_result",
          "data": {
            "text/plain": [
              "(812, 2)"
            ]
          },
          "metadata": {
            "tags": []
          },
          "execution_count": 114
        }
      ]
    },
    {
      "cell_type": "code",
      "metadata": {
        "id": "FRg_NruF_Jo8",
        "outputId": "f531d69c-bd8d-4249-b9e1-c951e7395256",
        "colab": {
          "base_uri": "https://localhost:8080/",
          "height": 488
        }
      },
      "source": [
        "#Create plot.\n",
        "distance = df_plt6.values[:,:1]\n",
        "duration = df_plt6.values[:,1:]\n",
        "duration_hat = pd.Series(distance.reshape(812,)).apply(lambda x: 10*np.sqrt(x))\n",
        "\n",
        "plt.figure(figsize = (14,7))\n",
        "cmap = sns.dark_palette('cyan', 3, reverse = True, as_cmap=True)\n",
        "\n",
        "plt.scatter(distance, duration, c=distance, cmap= cmap) # it looks like a 10*sqrt(x) power distribution\n",
        "plt.scatter(distance, duration_hat, color='red', s=8)\n",
        "\n",
        "font = {'color': 'red', 'size': 14, 'family': 'Tahoma'}\n",
        "plt.text(31, 40, 'y = 10 * sqrt(x)', fontdict = font) \n",
        "plt.xlim(0, 40)\n",
        "plt.xlabel('Distance', fontsize = 14, weight='bold')\n",
        "plt.ylabel('Duration (Minutes)', fontsize = 14, weight='bold')\n",
        "plt.tick_params(labelsize=14)\n",
        "plt.title('Average Trip Duration and Distance per Origin-Destination Pair', fontsize = 16, color='navy')\n",
        "\n",
        "\n",
        "plt.show()"
      ],
      "execution_count": null,
      "outputs": [
        {
          "output_type": "stream",
          "text": [
            "findfont: Font family ['Tahoma'] not found. Falling back to DejaVu Sans.\n"
          ],
          "name": "stderr"
        },
        {
          "output_type": "display_data",
          "data": {
            "image/png": "[encoded data removed]",
            "text/plain": [
              "<Figure size 1008x504 with 1 Axes>"
            ]
          },
          "metadata": {
            "tags": [],
            "needs_background": "light"
          }
        }
      ]
    },
    {
      "cell_type": "code",
      "metadata": {
        "id": "boryeLqJ_Jv_",
        "outputId": "47c8915f-4746-4bd6-f292-31bf38168053",
        "colab": {
          "base_uri": "https://localhost:8080/",
          "height": 545
        }
      },
      "source": [
        "\n",
        "df_plt6[df_plt6.trip_distance > 25] #origin and destination pairs whose distance between them is greater than 25 miles"
      ],
      "execution_count": null,
      "outputs": [
        {
          "output_type": "execute_result",
          "data": {
            "text/html": [
              "<div>\n",
              "<style scoped>\n",
              "    .dataframe tbody tr th:only-of-type {\n",
              "        vertical-align: middle;\n",
              "    }\n",
              "\n",
              "    .dataframe tbody tr th {\n",
              "        vertical-align: top;\n",
              "    }\n",
              "\n",
              "    .dataframe thead th {\n",
              "        text-align: right;\n",
              "    }\n",
              "</style>\n",
              "<table border=\"1\" class=\"dataframe\">\n",
              "  <thead>\n",
              "    <tr style=\"text-align: right;\">\n",
              "      <th></th>\n",
              "      <th></th>\n",
              "      <th>trip_distance</th>\n",
              "      <th>duration_min</th>\n",
              "    </tr>\n",
              "    <tr>\n",
              "      <th>origin_taz</th>\n",
              "      <th>destination_taz</th>\n",
              "      <th></th>\n",
              "      <th></th>\n",
              "    </tr>\n",
              "  </thead>\n",
              "  <tbody>\n",
              "    <tr>\n",
              "      <th>13</th>\n",
              "      <th>18</th>\n",
              "      <td>28.0717</td>\n",
              "      <td>53.1685</td>\n",
              "    </tr>\n",
              "    <tr>\n",
              "      <th rowspan=\"2\" valign=\"top\">14</th>\n",
              "      <th>17</th>\n",
              "      <td>27.8808</td>\n",
              "      <td>57.4252</td>\n",
              "    </tr>\n",
              "    <tr>\n",
              "      <th>18</th>\n",
              "      <td>29.9431</td>\n",
              "      <td>62.5171</td>\n",
              "    </tr>\n",
              "    <tr>\n",
              "      <th rowspan=\"2\" valign=\"top\">16</th>\n",
              "      <th>17</th>\n",
              "      <td>31.0922</td>\n",
              "      <td>62.5046</td>\n",
              "    </tr>\n",
              "    <tr>\n",
              "      <th>18</th>\n",
              "      <td>28.3292</td>\n",
              "      <td>45.5679</td>\n",
              "    </tr>\n",
              "    <tr>\n",
              "      <th rowspan=\"4\" valign=\"top\">17</th>\n",
              "      <th>14</th>\n",
              "      <td>27.4876</td>\n",
              "      <td>57.8793</td>\n",
              "    </tr>\n",
              "    <tr>\n",
              "      <th>16</th>\n",
              "      <td>39.4353</td>\n",
              "      <td>81.2769</td>\n",
              "    </tr>\n",
              "    <tr>\n",
              "      <th>7C</th>\n",
              "      <td>25.2298</td>\n",
              "      <td>57.2576</td>\n",
              "    </tr>\n",
              "    <tr>\n",
              "      <th>9</th>\n",
              "      <td>25.5005</td>\n",
              "      <td>46.6947</td>\n",
              "    </tr>\n",
              "    <tr>\n",
              "      <th>7A</th>\n",
              "      <th>17</th>\n",
              "      <td>29.5695</td>\n",
              "      <td>59.6055</td>\n",
              "    </tr>\n",
              "    <tr>\n",
              "      <th>7C</th>\n",
              "      <th>17</th>\n",
              "      <td>26.9832</td>\n",
              "      <td>58.3610</td>\n",
              "    </tr>\n",
              "    <tr>\n",
              "      <th rowspan=\"2\" valign=\"top\">8</th>\n",
              "      <th>17</th>\n",
              "      <td>25.7619</td>\n",
              "      <td>55.7408</td>\n",
              "    </tr>\n",
              "    <tr>\n",
              "      <th>18</th>\n",
              "      <td>29.5376</td>\n",
              "      <td>59.4060</td>\n",
              "    </tr>\n",
              "    <tr>\n",
              "      <th rowspan=\"2\" valign=\"top\">9</th>\n",
              "      <th>17</th>\n",
              "      <td>27.4381</td>\n",
              "      <td>49.9894</td>\n",
              "    </tr>\n",
              "    <tr>\n",
              "      <th>18</th>\n",
              "      <td>36.9205</td>\n",
              "      <td>65.9577</td>\n",
              "    </tr>\n",
              "  </tbody>\n",
              "</table>\n",
              "</div>"
            ],
            "text/plain": [
              "                            trip_distance  duration_min\n",
              "origin_taz destination_taz                             \n",
              "13         18                     28.0717       53.1685\n",
              "14         17                     27.8808       57.4252\n",
              "           18                     29.9431       62.5171\n",
              "16         17                     31.0922       62.5046\n",
              "           18                     28.3292       45.5679\n",
              "17         14                     27.4876       57.8793\n",
              "           16                     39.4353       81.2769\n",
              "           7C                     25.2298       57.2576\n",
              "           9                      25.5005       46.6947\n",
              "7A         17                     29.5695       59.6055\n",
              "7C         17                     26.9832       58.3610\n",
              "8          17                     25.7619       55.7408\n",
              "           18                     29.5376       59.4060\n",
              "9          17                     27.4381       49.9894\n",
              "           18                     36.9205       65.9577"
            ]
          },
          "metadata": {
            "tags": []
          },
          "execution_count": 116
        }
      ]
    },
    {
      "cell_type": "markdown",
      "metadata": {
        "id": "_g6ZLeGJU3qa"
      },
      "source": [
        "\n",
        "# Distribution of the average speed per trip"
      ]
    },
    {
      "cell_type": "code",
      "metadata": {
        "id": "alkvqMWw_JzQ",
        "outputId": "7f1db349-052c-4b7e-8c7f-5ba1ee9196fc",
        "colab": {
          "base_uri": "https://localhost:8080/",
          "height": 170
        }
      },
      "source": [
        "#Note: this uses processed data (24904 (0.08%) entries with null or zero in duration resulted in null value for speed)\n",
        "df_viz.trip_mph_avg.describe()"
      ],
      "execution_count": null,
      "outputs": [
        {
          "output_type": "execute_result",
          "data": {
            "text/plain": [
              "count   30900749.0000\n",
              "mean          13.5073\n",
              "std           11.7568\n",
              "min            0.0000\n",
              "25%            8.4100\n",
              "50%           11.4489\n",
              "75%           16.2669\n",
              "max        22548.0000\n",
              "Name: trip_mph_avg, dtype: float64"
            ]
          },
          "metadata": {
            "tags": []
          },
          "execution_count": 117
        }
      ]
    },
    {
      "cell_type": "code",
      "metadata": {
        "id": "-pbbaVED_J28",
        "outputId": "c5e3082f-4928-4dbc-bd93-4de49050d102",
        "colab": {
          "base_uri": "https://localhost:8080/",
          "height": 136
        }
      },
      "source": [
        "freq, bins = np.histogram(df_viz.trip_mph_avg, bins=10, range=(0, 50))\n",
        "freq, bins"
      ],
      "execution_count": null,
      "outputs": [
        {
          "output_type": "stream",
          "text": [
            "/usr/local/lib/python3.6/dist-packages/numpy/lib/histograms.py:839: RuntimeWarning: invalid value encountered in greater_equal\n",
            "  keep = (tmp_a >= first_edge)\n",
            "/usr/local/lib/python3.6/dist-packages/numpy/lib/histograms.py:840: RuntimeWarning: invalid value encountered in less_equal\n",
            "  keep &= (tmp_a <= last_edge)\n"
          ],
          "name": "stderr"
        },
        {
          "output_type": "execute_result",
          "data": {
            "text/plain": [
              "(array([ 1313452, 10564985,  9862416,  4248624,  2152852,  1282011,\n",
              "          767843,   434359,   196184,    61865]),\n",
              " array([ 0.,  5., 10., 15., 20., 25., 30., 35., 40., 45., 50.]))"
            ]
          },
          "metadata": {
            "tags": []
          },
          "execution_count": 118
        }
      ]
    },
    {
      "cell_type": "code",
      "metadata": {
        "id": "ElE-Wi-y_J8g",
        "outputId": "033df782-1351-4359-c539-c18be4b22675",
        "colab": {
          "base_uri": "https://localhost:8080/",
          "height": 308
        }
      },
      "source": [
        "\n",
        "fig, ax = plt.subplots(1,1)\n",
        "\n",
        "formatter = FuncFormatter(millions_format)\n",
        "\n",
        "ax.hist(df_viz.trip_mph_avg.dropna(), bins)\n",
        "ax.yaxis.set_major_formatter(formatter)\n",
        "\n",
        "plt.xlabel('Average Speed (mph)', fontsize=14, weight='bold')\n",
        "plt.ylabel('Counts', fontsize=14, weight='bold')\n",
        "plt.tick_params(labelsize=14)\n",
        "plt.title('Distribution of Average Speed', color='navy', fontsize=16)\n",
        "plt.show()"
      ],
      "execution_count": null,
      "outputs": [
        {
          "output_type": "display_data",
          "data": {
            "image/png": "[encoded data removed]",
            "text/plain": [
              "<Figure size 432x288 with 1 Axes>"
            ]
          },
          "metadata": {
            "tags": [],
            "needs_background": "light"
          }
        }
      ]
    },
    {
      "cell_type": "code",
      "metadata": {
        "id": "dNU2IV7gAcdF",
        "outputId": "702218c9-41d1-413d-dede-ff2f2b8bec6d",
        "colab": {
          "base_uri": "https://localhost:8080/",
          "height": 136
        }
      },
      "source": [
        "#Median trip average speed during weekdays:\n",
        "df_plt7 = df_viz[df_viz.weekday < 5].groupby('hour')['trip_mph_avg'].median()\n",
        "df_plt7.head()"
      ],
      "execution_count": null,
      "outputs": [
        {
          "output_type": "execute_result",
          "data": {
            "text/plain": [
              "hour\n",
              "0   14.3014\n",
              "1   15.3747\n",
              "2   16.1274\n",
              "3   16.6125\n",
              "4   19.5019\n",
              "Name: trip_mph_avg, dtype: float64"
            ]
          },
          "metadata": {
            "tags": []
          },
          "execution_count": 120
        }
      ]
    },
    {
      "cell_type": "code",
      "metadata": {
        "id": "EnFKrzhtAcgM",
        "outputId": "f1d9e5e7-77d2-42c8-8994-a1fe6897e9d8",
        "colab": {
          "base_uri": "https://localhost:8080/",
          "height": 417
        }
      },
      "source": [
        "#Plot Peak Hour Median Trip Average Speed During Weekdays:\n",
        "\n",
        "plt.figure(figsize =(14, 6))\n",
        "kwargs = {'fontsize': 12, 'ha':'center', 'va': 'top', 'color': 'navy', 'weight': 'bold'}\n",
        "\n",
        "#weekdays only: rush hour traffic 7-9 + 16-18\n",
        "ax = df_plt7.plot(marker = 'o', color = 'navy')\n",
        "\n",
        "for x, y in zip(df_plt7.index, df_plt7.values):\n",
        "    ax.annotate('{:.0f}'.format(y), xy=(x, y), xytext= (0, 24), textcoords='offset points', **kwargs)\n",
        "\n",
        "\n",
        "ax.get_yaxis().set_ticks([]) #hide tick labels on y-axis\n",
        "plt.fill([7,9,9,7], [0,0,30,30], 'cyan', alpha=0.2)\n",
        "plt.fill([16,18,18,16], [0,0,30,30], 'cyan', alpha=0.2)\n",
        "plt.xticks(range(24))\n",
        "plt.xlabel('Hour', fontsize=14)\n",
        "plt.ylabel('Trip Average Speed', fontsize=14)\n",
        "plt.ylim(5, 30)\n",
        "plt.xlim(-0.5, 23.5)\n",
        "plt.tick_params(labelsize=14)\n",
        "plt.title('Weekday Average Speed per Hour of the Day - Highlight for Peak Traffic', fontsize = 16, color='navy')\n",
        "plt.show()"
      ],
      "execution_count": null,
      "outputs": [
        {
          "output_type": "display_data",
          "data": {
            "image/png": "[encoded data removed]",
            "text/plain": [
              "<Figure size 1008x432 with 1 Axes>"
            ]
          },
          "metadata": {
            "tags": [],
            "needs_background": "light"
          }
        }
      ]
    },
    {
      "cell_type": "code",
      "metadata": {
        "id": "Koc7BcvSAcmC"
      },
      "source": [
        "\n",
        "def is_peak_hour(x):\n",
        "    \"\"\" \n",
        "    Function that takes an array(x) with two integers representing \n",
        "    hour of the day and weekday, respectively, and\n",
        "    returns 1 if it's peak hour as defined, 0 otherwise.\n",
        "    \"\"\"\n",
        "    return 1 if x[0] in (7,8,9,16,17,18) and x[1] < 5 else 0 #total peak hour periods = 6h"
      ],
      "execution_count": null,
      "outputs": []
    },
    {
      "cell_type": "code",
      "metadata": {
        "id": "nJrAmwwzAcrl"
      },
      "source": [
        "df_viz['peak_hour'] = pd.Series(map(lambda x: is_peak_hour(x), df_viz.loc[:, ['hour', 'weekday']].values))"
      ],
      "execution_count": null,
      "outputs": []
    },
    {
      "cell_type": "code",
      "metadata": {
        "id": "IqbISFQ6Acpb",
        "outputId": "4a26f38b-81e7-4cf3-d8b7-77ae40b838e6",
        "colab": {
          "base_uri": "https://localhost:8080/",
          "height": 204
        }
      },
      "source": [
        "df_viz.head()"
      ],
      "execution_count": null,
      "outputs": [
        {
          "output_type": "execute_result",
          "data": {
            "text/html": [
              "<div>\n",
              "<style scoped>\n",
              "    .dataframe tbody tr th:only-of-type {\n",
              "        vertical-align: middle;\n",
              "    }\n",
              "\n",
              "    .dataframe tbody tr th {\n",
              "        vertical-align: top;\n",
              "    }\n",
              "\n",
              "    .dataframe thead th {\n",
              "        text-align: right;\n",
              "    }\n",
              "</style>\n",
              "<table border=\"1\" class=\"dataframe\">\n",
              "  <thead>\n",
              "    <tr style=\"text-align: right;\">\n",
              "      <th></th>\n",
              "      <th>id</th>\n",
              "      <th>origin_taz</th>\n",
              "      <th>destination_taz</th>\n",
              "      <th>trip_distance</th>\n",
              "      <th>pu_date</th>\n",
              "      <th>year</th>\n",
              "      <th>month</th>\n",
              "      <th>day</th>\n",
              "      <th>hour</th>\n",
              "      <th>weekday</th>\n",
              "      <th>duration_min</th>\n",
              "      <th>trip_mph_avg</th>\n",
              "      <th>est_revenue</th>\n",
              "      <th>peak_hour</th>\n",
              "    </tr>\n",
              "  </thead>\n",
              "  <tbody>\n",
              "    <tr>\n",
              "      <th>0</th>\n",
              "      <td>252581</td>\n",
              "      <td>7C</td>\n",
              "      <td>6A</td>\n",
              "      <td>4.2500</td>\n",
              "      <td>2014-09-01</td>\n",
              "      <td>2014</td>\n",
              "      <td>9</td>\n",
              "      <td>1</td>\n",
              "      <td>9</td>\n",
              "      <td>0</td>\n",
              "      <td>15.1833</td>\n",
              "      <td>16.7947</td>\n",
              "      <td>15.3017</td>\n",
              "      <td>1.0000</td>\n",
              "    </tr>\n",
              "    <tr>\n",
              "      <th>1</th>\n",
              "      <td>252582</td>\n",
              "      <td>7B</td>\n",
              "      <td>15</td>\n",
              "      <td>10.1700</td>\n",
              "      <td>2014-09-01</td>\n",
              "      <td>2014</td>\n",
              "      <td>9</td>\n",
              "      <td>1</td>\n",
              "      <td>18</td>\n",
              "      <td>0</td>\n",
              "      <td>34.0833</td>\n",
              "      <td>17.9032</td>\n",
              "      <td>32.2767</td>\n",
              "      <td>1.0000</td>\n",
              "    </tr>\n",
              "    <tr>\n",
              "      <th>2</th>\n",
              "      <td>252583</td>\n",
              "      <td>11</td>\n",
              "      <td>2A</td>\n",
              "      <td>4.0200</td>\n",
              "      <td>2014-09-01</td>\n",
              "      <td>2014</td>\n",
              "      <td>9</td>\n",
              "      <td>1</td>\n",
              "      <td>17</td>\n",
              "      <td>0</td>\n",
              "      <td>17.1000</td>\n",
              "      <td>14.1053</td>\n",
              "      <td>15.5700</td>\n",
              "      <td>1.0000</td>\n",
              "    </tr>\n",
              "    <tr>\n",
              "      <th>3</th>\n",
              "      <td>252584</td>\n",
              "      <td>3B</td>\n",
              "      <td>4A</td>\n",
              "      <td>1.4600</td>\n",
              "      <td>2014-09-01</td>\n",
              "      <td>2014</td>\n",
              "      <td>9</td>\n",
              "      <td>1</td>\n",
              "      <td>13</td>\n",
              "      <td>0</td>\n",
              "      <td>6.5333</td>\n",
              "      <td>13.4082</td>\n",
              "      <td>8.0000</td>\n",
              "      <td>0.0000</td>\n",
              "    </tr>\n",
              "    <tr>\n",
              "      <th>4</th>\n",
              "      <td>252585</td>\n",
              "      <td>2A</td>\n",
              "      <td>10</td>\n",
              "      <td>8.3100</td>\n",
              "      <td>2014-09-01</td>\n",
              "      <td>2014</td>\n",
              "      <td>9</td>\n",
              "      <td>1</td>\n",
              "      <td>14</td>\n",
              "      <td>0</td>\n",
              "      <td>26.2833</td>\n",
              "      <td>18.9702</td>\n",
              "      <td>26.2917</td>\n",
              "      <td>0.0000</td>\n",
              "    </tr>\n",
              "  </tbody>\n",
              "</table>\n",
              "</div>"
            ],
            "text/plain": [
              "       id origin_taz destination_taz  ...  trip_mph_avg est_revenue  peak_hour\n",
              "0  252581         7C              6A  ...       16.7947     15.3017     1.0000\n",
              "1  252582         7B              15  ...       17.9032     32.2767     1.0000\n",
              "2  252583         11              2A  ...       14.1053     15.5700     1.0000\n",
              "3  252584         3B              4A  ...       13.4082      8.0000     0.0000\n",
              "4  252585         2A              10  ...       18.9702     26.2917     0.0000\n",
              "\n",
              "[5 rows x 14 columns]"
            ]
          },
          "metadata": {
            "tags": []
          },
          "execution_count": 124
        }
      ]
    },
    {
      "cell_type": "code",
      "metadata": {
        "id": "9zZC27TnAcj0",
        "outputId": "3328e33a-2d69-4faa-e1e7-f12a8c582731",
        "colab": {
          "base_uri": "https://localhost:8080/",
          "height": 453
        }
      },
      "source": [
        "#Plot the total number of trips per month during peak hours and off-peak hours.\n",
        "#Count for peak hours must represent more than 25% (6h) of the total rides to be more significant than non-peak hours.\n",
        "plt.figure(figsize = (14, 6))\n",
        "formatter = FuncFormatter(millions_format)\n",
        "\n",
        "#to add labels and operate on data, use pivot instead of countplot directly with hue.\n",
        "ax = sns.countplot(df_viz['month'], hue = df_viz['peak_hour'])\n",
        "ax.set_xticklabels(month_labels)\n",
        "ax.yaxis.set_major_formatter(formatter)\n",
        "\n",
        "handles, labels = ax.get_legend_handles_labels() #will cause the warning msg that can be ignored \n",
        "plt.legend(handles, labels=['Peak', 'Off Peak'], loc='best', fontsize=13)\n",
        "plt.tick_params(labelsize=13)\n",
        "plt.xlabel('Month (2014 - 2015)', fontsize = 15, weight='bold')\n",
        "plt.ylabel('Total Trips', fontsize = 15, weight='bold')\n",
        "plt.title('Demand of Rides per Month - Peak versus Off-Peak Hours', fontsize = 17, color='navy')\n",
        "plt.show()"
      ],
      "execution_count": null,
      "outputs": [
        {
          "output_type": "stream",
          "text": [
            "/usr/local/lib/python3.6/dist-packages/ipykernel_launcher.py:12: UserWarning: You have mixed positional and keyword arguments, some input may be discarded.\n",
            "  if sys.path[0] == '':\n"
          ],
          "name": "stderr"
        },
        {
          "output_type": "display_data",
          "data": {
            "image/png": "[encoded data removed]",
            "text/plain": [
              "<Figure size 1008x432 with 1 Axes>"
            ]
          },
          "metadata": {
            "tags": [],
            "needs_background": "light"
          }
        }
      ]
    },
    {
      "cell_type": "markdown",
      "metadata": {
        "id": "Satd1dFMVF77"
      },
      "source": [
        "# Data Modeling (to be continued...)\n",
        "# Join Weather Data."
      ]
    },
    {
      "cell_type": "code",
      "metadata": {
        "id": "FluOVlEjBmRT"
      },
      "source": [
        "#Weather Data Key (Central Park, NYC Station):\n",
        "#PRCP = precipitation in inches\n",
        "#SNWD = snow depth in inches\n",
        "#SNOW = snowfall in inches\n",
        "#TMAX = max temperature in F (minimum of 2F for entire period from 2014 to 2015)\n",
        "#TMIN = min temperature in F (maximum of 97F for the entire period from 2014 to 2015)\n",
        "#AWND = average daily wind speed in MPH"
      ],
      "execution_count": null,
      "outputs": []
    },
    {
      "cell_type": "code",
      "metadata": {
        "id": "IUHvi5IaBmdY"
      },
      "source": [
        "#Refer to data source. Use integrated weather data to forecast demand for rides.\n",
        "weather = pd.read_csv('weather.csv', na_values = -9999, parse_dates = ['DATE'], \\\n",
        "                      usecols = [u'DATE', u'PRCP', u'SNWD', u'SNOW', u'TMAX', u'TMIN', u'AWND'])"
      ],
      "execution_count": null,
      "outputs": []
    },
    {
      "cell_type": "code",
      "metadata": {
        "id": "csZC2zy0Bmgh",
        "outputId": "9ca7a5c3-93cb-48e8-8896-c739e48bc3a1",
        "colab": {
          "base_uri": "https://localhost:8080/",
          "height": 204
        }
      },
      "source": [
        "weather.columns = ['pu_date', 'prcp', 'snwd', 'snow', 'tmax', 'tmin', 'awnd']\n",
        "weather.head()"
      ],
      "execution_count": null,
      "outputs": [
        {
          "output_type": "execute_result",
          "data": {
            "text/html": [
              "<div>\n",
              "<style scoped>\n",
              "    .dataframe tbody tr th:only-of-type {\n",
              "        vertical-align: middle;\n",
              "    }\n",
              "\n",
              "    .dataframe tbody tr th {\n",
              "        vertical-align: top;\n",
              "    }\n",
              "\n",
              "    .dataframe thead th {\n",
              "        text-align: right;\n",
              "    }\n",
              "</style>\n",
              "<table border=\"1\" class=\"dataframe\">\n",
              "  <thead>\n",
              "    <tr style=\"text-align: right;\">\n",
              "      <th></th>\n",
              "      <th>pu_date</th>\n",
              "      <th>prcp</th>\n",
              "      <th>snwd</th>\n",
              "      <th>snow</th>\n",
              "      <th>tmax</th>\n",
              "      <th>tmin</th>\n",
              "      <th>awnd</th>\n",
              "    </tr>\n",
              "  </thead>\n",
              "  <tbody>\n",
              "    <tr>\n",
              "      <th>0</th>\n",
              "      <td>2014-01-01</td>\n",
              "      <td>0.0000</td>\n",
              "      <td>0.0000</td>\n",
              "      <td>0.0000</td>\n",
              "      <td>33</td>\n",
              "      <td>24</td>\n",
              "      <td>5.6000</td>\n",
              "    </tr>\n",
              "    <tr>\n",
              "      <th>1</th>\n",
              "      <td>2014-01-02</td>\n",
              "      <td>0.3300</td>\n",
              "      <td>0.0000</td>\n",
              "      <td>3.1000</td>\n",
              "      <td>33</td>\n",
              "      <td>18</td>\n",
              "      <td>12.3000</td>\n",
              "    </tr>\n",
              "    <tr>\n",
              "      <th>2</th>\n",
              "      <td>2014-01-03</td>\n",
              "      <td>0.2900</td>\n",
              "      <td>5.9000</td>\n",
              "      <td>3.3000</td>\n",
              "      <td>18</td>\n",
              "      <td>9</td>\n",
              "      <td>10.5000</td>\n",
              "    </tr>\n",
              "    <tr>\n",
              "      <th>3</th>\n",
              "      <td>2014-01-04</td>\n",
              "      <td>0.0000</td>\n",
              "      <td>5.9000</td>\n",
              "      <td>0.0000</td>\n",
              "      <td>29</td>\n",
              "      <td>8</td>\n",
              "      <td>4.9000</td>\n",
              "    </tr>\n",
              "    <tr>\n",
              "      <th>4</th>\n",
              "      <td>2014-01-05</td>\n",
              "      <td>0.1400</td>\n",
              "      <td>3.9000</td>\n",
              "      <td>0.0000</td>\n",
              "      <td>40</td>\n",
              "      <td>27</td>\n",
              "      <td>3.8000</td>\n",
              "    </tr>\n",
              "  </tbody>\n",
              "</table>\n",
              "</div>"
            ],
            "text/plain": [
              "     pu_date   prcp   snwd   snow  tmax  tmin    awnd\n",
              "0 2014-01-01 0.0000 0.0000 0.0000    33    24  5.6000\n",
              "1 2014-01-02 0.3300 0.0000 3.1000    33    18 12.3000\n",
              "2 2014-01-03 0.2900 5.9000 3.3000    18     9 10.5000\n",
              "3 2014-01-04 0.0000 5.9000 0.0000    29     8  4.9000\n",
              "4 2014-01-05 0.1400 3.9000 0.0000    40    27  3.8000"
            ]
          },
          "metadata": {
            "tags": []
          },
          "execution_count": 129
        }
      ]
    },
    {
      "cell_type": "code",
      "metadata": {
        "id": "T3dfkCtYBmnK",
        "outputId": "766da0dd-edb7-41cb-a98d-fadd5a0098a6",
        "colab": {
          "base_uri": "https://localhost:8080/",
          "height": 85
        }
      },
      "source": [
        "#There are some nan missing values for wind speed:\n",
        "weather.awnd[24:27]"
      ],
      "execution_count": null,
      "outputs": [
        {
          "output_type": "execute_result",
          "data": {
            "text/plain": [
              "24   7.6000\n",
              "25      nan\n",
              "26   7.8000\n",
              "Name: awnd, dtype: float64"
            ]
          },
          "metadata": {
            "tags": []
          },
          "execution_count": 130
        }
      ]
    },
    {
      "cell_type": "code",
      "metadata": {
        "id": "iWDqhe3bBmqj"
      },
      "source": [
        "#Merge weather data\n",
        "#avoiding unncessary sorting by key improves perfomance\n",
        "df_merged = pd.merge(df_uber, weather, on='pu_date', how='left', sort=False)"
      ],
      "execution_count": null,
      "outputs": []
    },
    {
      "cell_type": "code",
      "metadata": {
        "id": "twsTQXOgBmt-",
        "outputId": "b29a0f9a-fa8b-43ba-8987-07e52a8dc206",
        "colab": {
          "base_uri": "https://localhost:8080/",
          "height": 309
        }
      },
      "source": [
        "df_merged.head()"
      ],
      "execution_count": null,
      "outputs": [
        {
          "output_type": "execute_result",
          "data": {
            "text/html": [
              "<div>\n",
              "<style scoped>\n",
              "    .dataframe tbody tr th:only-of-type {\n",
              "        vertical-align: middle;\n",
              "    }\n",
              "\n",
              "    .dataframe tbody tr th {\n",
              "        vertical-align: top;\n",
              "    }\n",
              "\n",
              "    .dataframe thead th {\n",
              "        text-align: right;\n",
              "    }\n",
              "</style>\n",
              "<table border=\"1\" class=\"dataframe\">\n",
              "  <thead>\n",
              "    <tr style=\"text-align: right;\">\n",
              "      <th></th>\n",
              "      <th>id</th>\n",
              "      <th>origin_taz</th>\n",
              "      <th>destination_taz</th>\n",
              "      <th>trip_distance</th>\n",
              "      <th>pu_date</th>\n",
              "      <th>year</th>\n",
              "      <th>month</th>\n",
              "      <th>day</th>\n",
              "      <th>hour</th>\n",
              "      <th>weekday</th>\n",
              "      <th>duration_min</th>\n",
              "      <th>trip_mph_avg</th>\n",
              "      <th>est_revenue</th>\n",
              "      <th>prcp</th>\n",
              "      <th>snwd</th>\n",
              "      <th>snow</th>\n",
              "      <th>tmax</th>\n",
              "      <th>tmin</th>\n",
              "      <th>awnd</th>\n",
              "    </tr>\n",
              "  </thead>\n",
              "  <tbody>\n",
              "    <tr>\n",
              "      <th>0</th>\n",
              "      <td>252581</td>\n",
              "      <td>7C</td>\n",
              "      <td>6A</td>\n",
              "      <td>4.2500</td>\n",
              "      <td>2014-09-01</td>\n",
              "      <td>2014</td>\n",
              "      <td>9</td>\n",
              "      <td>1</td>\n",
              "      <td>9</td>\n",
              "      <td>0</td>\n",
              "      <td>15.1833</td>\n",
              "      <td>16.7947</td>\n",
              "      <td>15.3017</td>\n",
              "      <td>0.0000</td>\n",
              "      <td>0.0000</td>\n",
              "      <td>0.0000</td>\n",
              "      <td>88</td>\n",
              "      <td>75</td>\n",
              "      <td>2.9000</td>\n",
              "    </tr>\n",
              "    <tr>\n",
              "      <th>1</th>\n",
              "      <td>252582</td>\n",
              "      <td>7B</td>\n",
              "      <td>15</td>\n",
              "      <td>10.1700</td>\n",
              "      <td>2014-09-01</td>\n",
              "      <td>2014</td>\n",
              "      <td>9</td>\n",
              "      <td>1</td>\n",
              "      <td>18</td>\n",
              "      <td>0</td>\n",
              "      <td>34.0833</td>\n",
              "      <td>17.9032</td>\n",
              "      <td>32.2767</td>\n",
              "      <td>0.0000</td>\n",
              "      <td>0.0000</td>\n",
              "      <td>0.0000</td>\n",
              "      <td>88</td>\n",
              "      <td>75</td>\n",
              "      <td>2.9000</td>\n",
              "    </tr>\n",
              "    <tr>\n",
              "      <th>2</th>\n",
              "      <td>252583</td>\n",
              "      <td>11</td>\n",
              "      <td>2A</td>\n",
              "      <td>4.0200</td>\n",
              "      <td>2014-09-01</td>\n",
              "      <td>2014</td>\n",
              "      <td>9</td>\n",
              "      <td>1</td>\n",
              "      <td>17</td>\n",
              "      <td>0</td>\n",
              "      <td>17.1000</td>\n",
              "      <td>14.1053</td>\n",
              "      <td>15.5700</td>\n",
              "      <td>0.0000</td>\n",
              "      <td>0.0000</td>\n",
              "      <td>0.0000</td>\n",
              "      <td>88</td>\n",
              "      <td>75</td>\n",
              "      <td>2.9000</td>\n",
              "    </tr>\n",
              "    <tr>\n",
              "      <th>3</th>\n",
              "      <td>252584</td>\n",
              "      <td>3B</td>\n",
              "      <td>4A</td>\n",
              "      <td>1.4600</td>\n",
              "      <td>2014-09-01</td>\n",
              "      <td>2014</td>\n",
              "      <td>9</td>\n",
              "      <td>1</td>\n",
              "      <td>13</td>\n",
              "      <td>0</td>\n",
              "      <td>6.5333</td>\n",
              "      <td>13.4082</td>\n",
              "      <td>8.0000</td>\n",
              "      <td>0.0000</td>\n",
              "      <td>0.0000</td>\n",
              "      <td>0.0000</td>\n",
              "      <td>88</td>\n",
              "      <td>75</td>\n",
              "      <td>2.9000</td>\n",
              "    </tr>\n",
              "    <tr>\n",
              "      <th>4</th>\n",
              "      <td>252585</td>\n",
              "      <td>2A</td>\n",
              "      <td>10</td>\n",
              "      <td>8.3100</td>\n",
              "      <td>2014-09-01</td>\n",
              "      <td>2014</td>\n",
              "      <td>9</td>\n",
              "      <td>1</td>\n",
              "      <td>14</td>\n",
              "      <td>0</td>\n",
              "      <td>26.2833</td>\n",
              "      <td>18.9702</td>\n",
              "      <td>26.2917</td>\n",
              "      <td>0.0000</td>\n",
              "      <td>0.0000</td>\n",
              "      <td>0.0000</td>\n",
              "      <td>88</td>\n",
              "      <td>75</td>\n",
              "      <td>2.9000</td>\n",
              "    </tr>\n",
              "  </tbody>\n",
              "</table>\n",
              "</div>"
            ],
            "text/plain": [
              "       id origin_taz destination_taz  trip_distance  ...   snow  tmax  tmin   awnd\n",
              "0  252581         7C              6A         4.2500  ... 0.0000    88    75 2.9000\n",
              "1  252582         7B              15        10.1700  ... 0.0000    88    75 2.9000\n",
              "2  252583         11              2A         4.0200  ... 0.0000    88    75 2.9000\n",
              "3  252584         3B              4A         1.4600  ... 0.0000    88    75 2.9000\n",
              "4  252585         2A              10         8.3100  ... 0.0000    88    75 2.9000\n",
              "\n",
              "[5 rows x 19 columns]"
            ]
          },
          "metadata": {
            "tags": []
          },
          "execution_count": 132
        }
      ]
    },
    {
      "cell_type": "code",
      "metadata": {
        "id": "9slRfJy0Bmjf",
        "outputId": "f4918ec2-bbf5-4851-9068-c44314ed9156",
        "colab": {
          "base_uri": "https://localhost:8080/",
          "height": 459
        }
      },
      "source": [
        "df_merged.info()"
      ],
      "execution_count": null,
      "outputs": [
        {
          "output_type": "stream",
          "text": [
            "<class 'pandas.core.frame.DataFrame'>\n",
            "Int64Index: 30925738 entries, 0 to 30925737\n",
            "Data columns (total 19 columns):\n",
            " #   Column           Dtype         \n",
            "---  ------           -----         \n",
            " 0   id               int64         \n",
            " 1   origin_taz       object        \n",
            " 2   destination_taz  object        \n",
            " 3   trip_distance    float64       \n",
            " 4   pu_date          datetime64[ns]\n",
            " 5   year             int64         \n",
            " 6   month            int64         \n",
            " 7   day              int64         \n",
            " 8   hour             int64         \n",
            " 9   weekday          int64         \n",
            " 10  duration_min     float64       \n",
            " 11  trip_mph_avg     float64       \n",
            " 12  est_revenue      float64       \n",
            " 13  prcp             float64       \n",
            " 14  snwd             float64       \n",
            " 15  snow             float64       \n",
            " 16  tmax             int64         \n",
            " 17  tmin             int64         \n",
            " 18  awnd             float64       \n",
            "dtypes: datetime64[ns](1), float64(8), int64(8), object(2)\n",
            "memory usage: 4.6+ GB\n"
          ],
          "name": "stdout"
        }
      ]
    },
    {
      "cell_type": "code",
      "metadata": {
        "id": "i6KV6ZkLCeTI"
      },
      "source": [
        "#Show all dataframes in the environment:\n",
        "#%psearch df*"
      ],
      "execution_count": null,
      "outputs": []
    },
    {
      "cell_type": "code",
      "metadata": {
        "id": "akC8KMoICfEL"
      },
      "source": [
        ""
      ],
      "execution_count": null,
      "outputs": []
    },
    {
      "cell_type": "code",
      "metadata": {
        "id": "4G7_B4TgCfIL"
      },
      "source": [
        ""
      ],
      "execution_count": null,
      "outputs": []
    }
  ]
}